{
 "cells": [
  {
   "cell_type": "markdown",
   "id": "fa3f0ed5-52b3-4a21-9136-2ac720fb707c",
   "metadata": {},
   "source": [
    "<center>\n",
    "\n",
    "# 📝 Project Title : Google-Play-Store Analysis with Machine Learning\n",
    "\n",
    "---\n",
    "\n",
    "**👤 Name**: [Kumpatla Pavankumar]  \n",
    "**🔢 Reg No**: [12206445]  \n",
    "**📚 Section**: [K22UN]  \n",
    "**🎓 Roll No**: [38]  \n",
    "**📘 Course Name**: [Machine Learning]  \n",
    "**💻 Course Code**: [CSM354]\n",
    "**👨‍🏫 Submitted to**: [Himanshu Gajanan Tikle]\n",
    "\n",
    "</center>\n"
   ]
  },
  {
   "cell_type": "markdown",
   "id": "f5547e9a-532a-4055-8829-90590d8cfd15",
   "metadata": {},
   "source": [
    "## <center>✅ PROBLEM STATEMENT</center>\n",
    "- To analyze and predict the performance of Android applications on the Google Play Store using key app features such as category, size, number of installs, price, content rating, and more. The goal is to build a machine learning model that can predict the user rating of an app or classify apps based on their success factors.\n",
    "- To identify the key factors that drive the popularity of an app on the Google Play Store, by analyzing attributes such as app category, size, content rating, price, and more. The objective is to build a classification model to predict whether an app will cross a specific threshold of installs (e.g., 1 million+ installs), helping developers optimize their app strategy."
   ]
  },
  {
   "cell_type": "markdown",
   "id": "60fd659e-4bef-47e6-bb92-f37d3bd57de4",
   "metadata": {},
   "source": [
    "## <center>✅ Justification for Solving the Problem</center>\n",
    "\n",
    "In today’s digital economy, mobile applications play a crucial role in engaging users and generating revenue. With over 2.5 million apps available on the Google Play Store, it becomes increasingly important for developers and stakeholders to understand what makes an app **popular** and widely downloaded.\n",
    "\n",
    "Predicting an app's popularity based on its features—such as category, size, content rating, and pricing—can provide **valuable insights for developers, marketers, and investors**. By identifying patterns that lead to higher install rates, stakeholders can:\n",
    "\n",
    "- **Optimize app development** strategies (e.g., choosing the right category, pricing, and app size).\n",
    "- **Increase user engagement and downloads**, leading to better visibility and potential revenue.\n",
    "- **Support data-driven decisions** for app launches, updates, and monetization models.\n",
    "- **Reduce market entry risk** by aligning app characteristics with user demand and trends.\n",
    "\n",
    "From a machine learning perspective, this is a relevant, real-world classification task involving both categorical and numerical data, requiring thoughtful preprocessing, feature engineering, and model selection. It’s also a great case study for building **explainable AI systems** that can justify their predictions based on key app features.\n"
   ]
  },
  {
   "cell_type": "markdown",
   "id": "07956eec-970f-4c86-843c-9bf67bcb44a3",
   "metadata": {},
   "source": [
    "## 📄 Column Descriptions - Google Play Store Dataset\n",
    "\n",
    "| Column Name     | Description |\n",
    "|----------------|-------------|\n",
    "| **App**         | Name of the application. |\n",
    "| **Category**    | Category under which the app is listed on the Play Store. |\n",
    "| **Rating**      | Average user rating of the app (out of 5). |\n",
    "| **Reviews**     | Total number of user reviews for the app. |\n",
    "| **Size**        | Size of the app (in MB or KB, sometimes 'Varies with device'). |\n",
    "| **Installs**    | Number of times the app has been installed. |\n",
    "| **Type**        | Indicates whether the app is Free or Paid. |\n",
    "| **Price**       | Price of the app (if it is paid). |\n",
    "| **ContentRating** | Target age group for the app (e.g., Everyone, Teen). |\n",
    "| **Genres**      | Genre(s) of the app (sometimes multiple genres). |\n",
    "| **LastUpdated** | The date when the app was last updated on the Play Store. |\n",
    "| **CurrentVer**  | The current version of the app available. |\n",
    "| **AndroidVer**  | Minimum required Android version to run the app. |"
   ]
  },
  {
   "cell_type": "markdown",
   "id": "bed9f5f3-33ec-4609-be2e-ec011aba0087",
   "metadata": {},
   "source": [
    "## 📦 Python Libraries Used (Up to Machine Learning Phase)\n",
    "\n",
    "### 🧮 Data Handling\n",
    "- `pandas` – For loading and manipulating structured data.\n",
    "- `numpy` – For numerical operations and handling arrays.\n",
    "\n",
    "### 📊 Data Visualization\n",
    "- `matplotlib.pyplot` – For creating static visualizations and plots.\n",
    "- `seaborn` – For advanced and visually appealing statistical plots.\n",
    "  \n",
    "### 📅 Date Handling\n",
    "- `datetime` – For working with date and time features.\n",
    "\n",
    "### ⚠️ Miscellaneous\n",
    "- `warnings` – To suppress warning messages during development.\n"
   ]
  },
  {
   "cell_type": "markdown",
   "id": "0128bfca-1347-4453-b38e-fa1e4da77144",
   "metadata": {},
   "source": []
  },
  {
   "cell_type": "code",
   "execution_count": null,
   "id": "092df977-c853-48c9-9a86-dcf6be7bc36c",
   "metadata": {},
   "outputs": [],
   "source": []
  },
  {
   "cell_type": "markdown",
   "id": "3dc310dd-c3ea-41d2-bdc6-6019e89e4e08",
   "metadata": {},
   "source": [
    "- #### 📌 Importing Libraries"
   ]
  },
  {
   "cell_type": "code",
   "execution_count": 532,
   "id": "44247a78-daee-4bd1-9204-2c0155bc8271",
   "metadata": {},
   "outputs": [],
   "source": [
    "import pandas as pd\n",
    "import numpy as np"
   ]
  },
  {
   "cell_type": "markdown",
   "id": "e77b23ce-a7bc-4ce6-b8cb-dc74ceb08164",
   "metadata": {},
   "source": [
    "- #### 📌 Importing Dataset"
   ]
  },
  {
   "cell_type": "code",
   "execution_count": 535,
   "id": "d5664185-ba2e-4336-baed-92bb1a096883",
   "metadata": {},
   "outputs": [
    {
     "data": {
      "text/html": [
       "<div>\n",
       "<style scoped>\n",
       "    .dataframe tbody tr th:only-of-type {\n",
       "        vertical-align: middle;\n",
       "    }\n",
       "\n",
       "    .dataframe tbody tr th {\n",
       "        vertical-align: top;\n",
       "    }\n",
       "\n",
       "    .dataframe thead th {\n",
       "        text-align: right;\n",
       "    }\n",
       "</style>\n",
       "<table border=\"1\" class=\"dataframe\">\n",
       "  <thead>\n",
       "    <tr style=\"text-align: right;\">\n",
       "      <th></th>\n",
       "      <th>googleplaystore</th>\n",
       "      <th>Unnamed: 1</th>\n",
       "      <th>Unnamed: 2</th>\n",
       "      <th>Unnamed: 3</th>\n",
       "      <th>Unnamed: 4</th>\n",
       "      <th>Unnamed: 5</th>\n",
       "      <th>Unnamed: 6</th>\n",
       "      <th>Unnamed: 7</th>\n",
       "      <th>Unnamed: 8</th>\n",
       "      <th>Unnamed: 9</th>\n",
       "      <th>Unnamed: 10</th>\n",
       "      <th>Unnamed: 11</th>\n",
       "      <th>Unnamed: 12</th>\n",
       "    </tr>\n",
       "  </thead>\n",
       "  <tbody>\n",
       "    <tr>\n",
       "      <th>0</th>\n",
       "      <td>Unnamed: 1</td>\n",
       "      <td>NaN</td>\n",
       "      <td>NaN</td>\n",
       "      <td>Unnamed:4</td>\n",
       "      <td>Unnamed: 5</td>\n",
       "      <td>NaN</td>\n",
       "      <td>NaN</td>\n",
       "      <td>NaN</td>\n",
       "      <td>Unnamed: 9</td>\n",
       "      <td>Unnamed: 10</td>\n",
       "      <td>Unnamed: 11</td>\n",
       "      <td>Unnamed: 12</td>\n",
       "      <td>NaN</td>\n",
       "    </tr>\n",
       "    <tr>\n",
       "      <th>1</th>\n",
       "      <td>App</td>\n",
       "      <td>Category</td>\n",
       "      <td>Rating</td>\n",
       "      <td>Reviews</td>\n",
       "      <td>Size</td>\n",
       "      <td>Installs</td>\n",
       "      <td>Type</td>\n",
       "      <td>Price</td>\n",
       "      <td>ContentRating</td>\n",
       "      <td>Genres</td>\n",
       "      <td>LastUpdated</td>\n",
       "      <td>CurrentVer</td>\n",
       "      <td>AndroidVer</td>\n",
       "    </tr>\n",
       "    <tr>\n",
       "      <th>2</th>\n",
       "      <td>Photo Editor &amp; Candy Camera &amp; Grid &amp; ScrapBook</td>\n",
       "      <td>ART_AND_DESIGN</td>\n",
       "      <td>4.1</td>\n",
       "      <td>159</td>\n",
       "      <td>19M</td>\n",
       "      <td>10,000+</td>\n",
       "      <td>Free</td>\n",
       "      <td>0</td>\n",
       "      <td>Everyone</td>\n",
       "      <td>Art &amp; Design</td>\n",
       "      <td>January 7, 2018</td>\n",
       "      <td>1.0.0</td>\n",
       "      <td>4.0.3 and up</td>\n",
       "    </tr>\n",
       "    <tr>\n",
       "      <th>3</th>\n",
       "      <td>Coloring book moana</td>\n",
       "      <td>ART_AND_DESIGN</td>\n",
       "      <td>3.9</td>\n",
       "      <td>967</td>\n",
       "      <td>14M</td>\n",
       "      <td>500,000+</td>\n",
       "      <td>Free</td>\n",
       "      <td>0</td>\n",
       "      <td>Everyone</td>\n",
       "      <td>Art &amp; Design;Pretend Play</td>\n",
       "      <td>January 15, 2018</td>\n",
       "      <td>2.0.0</td>\n",
       "      <td>4.0.3 and up</td>\n",
       "    </tr>\n",
       "    <tr>\n",
       "      <th>4</th>\n",
       "      <td>U Launcher Lite – FREE Live Cool Themes, Hide ...</td>\n",
       "      <td>ART_AND_DESIGN</td>\n",
       "      <td>4.7</td>\n",
       "      <td>87510</td>\n",
       "      <td>8.7M</td>\n",
       "      <td>5,000,000+</td>\n",
       "      <td>Free</td>\n",
       "      <td>0</td>\n",
       "      <td>Everyone</td>\n",
       "      <td>Art &amp; Design</td>\n",
       "      <td>August 1, 2018</td>\n",
       "      <td>1.2.4</td>\n",
       "      <td>4.0.3 and up</td>\n",
       "    </tr>\n",
       "    <tr>\n",
       "      <th>5</th>\n",
       "      <td>Sketch - Draw &amp; Paint</td>\n",
       "      <td>ART_AND_DESIGN</td>\n",
       "      <td>4.5</td>\n",
       "      <td>215644</td>\n",
       "      <td>25M</td>\n",
       "      <td>50,000,000+</td>\n",
       "      <td>Free</td>\n",
       "      <td>0</td>\n",
       "      <td>Teen</td>\n",
       "      <td>Art &amp; Design</td>\n",
       "      <td>June 8, 2018</td>\n",
       "      <td>Varies with device</td>\n",
       "      <td>4.2 and up</td>\n",
       "    </tr>\n",
       "    <tr>\n",
       "      <th>6</th>\n",
       "      <td>Pixel Draw - Number Art Coloring Book</td>\n",
       "      <td>ART_AND_DESIGN</td>\n",
       "      <td>4.3</td>\n",
       "      <td>967</td>\n",
       "      <td>2.8M</td>\n",
       "      <td>100,000+</td>\n",
       "      <td>Free</td>\n",
       "      <td>0</td>\n",
       "      <td>Everyone</td>\n",
       "      <td>Art &amp; Design;Creativity</td>\n",
       "      <td>June 20, 2018</td>\n",
       "      <td>1.1</td>\n",
       "      <td>4.4 and up</td>\n",
       "    </tr>\n",
       "    <tr>\n",
       "      <th>7</th>\n",
       "      <td>Paper flowers instructions</td>\n",
       "      <td>ART_AND_DESIGN</td>\n",
       "      <td>4.4</td>\n",
       "      <td>167</td>\n",
       "      <td>5.6M</td>\n",
       "      <td>50,000+</td>\n",
       "      <td>Free</td>\n",
       "      <td>0</td>\n",
       "      <td>Everyone</td>\n",
       "      <td>Art &amp; Design</td>\n",
       "      <td>March 26, 2017</td>\n",
       "      <td>1</td>\n",
       "      <td>2.3 and up</td>\n",
       "    </tr>\n",
       "    <tr>\n",
       "      <th>8</th>\n",
       "      <td>Smoke Effect Photo Maker - Smoke Editor</td>\n",
       "      <td>ART_AND_DESIGN</td>\n",
       "      <td>3.8</td>\n",
       "      <td>178</td>\n",
       "      <td>19M</td>\n",
       "      <td>50,000+</td>\n",
       "      <td>Free</td>\n",
       "      <td>0</td>\n",
       "      <td>Everyone</td>\n",
       "      <td>Art &amp; Design</td>\n",
       "      <td>April 26, 2018</td>\n",
       "      <td>1.1</td>\n",
       "      <td>4.0.3 and up</td>\n",
       "    </tr>\n",
       "    <tr>\n",
       "      <th>9</th>\n",
       "      <td>Infinite Painter</td>\n",
       "      <td>ART_AND_DESIGN</td>\n",
       "      <td>4.1</td>\n",
       "      <td>36815</td>\n",
       "      <td>29M</td>\n",
       "      <td>1,000,000+</td>\n",
       "      <td>Free</td>\n",
       "      <td>0</td>\n",
       "      <td>Everyone</td>\n",
       "      <td>Art &amp; Design</td>\n",
       "      <td>June 14, 2018</td>\n",
       "      <td>6.1.61.1</td>\n",
       "      <td>4.2 and up</td>\n",
       "    </tr>\n",
       "  </tbody>\n",
       "</table>\n",
       "</div>"
      ],
      "text/plain": [
       "                                     googleplaystore      Unnamed: 1  \\\n",
       "0                                         Unnamed: 1             NaN   \n",
       "1                                                App        Category   \n",
       "2     Photo Editor & Candy Camera & Grid & ScrapBook  ART_AND_DESIGN   \n",
       "3                                Coloring book moana  ART_AND_DESIGN   \n",
       "4  U Launcher Lite – FREE Live Cool Themes, Hide ...  ART_AND_DESIGN   \n",
       "5                              Sketch - Draw & Paint  ART_AND_DESIGN   \n",
       "6              Pixel Draw - Number Art Coloring Book  ART_AND_DESIGN   \n",
       "7                         Paper flowers instructions  ART_AND_DESIGN   \n",
       "8            Smoke Effect Photo Maker - Smoke Editor  ART_AND_DESIGN   \n",
       "9                                   Infinite Painter  ART_AND_DESIGN   \n",
       "\n",
       "  Unnamed: 2 Unnamed: 3  Unnamed: 4   Unnamed: 5 Unnamed: 6 Unnamed: 7  \\\n",
       "0        NaN  Unnamed:4  Unnamed: 5          NaN        NaN        NaN   \n",
       "1     Rating    Reviews        Size     Installs       Type      Price   \n",
       "2        4.1        159         19M      10,000+       Free          0   \n",
       "3        3.9        967         14M     500,000+       Free          0   \n",
       "4        4.7      87510        8.7M   5,000,000+       Free          0   \n",
       "5        4.5     215644         25M  50,000,000+       Free          0   \n",
       "6        4.3        967        2.8M     100,000+       Free          0   \n",
       "7        4.4        167        5.6M      50,000+       Free          0   \n",
       "8        3.8        178         19M      50,000+       Free          0   \n",
       "9        4.1      36815         29M   1,000,000+       Free          0   \n",
       "\n",
       "      Unnamed: 8                 Unnamed: 9       Unnamed: 10  \\\n",
       "0     Unnamed: 9                Unnamed: 10       Unnamed: 11   \n",
       "1  ContentRating                     Genres       LastUpdated   \n",
       "2       Everyone               Art & Design   January 7, 2018   \n",
       "3       Everyone  Art & Design;Pretend Play  January 15, 2018   \n",
       "4       Everyone               Art & Design    August 1, 2018   \n",
       "5           Teen               Art & Design      June 8, 2018   \n",
       "6       Everyone    Art & Design;Creativity     June 20, 2018   \n",
       "7       Everyone               Art & Design    March 26, 2017   \n",
       "8       Everyone               Art & Design    April 26, 2018   \n",
       "9       Everyone               Art & Design     June 14, 2018   \n",
       "\n",
       "          Unnamed: 11   Unnamed: 12  \n",
       "0         Unnamed: 12           NaN  \n",
       "1          CurrentVer    AndroidVer  \n",
       "2               1.0.0  4.0.3 and up  \n",
       "3               2.0.0  4.0.3 and up  \n",
       "4               1.2.4  4.0.3 and up  \n",
       "5  Varies with device    4.2 and up  \n",
       "6                 1.1    4.4 and up  \n",
       "7                   1    2.3 and up  \n",
       "8                 1.1  4.0.3 and up  \n",
       "9            6.1.61.1    4.2 and up  "
      ]
     },
     "execution_count": 535,
     "metadata": {},
     "output_type": "execute_result"
    }
   ],
   "source": [
    "inp0=pd.read_csv(\"Excels\\googleplaystore.csv\")\n",
    "inp0.head(10)"
   ]
  },
  {
   "cell_type": "markdown",
   "id": "641a240d-5618-4cce-8581-fbf8794bdc60",
   "metadata": {},
   "source": [
    "- #### 📌 Dimensions of the Google Play Store Dataset"
   ]
  },
  {
   "cell_type": "code",
   "execution_count": 538,
   "id": "c24385a3-8bb0-4718-92fe-502dc947122e",
   "metadata": {},
   "outputs": [
    {
     "data": {
      "text/plain": [
       "(10843, 13)"
      ]
     },
     "execution_count": 538,
     "metadata": {},
     "output_type": "execute_result"
    }
   ],
   "source": [
    "inp0.shape"
   ]
  },
  {
   "cell_type": "markdown",
   "id": "5f709aa5-f128-4304-85f4-48eb2e67c3fe",
   "metadata": {},
   "source": [
    "<center>\n",
    "\n",
    "### 🧹🧼 **Data Cleaning Process** ✨\n",
    "\n",
    "</center>\n"
   ]
  },
  {
   "cell_type": "markdown",
   "id": "cb145387-3f50-4350-bbae-82d25c45d1ca",
   "metadata": {},
   "source": [
    "- #### 📌 Loading Google Play Store Data (Skipping First Two Rows)"
   ]
  },
  {
   "cell_type": "code",
   "execution_count": 542,
   "id": "bbcc87d5-36f7-4bc3-8cc1-b85bd6e66e7e",
   "metadata": {},
   "outputs": [
    {
     "data": {
      "text/html": [
       "<div>\n",
       "<style scoped>\n",
       "    .dataframe tbody tr th:only-of-type {\n",
       "        vertical-align: middle;\n",
       "    }\n",
       "\n",
       "    .dataframe tbody tr th {\n",
       "        vertical-align: top;\n",
       "    }\n",
       "\n",
       "    .dataframe thead th {\n",
       "        text-align: right;\n",
       "    }\n",
       "</style>\n",
       "<table border=\"1\" class=\"dataframe\">\n",
       "  <thead>\n",
       "    <tr style=\"text-align: right;\">\n",
       "      <th></th>\n",
       "      <th>App</th>\n",
       "      <th>Category</th>\n",
       "      <th>Rating</th>\n",
       "      <th>Reviews</th>\n",
       "      <th>Size</th>\n",
       "      <th>Installs</th>\n",
       "      <th>Type</th>\n",
       "      <th>Price</th>\n",
       "      <th>ContentRating</th>\n",
       "      <th>Genres</th>\n",
       "      <th>LastUpdated</th>\n",
       "      <th>CurrentVer</th>\n",
       "      <th>AndroidVer</th>\n",
       "    </tr>\n",
       "  </thead>\n",
       "  <tbody>\n",
       "    <tr>\n",
       "      <th>0</th>\n",
       "      <td>Photo Editor &amp; Candy Camera &amp; Grid &amp; ScrapBook</td>\n",
       "      <td>ART_AND_DESIGN</td>\n",
       "      <td>4.1</td>\n",
       "      <td>159</td>\n",
       "      <td>19M</td>\n",
       "      <td>10,000+</td>\n",
       "      <td>Free</td>\n",
       "      <td>0</td>\n",
       "      <td>Everyone</td>\n",
       "      <td>Art &amp; Design</td>\n",
       "      <td>January 7, 2018</td>\n",
       "      <td>1.0.0</td>\n",
       "      <td>4.0.3 and up</td>\n",
       "    </tr>\n",
       "    <tr>\n",
       "      <th>1</th>\n",
       "      <td>Coloring book moana</td>\n",
       "      <td>ART_AND_DESIGN</td>\n",
       "      <td>3.9</td>\n",
       "      <td>967</td>\n",
       "      <td>14M</td>\n",
       "      <td>500,000+</td>\n",
       "      <td>Free</td>\n",
       "      <td>0</td>\n",
       "      <td>Everyone</td>\n",
       "      <td>Art &amp; Design;Pretend Play</td>\n",
       "      <td>January 15, 2018</td>\n",
       "      <td>2.0.0</td>\n",
       "      <td>4.0.3 and up</td>\n",
       "    </tr>\n",
       "    <tr>\n",
       "      <th>2</th>\n",
       "      <td>U Launcher Lite – FREE Live Cool Themes, Hide ...</td>\n",
       "      <td>ART_AND_DESIGN</td>\n",
       "      <td>4.7</td>\n",
       "      <td>87510</td>\n",
       "      <td>8.7M</td>\n",
       "      <td>5,000,000+</td>\n",
       "      <td>Free</td>\n",
       "      <td>0</td>\n",
       "      <td>Everyone</td>\n",
       "      <td>Art &amp; Design</td>\n",
       "      <td>August 1, 2018</td>\n",
       "      <td>1.2.4</td>\n",
       "      <td>4.0.3 and up</td>\n",
       "    </tr>\n",
       "    <tr>\n",
       "      <th>3</th>\n",
       "      <td>Sketch - Draw &amp; Paint</td>\n",
       "      <td>ART_AND_DESIGN</td>\n",
       "      <td>4.5</td>\n",
       "      <td>215644</td>\n",
       "      <td>25M</td>\n",
       "      <td>50,000,000+</td>\n",
       "      <td>Free</td>\n",
       "      <td>0</td>\n",
       "      <td>Teen</td>\n",
       "      <td>Art &amp; Design</td>\n",
       "      <td>June 8, 2018</td>\n",
       "      <td>Varies with device</td>\n",
       "      <td>4.2 and up</td>\n",
       "    </tr>\n",
       "    <tr>\n",
       "      <th>4</th>\n",
       "      <td>Pixel Draw - Number Art Coloring Book</td>\n",
       "      <td>ART_AND_DESIGN</td>\n",
       "      <td>4.3</td>\n",
       "      <td>967</td>\n",
       "      <td>2.8M</td>\n",
       "      <td>100,000+</td>\n",
       "      <td>Free</td>\n",
       "      <td>0</td>\n",
       "      <td>Everyone</td>\n",
       "      <td>Art &amp; Design;Creativity</td>\n",
       "      <td>June 20, 2018</td>\n",
       "      <td>1.1</td>\n",
       "      <td>4.4 and up</td>\n",
       "    </tr>\n",
       "    <tr>\n",
       "      <th>5</th>\n",
       "      <td>Paper flowers instructions</td>\n",
       "      <td>ART_AND_DESIGN</td>\n",
       "      <td>4.4</td>\n",
       "      <td>167</td>\n",
       "      <td>5.6M</td>\n",
       "      <td>50,000+</td>\n",
       "      <td>Free</td>\n",
       "      <td>0</td>\n",
       "      <td>Everyone</td>\n",
       "      <td>Art &amp; Design</td>\n",
       "      <td>March 26, 2017</td>\n",
       "      <td>1</td>\n",
       "      <td>2.3 and up</td>\n",
       "    </tr>\n",
       "    <tr>\n",
       "      <th>6</th>\n",
       "      <td>Smoke Effect Photo Maker - Smoke Editor</td>\n",
       "      <td>ART_AND_DESIGN</td>\n",
       "      <td>3.8</td>\n",
       "      <td>178</td>\n",
       "      <td>19M</td>\n",
       "      <td>50,000+</td>\n",
       "      <td>Free</td>\n",
       "      <td>0</td>\n",
       "      <td>Everyone</td>\n",
       "      <td>Art &amp; Design</td>\n",
       "      <td>April 26, 2018</td>\n",
       "      <td>1.1</td>\n",
       "      <td>4.0.3 and up</td>\n",
       "    </tr>\n",
       "    <tr>\n",
       "      <th>7</th>\n",
       "      <td>Infinite Painter</td>\n",
       "      <td>ART_AND_DESIGN</td>\n",
       "      <td>4.1</td>\n",
       "      <td>36815</td>\n",
       "      <td>29M</td>\n",
       "      <td>1,000,000+</td>\n",
       "      <td>Free</td>\n",
       "      <td>0</td>\n",
       "      <td>Everyone</td>\n",
       "      <td>Art &amp; Design</td>\n",
       "      <td>June 14, 2018</td>\n",
       "      <td>6.1.61.1</td>\n",
       "      <td>4.2 and up</td>\n",
       "    </tr>\n",
       "    <tr>\n",
       "      <th>8</th>\n",
       "      <td>Garden Coloring Book</td>\n",
       "      <td>ART_AND_DESIGN</td>\n",
       "      <td>4.4</td>\n",
       "      <td>13791</td>\n",
       "      <td>33M</td>\n",
       "      <td>1,000,000+</td>\n",
       "      <td>Free</td>\n",
       "      <td>0</td>\n",
       "      <td>Everyone</td>\n",
       "      <td>Art &amp; Design</td>\n",
       "      <td>September 20, 2017</td>\n",
       "      <td>2.9.2</td>\n",
       "      <td>3.0 and up</td>\n",
       "    </tr>\n",
       "    <tr>\n",
       "      <th>9</th>\n",
       "      <td>Kids Paint Free - Drawing Fun</td>\n",
       "      <td>ART_AND_DESIGN</td>\n",
       "      <td>4.7</td>\n",
       "      <td>121</td>\n",
       "      <td>3.1M</td>\n",
       "      <td>10,000+</td>\n",
       "      <td>Free</td>\n",
       "      <td>0</td>\n",
       "      <td>Everyone</td>\n",
       "      <td>Art &amp; Design;Creativity</td>\n",
       "      <td>July 3, 2018</td>\n",
       "      <td>2.8</td>\n",
       "      <td>4.0.3 and up</td>\n",
       "    </tr>\n",
       "  </tbody>\n",
       "</table>\n",
       "</div>"
      ],
      "text/plain": [
       "                                                 App        Category  Rating  \\\n",
       "0     Photo Editor & Candy Camera & Grid & ScrapBook  ART_AND_DESIGN     4.1   \n",
       "1                                Coloring book moana  ART_AND_DESIGN     3.9   \n",
       "2  U Launcher Lite – FREE Live Cool Themes, Hide ...  ART_AND_DESIGN     4.7   \n",
       "3                              Sketch - Draw & Paint  ART_AND_DESIGN     4.5   \n",
       "4              Pixel Draw - Number Art Coloring Book  ART_AND_DESIGN     4.3   \n",
       "5                         Paper flowers instructions  ART_AND_DESIGN     4.4   \n",
       "6            Smoke Effect Photo Maker - Smoke Editor  ART_AND_DESIGN     3.8   \n",
       "7                                   Infinite Painter  ART_AND_DESIGN     4.1   \n",
       "8                               Garden Coloring Book  ART_AND_DESIGN     4.4   \n",
       "9                      Kids Paint Free - Drawing Fun  ART_AND_DESIGN     4.7   \n",
       "\n",
       "  Reviews  Size     Installs  Type Price ContentRating  \\\n",
       "0     159   19M      10,000+  Free     0      Everyone   \n",
       "1     967   14M     500,000+  Free     0      Everyone   \n",
       "2   87510  8.7M   5,000,000+  Free     0      Everyone   \n",
       "3  215644   25M  50,000,000+  Free     0          Teen   \n",
       "4     967  2.8M     100,000+  Free     0      Everyone   \n",
       "5     167  5.6M      50,000+  Free     0      Everyone   \n",
       "6     178   19M      50,000+  Free     0      Everyone   \n",
       "7   36815   29M   1,000,000+  Free     0      Everyone   \n",
       "8   13791   33M   1,000,000+  Free     0      Everyone   \n",
       "9     121  3.1M      10,000+  Free     0      Everyone   \n",
       "\n",
       "                      Genres         LastUpdated          CurrentVer  \\\n",
       "0               Art & Design     January 7, 2018               1.0.0   \n",
       "1  Art & Design;Pretend Play    January 15, 2018               2.0.0   \n",
       "2               Art & Design      August 1, 2018               1.2.4   \n",
       "3               Art & Design        June 8, 2018  Varies with device   \n",
       "4    Art & Design;Creativity       June 20, 2018                 1.1   \n",
       "5               Art & Design      March 26, 2017                   1   \n",
       "6               Art & Design      April 26, 2018                 1.1   \n",
       "7               Art & Design       June 14, 2018            6.1.61.1   \n",
       "8               Art & Design  September 20, 2017               2.9.2   \n",
       "9    Art & Design;Creativity        July 3, 2018                 2.8   \n",
       "\n",
       "     AndroidVer  \n",
       "0  4.0.3 and up  \n",
       "1  4.0.3 and up  \n",
       "2  4.0.3 and up  \n",
       "3    4.2 and up  \n",
       "4    4.4 and up  \n",
       "5    2.3 and up  \n",
       "6  4.0.3 and up  \n",
       "7    4.2 and up  \n",
       "8    3.0 and up  \n",
       "9  4.0.3 and up  "
      ]
     },
     "execution_count": 542,
     "metadata": {},
     "output_type": "execute_result"
    }
   ],
   "source": [
    "inp0=pd.read_csv(\"Excels\\googleplaystore.csv\",skiprows=2)\n",
    "inp0.head(10)"
   ]
  },
  {
   "cell_type": "markdown",
   "id": "8e2e10a7-ba69-4f76-b596-ecfa0765f69e",
   "metadata": {},
   "source": [
    "- ####  📌 To get missing in each columns"
   ]
  },
  {
   "cell_type": "code",
   "execution_count": 545,
   "id": "3371378f-5dae-47b8-8250-b96142548a42",
   "metadata": {},
   "outputs": [
    {
     "data": {
      "text/plain": [
       "App                 0\n",
       "Category            0\n",
       "Rating           1474\n",
       "Reviews             0\n",
       "Size                0\n",
       "Installs            0\n",
       "Type                1\n",
       "Price               0\n",
       "ContentRating       1\n",
       "Genres              0\n",
       "LastUpdated         0\n",
       "CurrentVer          8\n",
       "AndroidVer          3\n",
       "dtype: int64"
      ]
     },
     "execution_count": 545,
     "metadata": {},
     "output_type": "execute_result"
    }
   ],
   "source": [
    "inp0.isnull().sum()"
   ]
  },
  {
   "cell_type": "markdown",
   "id": "5a0e457c-e2f0-430f-acc4-1d8d34bcf9e2",
   "metadata": {},
   "source": [
    "- #### 📌 To get more information about the dataset"
   ]
  },
  {
   "cell_type": "code",
   "execution_count": 548,
   "id": "d71ebafe-fd36-43de-9e55-2e0a7a5ea56a",
   "metadata": {},
   "outputs": [
    {
     "name": "stdout",
     "output_type": "stream",
     "text": [
      "<class 'pandas.core.frame.DataFrame'>\n",
      "RangeIndex: 10841 entries, 0 to 10840\n",
      "Data columns (total 13 columns):\n",
      " #   Column         Non-Null Count  Dtype  \n",
      "---  ------         --------------  -----  \n",
      " 0   App            10841 non-null  object \n",
      " 1   Category       10841 non-null  object \n",
      " 2   Rating         9367 non-null   float64\n",
      " 3   Reviews        10841 non-null  object \n",
      " 4   Size           10841 non-null  object \n",
      " 5   Installs       10841 non-null  object \n",
      " 6   Type           10840 non-null  object \n",
      " 7   Price          10841 non-null  object \n",
      " 8   ContentRating  10840 non-null  object \n",
      " 9   Genres         10841 non-null  object \n",
      " 10  LastUpdated    10841 non-null  object \n",
      " 11  CurrentVer     10833 non-null  object \n",
      " 12  AndroidVer     10838 non-null  object \n",
      "dtypes: float64(1), object(12)\n",
      "memory usage: 1.1+ MB\n"
     ]
    }
   ],
   "source": [
    "inp0.info()"
   ]
  },
  {
   "cell_type": "markdown",
   "id": "38e5d049-7c43-43d2-a639-301c1ab665d3",
   "metadata": {},
   "source": [
    "- #### 📌 Summary Statistics of Google Play Store Data"
   ]
  },
  {
   "cell_type": "code",
   "execution_count": 551,
   "id": "ba1955ca-a56c-4a48-9fe3-730de7514676",
   "metadata": {},
   "outputs": [
    {
     "data": {
      "text/html": [
       "<div>\n",
       "<style scoped>\n",
       "    .dataframe tbody tr th:only-of-type {\n",
       "        vertical-align: middle;\n",
       "    }\n",
       "\n",
       "    .dataframe tbody tr th {\n",
       "        vertical-align: top;\n",
       "    }\n",
       "\n",
       "    .dataframe thead th {\n",
       "        text-align: right;\n",
       "    }\n",
       "</style>\n",
       "<table border=\"1\" class=\"dataframe\">\n",
       "  <thead>\n",
       "    <tr style=\"text-align: right;\">\n",
       "      <th></th>\n",
       "      <th>Rating</th>\n",
       "    </tr>\n",
       "  </thead>\n",
       "  <tbody>\n",
       "    <tr>\n",
       "      <th>count</th>\n",
       "      <td>9367.000000</td>\n",
       "    </tr>\n",
       "    <tr>\n",
       "      <th>mean</th>\n",
       "      <td>4.193338</td>\n",
       "    </tr>\n",
       "    <tr>\n",
       "      <th>std</th>\n",
       "      <td>0.537431</td>\n",
       "    </tr>\n",
       "    <tr>\n",
       "      <th>min</th>\n",
       "      <td>1.000000</td>\n",
       "    </tr>\n",
       "    <tr>\n",
       "      <th>25%</th>\n",
       "      <td>4.000000</td>\n",
       "    </tr>\n",
       "    <tr>\n",
       "      <th>50%</th>\n",
       "      <td>4.300000</td>\n",
       "    </tr>\n",
       "    <tr>\n",
       "      <th>75%</th>\n",
       "      <td>4.500000</td>\n",
       "    </tr>\n",
       "    <tr>\n",
       "      <th>max</th>\n",
       "      <td>19.000000</td>\n",
       "    </tr>\n",
       "  </tbody>\n",
       "</table>\n",
       "</div>"
      ],
      "text/plain": [
       "            Rating\n",
       "count  9367.000000\n",
       "mean      4.193338\n",
       "std       0.537431\n",
       "min       1.000000\n",
       "25%       4.000000\n",
       "50%       4.300000\n",
       "75%       4.500000\n",
       "max      19.000000"
      ]
     },
     "execution_count": 551,
     "metadata": {},
     "output_type": "execute_result"
    }
   ],
   "source": [
    "inp0.describe()"
   ]
  },
  {
   "cell_type": "markdown",
   "id": "d5af673c-709d-471d-b467-b42763774ed4",
   "metadata": {},
   "source": [
    "- #### 📌 Calculate Null Values Percentage"
   ]
  },
  {
   "cell_type": "code",
   "execution_count": 554,
   "id": "2c301c3b-bbd8-48ef-868c-69f4597ff018",
   "metadata": {},
   "outputs": [
    {
     "name": "stdout",
     "output_type": "stream",
     "text": [
      "App               0.000000\n",
      "Category          0.000000\n",
      "Rating           13.596532\n",
      "Reviews           0.000000\n",
      "Size              0.000000\n",
      "Installs          0.000000\n",
      "Type              0.009224\n",
      "Price             0.000000\n",
      "ContentRating     0.009224\n",
      "Genres            0.000000\n",
      "LastUpdated       0.000000\n",
      "CurrentVer        0.073794\n",
      "AndroidVer        0.027673\n",
      "dtype: float64\n"
     ]
    }
   ],
   "source": [
    "# Assuming df is your DataFrame\n",
    "null_percentage = (inp0.isnull().sum() / len(inp0)) * 100\n",
    "# Display the percentage of missing values for each column\n",
    "print(null_percentage)"
   ]
  },
  {
   "cell_type": "markdown",
   "id": "8be4c6ae-bd01-4fc8-a300-f7556d6ff5f5",
   "metadata": {},
   "source": [
    "<center>\n",
    "\n",
    "### 🔄📊 **Dividing Columns for More Data** 💡\n",
    "\n",
    "</center>\n"
   ]
  },
  {
   "cell_type": "markdown",
   "id": "154fdfbd-aa8f-49ac-ac6c-62ba87498558",
   "metadata": {},
   "source": [
    "- #### 📌 Dividing LastUpdated Column into LastUpdated_Month_date and LastUpdated_Year"
   ]
  },
  {
   "cell_type": "markdown",
   "id": "5da0230d-6156-43d8-9d0b-44ccccc4c932",
   "metadata": {},
   "source": [
    "- #### 📌 Extracting Month and Date from the \"LastUpdated\" Column"
   ]
  },
  {
   "cell_type": "code",
   "execution_count": 559,
   "id": "8f8c3dfb-5802-4855-9cb0-bdcba767e56f",
   "metadata": {},
   "outputs": [
    {
     "data": {
      "text/html": [
       "<div>\n",
       "<style scoped>\n",
       "    .dataframe tbody tr th:only-of-type {\n",
       "        vertical-align: middle;\n",
       "    }\n",
       "\n",
       "    .dataframe tbody tr th {\n",
       "        vertical-align: top;\n",
       "    }\n",
       "\n",
       "    .dataframe thead th {\n",
       "        text-align: right;\n",
       "    }\n",
       "</style>\n",
       "<table border=\"1\" class=\"dataframe\">\n",
       "  <thead>\n",
       "    <tr style=\"text-align: right;\">\n",
       "      <th></th>\n",
       "      <th>App</th>\n",
       "      <th>Category</th>\n",
       "      <th>Rating</th>\n",
       "      <th>Reviews</th>\n",
       "      <th>Size</th>\n",
       "      <th>Installs</th>\n",
       "      <th>Type</th>\n",
       "      <th>Price</th>\n",
       "      <th>ContentRating</th>\n",
       "      <th>Genres</th>\n",
       "      <th>LastUpdated</th>\n",
       "      <th>CurrentVer</th>\n",
       "      <th>AndroidVer</th>\n",
       "      <th>LastUpdated_Month_date</th>\n",
       "    </tr>\n",
       "  </thead>\n",
       "  <tbody>\n",
       "    <tr>\n",
       "      <th>0</th>\n",
       "      <td>Photo Editor &amp; Candy Camera &amp; Grid &amp; ScrapBook</td>\n",
       "      <td>ART_AND_DESIGN</td>\n",
       "      <td>4.1</td>\n",
       "      <td>159</td>\n",
       "      <td>19M</td>\n",
       "      <td>10,000+</td>\n",
       "      <td>Free</td>\n",
       "      <td>0</td>\n",
       "      <td>Everyone</td>\n",
       "      <td>Art &amp; Design</td>\n",
       "      <td>January 7, 2018</td>\n",
       "      <td>1.0.0</td>\n",
       "      <td>4.0.3 and up</td>\n",
       "      <td>January 7</td>\n",
       "    </tr>\n",
       "    <tr>\n",
       "      <th>1</th>\n",
       "      <td>Coloring book moana</td>\n",
       "      <td>ART_AND_DESIGN</td>\n",
       "      <td>3.9</td>\n",
       "      <td>967</td>\n",
       "      <td>14M</td>\n",
       "      <td>500,000+</td>\n",
       "      <td>Free</td>\n",
       "      <td>0</td>\n",
       "      <td>Everyone</td>\n",
       "      <td>Art &amp; Design;Pretend Play</td>\n",
       "      <td>January 15, 2018</td>\n",
       "      <td>2.0.0</td>\n",
       "      <td>4.0.3 and up</td>\n",
       "      <td>January 15</td>\n",
       "    </tr>\n",
       "    <tr>\n",
       "      <th>2</th>\n",
       "      <td>U Launcher Lite – FREE Live Cool Themes, Hide ...</td>\n",
       "      <td>ART_AND_DESIGN</td>\n",
       "      <td>4.7</td>\n",
       "      <td>87510</td>\n",
       "      <td>8.7M</td>\n",
       "      <td>5,000,000+</td>\n",
       "      <td>Free</td>\n",
       "      <td>0</td>\n",
       "      <td>Everyone</td>\n",
       "      <td>Art &amp; Design</td>\n",
       "      <td>August 1, 2018</td>\n",
       "      <td>1.2.4</td>\n",
       "      <td>4.0.3 and up</td>\n",
       "      <td>August 1</td>\n",
       "    </tr>\n",
       "    <tr>\n",
       "      <th>3</th>\n",
       "      <td>Sketch - Draw &amp; Paint</td>\n",
       "      <td>ART_AND_DESIGN</td>\n",
       "      <td>4.5</td>\n",
       "      <td>215644</td>\n",
       "      <td>25M</td>\n",
       "      <td>50,000,000+</td>\n",
       "      <td>Free</td>\n",
       "      <td>0</td>\n",
       "      <td>Teen</td>\n",
       "      <td>Art &amp; Design</td>\n",
       "      <td>June 8, 2018</td>\n",
       "      <td>Varies with device</td>\n",
       "      <td>4.2 and up</td>\n",
       "      <td>June 8</td>\n",
       "    </tr>\n",
       "    <tr>\n",
       "      <th>4</th>\n",
       "      <td>Pixel Draw - Number Art Coloring Book</td>\n",
       "      <td>ART_AND_DESIGN</td>\n",
       "      <td>4.3</td>\n",
       "      <td>967</td>\n",
       "      <td>2.8M</td>\n",
       "      <td>100,000+</td>\n",
       "      <td>Free</td>\n",
       "      <td>0</td>\n",
       "      <td>Everyone</td>\n",
       "      <td>Art &amp; Design;Creativity</td>\n",
       "      <td>June 20, 2018</td>\n",
       "      <td>1.1</td>\n",
       "      <td>4.4 and up</td>\n",
       "      <td>June 20</td>\n",
       "    </tr>\n",
       "  </tbody>\n",
       "</table>\n",
       "</div>"
      ],
      "text/plain": [
       "                                                 App        Category  Rating  \\\n",
       "0     Photo Editor & Candy Camera & Grid & ScrapBook  ART_AND_DESIGN     4.1   \n",
       "1                                Coloring book moana  ART_AND_DESIGN     3.9   \n",
       "2  U Launcher Lite – FREE Live Cool Themes, Hide ...  ART_AND_DESIGN     4.7   \n",
       "3                              Sketch - Draw & Paint  ART_AND_DESIGN     4.5   \n",
       "4              Pixel Draw - Number Art Coloring Book  ART_AND_DESIGN     4.3   \n",
       "\n",
       "  Reviews  Size     Installs  Type Price ContentRating  \\\n",
       "0     159   19M      10,000+  Free     0      Everyone   \n",
       "1     967   14M     500,000+  Free     0      Everyone   \n",
       "2   87510  8.7M   5,000,000+  Free     0      Everyone   \n",
       "3  215644   25M  50,000,000+  Free     0          Teen   \n",
       "4     967  2.8M     100,000+  Free     0      Everyone   \n",
       "\n",
       "                      Genres       LastUpdated          CurrentVer  \\\n",
       "0               Art & Design   January 7, 2018               1.0.0   \n",
       "1  Art & Design;Pretend Play  January 15, 2018               2.0.0   \n",
       "2               Art & Design    August 1, 2018               1.2.4   \n",
       "3               Art & Design      June 8, 2018  Varies with device   \n",
       "4    Art & Design;Creativity     June 20, 2018                 1.1   \n",
       "\n",
       "     AndroidVer LastUpdated_Month_date  \n",
       "0  4.0.3 and up              January 7  \n",
       "1  4.0.3 and up             January 15  \n",
       "2  4.0.3 and up               August 1  \n",
       "3    4.2 and up                 June 8  \n",
       "4    4.4 and up                June 20  "
      ]
     },
     "execution_count": 559,
     "metadata": {},
     "output_type": "execute_result"
    }
   ],
   "source": [
    "inp0[\"LastUpdated_Month_date\"]=inp0.LastUpdated.apply(lambda x: x.split(\",\")[0])\n",
    "inp0.head()"
   ]
  },
  {
   "cell_type": "markdown",
   "id": "f2be9793-d2a1-44cf-86f3-a9ec65de65ff",
   "metadata": {},
   "source": [
    "- #### 📌 Handling Missing Data in 'LastUpdated' by Replacing NaN with Empty String"
   ]
  },
  {
   "cell_type": "code",
   "execution_count": 562,
   "id": "a951b372-108d-4639-a58d-99411ac92746",
   "metadata": {},
   "outputs": [],
   "source": [
    "inp0[\"LastUpdated\"] = inp0[\"LastUpdated\"].fillna('')"
   ]
  },
  {
   "cell_type": "markdown",
   "id": "574957e4-b9f1-4db6-bd57-16f2a24e98d2",
   "metadata": {},
   "source": [
    "- #### 📌 Extracting the Year from the 'LastUpdated' Column"
   ]
  },
  {
   "cell_type": "code",
   "execution_count": 565,
   "id": "18484e32-c8c3-4e47-bf50-8da1fb711f30",
   "metadata": {},
   "outputs": [
    {
     "data": {
      "text/html": [
       "<div>\n",
       "<style scoped>\n",
       "    .dataframe tbody tr th:only-of-type {\n",
       "        vertical-align: middle;\n",
       "    }\n",
       "\n",
       "    .dataframe tbody tr th {\n",
       "        vertical-align: top;\n",
       "    }\n",
       "\n",
       "    .dataframe thead th {\n",
       "        text-align: right;\n",
       "    }\n",
       "</style>\n",
       "<table border=\"1\" class=\"dataframe\">\n",
       "  <thead>\n",
       "    <tr style=\"text-align: right;\">\n",
       "      <th></th>\n",
       "      <th>App</th>\n",
       "      <th>Category</th>\n",
       "      <th>Rating</th>\n",
       "      <th>Reviews</th>\n",
       "      <th>Size</th>\n",
       "      <th>Installs</th>\n",
       "      <th>Type</th>\n",
       "      <th>Price</th>\n",
       "      <th>ContentRating</th>\n",
       "      <th>Genres</th>\n",
       "      <th>LastUpdated</th>\n",
       "      <th>CurrentVer</th>\n",
       "      <th>AndroidVer</th>\n",
       "      <th>LastUpdated_Month_date</th>\n",
       "      <th>LastUpdated_Year</th>\n",
       "    </tr>\n",
       "  </thead>\n",
       "  <tbody>\n",
       "    <tr>\n",
       "      <th>0</th>\n",
       "      <td>Photo Editor &amp; Candy Camera &amp; Grid &amp; ScrapBook</td>\n",
       "      <td>ART_AND_DESIGN</td>\n",
       "      <td>4.1</td>\n",
       "      <td>159</td>\n",
       "      <td>19M</td>\n",
       "      <td>10,000+</td>\n",
       "      <td>Free</td>\n",
       "      <td>0</td>\n",
       "      <td>Everyone</td>\n",
       "      <td>Art &amp; Design</td>\n",
       "      <td>January 7, 2018</td>\n",
       "      <td>1.0.0</td>\n",
       "      <td>4.0.3 and up</td>\n",
       "      <td>January 7</td>\n",
       "      <td>2018</td>\n",
       "    </tr>\n",
       "    <tr>\n",
       "      <th>1</th>\n",
       "      <td>Coloring book moana</td>\n",
       "      <td>ART_AND_DESIGN</td>\n",
       "      <td>3.9</td>\n",
       "      <td>967</td>\n",
       "      <td>14M</td>\n",
       "      <td>500,000+</td>\n",
       "      <td>Free</td>\n",
       "      <td>0</td>\n",
       "      <td>Everyone</td>\n",
       "      <td>Art &amp; Design;Pretend Play</td>\n",
       "      <td>January 15, 2018</td>\n",
       "      <td>2.0.0</td>\n",
       "      <td>4.0.3 and up</td>\n",
       "      <td>January 15</td>\n",
       "      <td>2018</td>\n",
       "    </tr>\n",
       "    <tr>\n",
       "      <th>2</th>\n",
       "      <td>U Launcher Lite – FREE Live Cool Themes, Hide ...</td>\n",
       "      <td>ART_AND_DESIGN</td>\n",
       "      <td>4.7</td>\n",
       "      <td>87510</td>\n",
       "      <td>8.7M</td>\n",
       "      <td>5,000,000+</td>\n",
       "      <td>Free</td>\n",
       "      <td>0</td>\n",
       "      <td>Everyone</td>\n",
       "      <td>Art &amp; Design</td>\n",
       "      <td>August 1, 2018</td>\n",
       "      <td>1.2.4</td>\n",
       "      <td>4.0.3 and up</td>\n",
       "      <td>August 1</td>\n",
       "      <td>2018</td>\n",
       "    </tr>\n",
       "    <tr>\n",
       "      <th>3</th>\n",
       "      <td>Sketch - Draw &amp; Paint</td>\n",
       "      <td>ART_AND_DESIGN</td>\n",
       "      <td>4.5</td>\n",
       "      <td>215644</td>\n",
       "      <td>25M</td>\n",
       "      <td>50,000,000+</td>\n",
       "      <td>Free</td>\n",
       "      <td>0</td>\n",
       "      <td>Teen</td>\n",
       "      <td>Art &amp; Design</td>\n",
       "      <td>June 8, 2018</td>\n",
       "      <td>Varies with device</td>\n",
       "      <td>4.2 and up</td>\n",
       "      <td>June 8</td>\n",
       "      <td>2018</td>\n",
       "    </tr>\n",
       "    <tr>\n",
       "      <th>4</th>\n",
       "      <td>Pixel Draw - Number Art Coloring Book</td>\n",
       "      <td>ART_AND_DESIGN</td>\n",
       "      <td>4.3</td>\n",
       "      <td>967</td>\n",
       "      <td>2.8M</td>\n",
       "      <td>100,000+</td>\n",
       "      <td>Free</td>\n",
       "      <td>0</td>\n",
       "      <td>Everyone</td>\n",
       "      <td>Art &amp; Design;Creativity</td>\n",
       "      <td>June 20, 2018</td>\n",
       "      <td>1.1</td>\n",
       "      <td>4.4 and up</td>\n",
       "      <td>June 20</td>\n",
       "      <td>2018</td>\n",
       "    </tr>\n",
       "  </tbody>\n",
       "</table>\n",
       "</div>"
      ],
      "text/plain": [
       "                                                 App        Category  Rating  \\\n",
       "0     Photo Editor & Candy Camera & Grid & ScrapBook  ART_AND_DESIGN     4.1   \n",
       "1                                Coloring book moana  ART_AND_DESIGN     3.9   \n",
       "2  U Launcher Lite – FREE Live Cool Themes, Hide ...  ART_AND_DESIGN     4.7   \n",
       "3                              Sketch - Draw & Paint  ART_AND_DESIGN     4.5   \n",
       "4              Pixel Draw - Number Art Coloring Book  ART_AND_DESIGN     4.3   \n",
       "\n",
       "  Reviews  Size     Installs  Type Price ContentRating  \\\n",
       "0     159   19M      10,000+  Free     0      Everyone   \n",
       "1     967   14M     500,000+  Free     0      Everyone   \n",
       "2   87510  8.7M   5,000,000+  Free     0      Everyone   \n",
       "3  215644   25M  50,000,000+  Free     0          Teen   \n",
       "4     967  2.8M     100,000+  Free     0      Everyone   \n",
       "\n",
       "                      Genres       LastUpdated          CurrentVer  \\\n",
       "0               Art & Design   January 7, 2018               1.0.0   \n",
       "1  Art & Design;Pretend Play  January 15, 2018               2.0.0   \n",
       "2               Art & Design    August 1, 2018               1.2.4   \n",
       "3               Art & Design      June 8, 2018  Varies with device   \n",
       "4    Art & Design;Creativity     June 20, 2018                 1.1   \n",
       "\n",
       "     AndroidVer LastUpdated_Month_date LastUpdated_Year  \n",
       "0  4.0.3 and up              January 7             2018  \n",
       "1  4.0.3 and up             January 15             2018  \n",
       "2  4.0.3 and up               August 1             2018  \n",
       "3    4.2 and up                 June 8             2018  \n",
       "4    4.4 and up                June 20             2018  "
      ]
     },
     "execution_count": 565,
     "metadata": {},
     "output_type": "execute_result"
    }
   ],
   "source": [
    "inp0['LastUpdated_Year'] = inp0['LastUpdated'].str.split(',').str[1].str.strip()\n",
    "inp0.head()"
   ]
  },
  {
   "cell_type": "markdown",
   "id": "64c2e3b1-97d3-47e1-a32a-ecf9900192a8",
   "metadata": {
    "scrolled": true
   },
   "source": [
    "- #### 📌 Dropping the 'LastUpdated' Column from the Dataset"
   ]
  },
  {
   "cell_type": "code",
   "execution_count": 568,
   "id": "f83badc0-82c9-4762-ae4e-62b72eab2c70",
   "metadata": {},
   "outputs": [
    {
     "data": {
      "text/html": [
       "<div>\n",
       "<style scoped>\n",
       "    .dataframe tbody tr th:only-of-type {\n",
       "        vertical-align: middle;\n",
       "    }\n",
       "\n",
       "    .dataframe tbody tr th {\n",
       "        vertical-align: top;\n",
       "    }\n",
       "\n",
       "    .dataframe thead th {\n",
       "        text-align: right;\n",
       "    }\n",
       "</style>\n",
       "<table border=\"1\" class=\"dataframe\">\n",
       "  <thead>\n",
       "    <tr style=\"text-align: right;\">\n",
       "      <th></th>\n",
       "      <th>App</th>\n",
       "      <th>Category</th>\n",
       "      <th>Rating</th>\n",
       "      <th>Reviews</th>\n",
       "      <th>Size</th>\n",
       "      <th>Installs</th>\n",
       "      <th>Type</th>\n",
       "      <th>Price</th>\n",
       "      <th>ContentRating</th>\n",
       "      <th>Genres</th>\n",
       "      <th>CurrentVer</th>\n",
       "      <th>AndroidVer</th>\n",
       "      <th>LastUpdated_Month_date</th>\n",
       "      <th>LastUpdated_Year</th>\n",
       "    </tr>\n",
       "  </thead>\n",
       "  <tbody>\n",
       "    <tr>\n",
       "      <th>0</th>\n",
       "      <td>Photo Editor &amp; Candy Camera &amp; Grid &amp; ScrapBook</td>\n",
       "      <td>ART_AND_DESIGN</td>\n",
       "      <td>4.1</td>\n",
       "      <td>159</td>\n",
       "      <td>19M</td>\n",
       "      <td>10,000+</td>\n",
       "      <td>Free</td>\n",
       "      <td>0</td>\n",
       "      <td>Everyone</td>\n",
       "      <td>Art &amp; Design</td>\n",
       "      <td>1.0.0</td>\n",
       "      <td>4.0.3 and up</td>\n",
       "      <td>January 7</td>\n",
       "      <td>2018</td>\n",
       "    </tr>\n",
       "    <tr>\n",
       "      <th>1</th>\n",
       "      <td>Coloring book moana</td>\n",
       "      <td>ART_AND_DESIGN</td>\n",
       "      <td>3.9</td>\n",
       "      <td>967</td>\n",
       "      <td>14M</td>\n",
       "      <td>500,000+</td>\n",
       "      <td>Free</td>\n",
       "      <td>0</td>\n",
       "      <td>Everyone</td>\n",
       "      <td>Art &amp; Design;Pretend Play</td>\n",
       "      <td>2.0.0</td>\n",
       "      <td>4.0.3 and up</td>\n",
       "      <td>January 15</td>\n",
       "      <td>2018</td>\n",
       "    </tr>\n",
       "    <tr>\n",
       "      <th>2</th>\n",
       "      <td>U Launcher Lite – FREE Live Cool Themes, Hide ...</td>\n",
       "      <td>ART_AND_DESIGN</td>\n",
       "      <td>4.7</td>\n",
       "      <td>87510</td>\n",
       "      <td>8.7M</td>\n",
       "      <td>5,000,000+</td>\n",
       "      <td>Free</td>\n",
       "      <td>0</td>\n",
       "      <td>Everyone</td>\n",
       "      <td>Art &amp; Design</td>\n",
       "      <td>1.2.4</td>\n",
       "      <td>4.0.3 and up</td>\n",
       "      <td>August 1</td>\n",
       "      <td>2018</td>\n",
       "    </tr>\n",
       "    <tr>\n",
       "      <th>3</th>\n",
       "      <td>Sketch - Draw &amp; Paint</td>\n",
       "      <td>ART_AND_DESIGN</td>\n",
       "      <td>4.5</td>\n",
       "      <td>215644</td>\n",
       "      <td>25M</td>\n",
       "      <td>50,000,000+</td>\n",
       "      <td>Free</td>\n",
       "      <td>0</td>\n",
       "      <td>Teen</td>\n",
       "      <td>Art &amp; Design</td>\n",
       "      <td>Varies with device</td>\n",
       "      <td>4.2 and up</td>\n",
       "      <td>June 8</td>\n",
       "      <td>2018</td>\n",
       "    </tr>\n",
       "    <tr>\n",
       "      <th>4</th>\n",
       "      <td>Pixel Draw - Number Art Coloring Book</td>\n",
       "      <td>ART_AND_DESIGN</td>\n",
       "      <td>4.3</td>\n",
       "      <td>967</td>\n",
       "      <td>2.8M</td>\n",
       "      <td>100,000+</td>\n",
       "      <td>Free</td>\n",
       "      <td>0</td>\n",
       "      <td>Everyone</td>\n",
       "      <td>Art &amp; Design;Creativity</td>\n",
       "      <td>1.1</td>\n",
       "      <td>4.4 and up</td>\n",
       "      <td>June 20</td>\n",
       "      <td>2018</td>\n",
       "    </tr>\n",
       "  </tbody>\n",
       "</table>\n",
       "</div>"
      ],
      "text/plain": [
       "                                                 App        Category  Rating  \\\n",
       "0     Photo Editor & Candy Camera & Grid & ScrapBook  ART_AND_DESIGN     4.1   \n",
       "1                                Coloring book moana  ART_AND_DESIGN     3.9   \n",
       "2  U Launcher Lite – FREE Live Cool Themes, Hide ...  ART_AND_DESIGN     4.7   \n",
       "3                              Sketch - Draw & Paint  ART_AND_DESIGN     4.5   \n",
       "4              Pixel Draw - Number Art Coloring Book  ART_AND_DESIGN     4.3   \n",
       "\n",
       "  Reviews  Size     Installs  Type Price ContentRating  \\\n",
       "0     159   19M      10,000+  Free     0      Everyone   \n",
       "1     967   14M     500,000+  Free     0      Everyone   \n",
       "2   87510  8.7M   5,000,000+  Free     0      Everyone   \n",
       "3  215644   25M  50,000,000+  Free     0          Teen   \n",
       "4     967  2.8M     100,000+  Free     0      Everyone   \n",
       "\n",
       "                      Genres          CurrentVer    AndroidVer  \\\n",
       "0               Art & Design               1.0.0  4.0.3 and up   \n",
       "1  Art & Design;Pretend Play               2.0.0  4.0.3 and up   \n",
       "2               Art & Design               1.2.4  4.0.3 and up   \n",
       "3               Art & Design  Varies with device    4.2 and up   \n",
       "4    Art & Design;Creativity                 1.1    4.4 and up   \n",
       "\n",
       "  LastUpdated_Month_date LastUpdated_Year  \n",
       "0              January 7             2018  \n",
       "1             January 15             2018  \n",
       "2               August 1             2018  \n",
       "3                 June 8             2018  \n",
       "4                June 20             2018  "
      ]
     },
     "execution_count": 568,
     "metadata": {},
     "output_type": "execute_result"
    }
   ],
   "source": [
    "inp0.drop(\"LastUpdated\",axis=1,inplace=True)\n",
    "inp0.head()"
   ]
  },
  {
   "cell_type": "code",
   "execution_count": null,
   "id": "9f47da1e-c5f0-4ebe-9f40-af95450efc62",
   "metadata": {},
   "outputs": [],
   "source": []
  },
  {
   "cell_type": "code",
   "execution_count": null,
   "id": "fe10bfeb-df12-4258-af78-e967a2a002be",
   "metadata": {},
   "outputs": [],
   "source": []
  },
  {
   "cell_type": "markdown",
   "id": "a5bde0b4-19b8-42e1-ab1c-fb51599e075e",
   "metadata": {},
   "source": [
    "## 📉 Handling Missing Values for `Rating` Column\n",
    "\n",
    "### 🎯 Target Variable: `Rating`\n",
    "\n",
    "The `Rating` column is the target variable for our machine learning model. It contains some missing values that need to be addressed before training.\n",
    "\n",
    "### 🧹 Strategy: Drop Missing Records\n",
    "\n",
    "Since `Rating` is our target variable and we cannot train or evaluate models on records without a label, we will **drop all rows where the `Rating` is missing**.\n",
    "\n",
    "> ✅ This ensures that our dataset only includes labeled data, which is essential for supervised learning tasks.\n"
   ]
  },
  {
   "cell_type": "markdown",
   "id": "c645bb3b-aa13-4778-a030-0730952c0d4a",
   "metadata": {},
   "source": [
    "- #### 📌 Creating Dataset Without Missing Ratings"
   ]
  },
  {
   "cell_type": "code",
   "execution_count": 574,
   "id": "1e6354c8-a0d1-43b1-9196-e36dc8997af6",
   "metadata": {},
   "outputs": [
    {
     "data": {
      "text/plain": [
       "(9367, 14)"
      ]
     },
     "execution_count": 574,
     "metadata": {},
     "output_type": "execute_result"
    }
   ],
   "source": [
    "inp1=inp0[~inp0.Rating.isnull()]\n",
    "inp1.shape"
   ]
  },
  {
   "cell_type": "markdown",
   "id": "be6c4937-0ebd-446f-a465-906bfe249ad4",
   "metadata": {},
   "source": [
    "- #### 📌 Checking for Null Values in the 'Rating' Column"
   ]
  },
  {
   "cell_type": "code",
   "execution_count": 577,
   "id": "40f65ba8-4e15-45a1-8889-a85d63484b87",
   "metadata": {},
   "outputs": [
    {
     "data": {
      "text/plain": [
       "0"
      ]
     },
     "execution_count": 577,
     "metadata": {},
     "output_type": "execute_result"
    }
   ],
   "source": [
    "#Because we drop the null columns \n",
    "inp1.Rating.isnull().sum()"
   ]
  },
  {
   "cell_type": "markdown",
   "id": "1028525b-7d9c-4f9d-b7b3-93b983ac5c89",
   "metadata": {},
   "source": [
    "- #### 📌 Identifying Null Values in Each Column of the DataFrame"
   ]
  },
  {
   "cell_type": "code",
   "execution_count": 580,
   "id": "b853adeb-4fd5-4dd6-bd08-c0a452803fe2",
   "metadata": {},
   "outputs": [
    {
     "data": {
      "text/plain": [
       "App                       0\n",
       "Category                  0\n",
       "Rating                    0\n",
       "Reviews                   0\n",
       "Size                      0\n",
       "Installs                  0\n",
       "Type                      0\n",
       "Price                     0\n",
       "ContentRating             1\n",
       "Genres                    0\n",
       "CurrentVer                4\n",
       "AndroidVer                3\n",
       "LastUpdated_Month_date    0\n",
       "LastUpdated_Year          1\n",
       "dtype: int64"
      ]
     },
     "execution_count": 580,
     "metadata": {},
     "output_type": "execute_result"
    }
   ],
   "source": [
    "inp1.isnull().sum()"
   ]
  },
  {
   "cell_type": "markdown",
   "id": "b07de1e0-27b0-4f19-b8e4-03f5b421ca97",
   "metadata": {},
   "source": [
    "- ### 📌Explore/understand the Null Values for the column Android version 📌"
   ]
  },
  {
   "cell_type": "markdown",
   "id": "39f75efc-e4f4-45f4-9b09-45a2373f12dd",
   "metadata": {},
   "source": [
    "- #### 📌 Extracting Rows with Missing 'AndroidVer' Values"
   ]
  },
  {
   "cell_type": "code",
   "execution_count": null,
   "id": "ce1d3f09-a144-45f7-94c1-3d372e5358ee",
   "metadata": {},
   "outputs": [],
   "source": []
  },
  {
   "cell_type": "markdown",
   "id": "3d8f7d9a-d3e7-48e6-88ef-f9cf1dbc0514",
   "metadata": {},
   "source": [
    "<center>\n",
    "\n",
    "### 🚮 **Dropping** 🗑️\n",
    "\n",
    "</center>\n"
   ]
  },
  {
   "cell_type": "markdown",
   "id": "52be9927-f589-495c-82fd-915f7f2caf8e",
   "metadata": {},
   "source": [
    "- #### 📌 Retrieving Data for the App at Index 10472"
   ]
  },
  {
   "cell_type": "code",
   "execution_count": 587,
   "id": "294d02dc-6bc3-4025-9256-8c6dd318da78",
   "metadata": {},
   "outputs": [
    {
     "data": {
      "text/plain": [
       "App                       Life Made WI-Fi Touchscreen Photo Frame\n",
       "Category                                                      1.9\n",
       "Rating                                                       19.0\n",
       "Reviews                                                      3.0M\n",
       "Size                                                       1,000+\n",
       "Installs                                                     Free\n",
       "Type                                                            0\n",
       "Price                                                    Everyone\n",
       "ContentRating                                                 NaN\n",
       "Genres                                          February 11, 2018\n",
       "CurrentVer                                             4.0 and up\n",
       "AndroidVer                                                    NaN\n",
       "LastUpdated_Month_date                                     1.0.19\n",
       "LastUpdated_Year                                              NaN\n",
       "Name: 10472, dtype: object"
      ]
     },
     "execution_count": 587,
     "metadata": {},
     "output_type": "execute_result"
    }
   ],
   "source": [
    "#to get that column\n",
    "inp1.loc[10472,:]"
   ]
  },
  {
   "cell_type": "markdown",
   "id": "e3450390-3105-4555-be54-b779392ba565",
   "metadata": {},
   "source": [
    "- #### 📌 Extracting Entries with Missing 'AndroidVer' and Category 1.9"
   ]
  },
  {
   "cell_type": "code",
   "execution_count": 590,
   "id": "debb5efe-d6ad-4210-88a9-80e953a527af",
   "metadata": {},
   "outputs": [
    {
     "data": {
      "text/html": [
       "<div>\n",
       "<style scoped>\n",
       "    .dataframe tbody tr th:only-of-type {\n",
       "        vertical-align: middle;\n",
       "    }\n",
       "\n",
       "    .dataframe tbody tr th {\n",
       "        vertical-align: top;\n",
       "    }\n",
       "\n",
       "    .dataframe thead th {\n",
       "        text-align: right;\n",
       "    }\n",
       "</style>\n",
       "<table border=\"1\" class=\"dataframe\">\n",
       "  <thead>\n",
       "    <tr style=\"text-align: right;\">\n",
       "      <th></th>\n",
       "      <th>App</th>\n",
       "      <th>Category</th>\n",
       "      <th>Rating</th>\n",
       "      <th>Reviews</th>\n",
       "      <th>Size</th>\n",
       "      <th>Installs</th>\n",
       "      <th>Type</th>\n",
       "      <th>Price</th>\n",
       "      <th>ContentRating</th>\n",
       "      <th>Genres</th>\n",
       "      <th>CurrentVer</th>\n",
       "      <th>AndroidVer</th>\n",
       "      <th>LastUpdated_Month_date</th>\n",
       "      <th>LastUpdated_Year</th>\n",
       "    </tr>\n",
       "  </thead>\n",
       "  <tbody>\n",
       "    <tr>\n",
       "      <th>10472</th>\n",
       "      <td>Life Made WI-Fi Touchscreen Photo Frame</td>\n",
       "      <td>1.9</td>\n",
       "      <td>19.0</td>\n",
       "      <td>3.0M</td>\n",
       "      <td>1,000+</td>\n",
       "      <td>Free</td>\n",
       "      <td>0</td>\n",
       "      <td>Everyone</td>\n",
       "      <td>NaN</td>\n",
       "      <td>February 11, 2018</td>\n",
       "      <td>4.0 and up</td>\n",
       "      <td>NaN</td>\n",
       "      <td>1.0.19</td>\n",
       "      <td>NaN</td>\n",
       "    </tr>\n",
       "  </tbody>\n",
       "</table>\n",
       "</div>"
      ],
      "text/plain": [
       "                                           App Category  Rating Reviews  \\\n",
       "10472  Life Made WI-Fi Touchscreen Photo Frame      1.9    19.0    3.0M   \n",
       "\n",
       "         Size Installs Type     Price ContentRating             Genres  \\\n",
       "10472  1,000+     Free    0  Everyone           NaN  February 11, 2018   \n",
       "\n",
       "       CurrentVer AndroidVer LastUpdated_Month_date LastUpdated_Year  \n",
       "10472  4.0 and up        NaN                 1.0.19              NaN  "
      ]
     },
     "execution_count": 590,
     "metadata": {},
     "output_type": "execute_result"
    }
   ],
   "source": [
    "#To get row where the androidver is null and category==1.9\n",
    "inp1[(inp1['AndroidVer'].isnull() & (inp1.Category==\"1.9\"))]"
   ]
  },
  {
   "cell_type": "markdown",
   "id": "8c6e7842-b1a4-45b1-8598-424e693d2243",
   "metadata": {},
   "source": [
    "- #### 📌 Dropping Rows with Missing 'AndroidVer' for Category 1.9"
   ]
  },
  {
   "cell_type": "code",
   "execution_count": 593,
   "id": "53fbd250-3c4c-40b8-84f1-56b8f6e3b20b",
   "metadata": {},
   "outputs": [],
   "source": [
    "# we drop that column \n",
    "inp1=inp1[~(inp1['AndroidVer'].isnull() & (inp1.Category==\"1.9\"))]"
   ]
  },
  {
   "cell_type": "markdown",
   "id": "1a2eb0f3-1c55-488b-b7f9-e5f081df6451",
   "metadata": {},
   "source": [
    "- #### 📌 Extracting Rows Where 'AndroidVer' is Null"
   ]
  },
  {
   "cell_type": "code",
   "execution_count": 596,
   "id": "566d144c-52b3-48e9-86a9-3d3cbfb6e1e0",
   "metadata": {},
   "outputs": [
    {
     "data": {
      "text/html": [
       "<div>\n",
       "<style scoped>\n",
       "    .dataframe tbody tr th:only-of-type {\n",
       "        vertical-align: middle;\n",
       "    }\n",
       "\n",
       "    .dataframe tbody tr th {\n",
       "        vertical-align: top;\n",
       "    }\n",
       "\n",
       "    .dataframe thead th {\n",
       "        text-align: right;\n",
       "    }\n",
       "</style>\n",
       "<table border=\"1\" class=\"dataframe\">\n",
       "  <thead>\n",
       "    <tr style=\"text-align: right;\">\n",
       "      <th></th>\n",
       "      <th>App</th>\n",
       "      <th>Category</th>\n",
       "      <th>Rating</th>\n",
       "      <th>Reviews</th>\n",
       "      <th>Size</th>\n",
       "      <th>Installs</th>\n",
       "      <th>Type</th>\n",
       "      <th>Price</th>\n",
       "      <th>ContentRating</th>\n",
       "      <th>Genres</th>\n",
       "      <th>CurrentVer</th>\n",
       "      <th>AndroidVer</th>\n",
       "      <th>LastUpdated_Month_date</th>\n",
       "      <th>LastUpdated_Year</th>\n",
       "    </tr>\n",
       "  </thead>\n",
       "  <tbody>\n",
       "    <tr>\n",
       "      <th>4453</th>\n",
       "      <td>[substratum] Vacuum: P</td>\n",
       "      <td>PERSONALIZATION</td>\n",
       "      <td>4.4</td>\n",
       "      <td>230</td>\n",
       "      <td>11M</td>\n",
       "      <td>1,000+</td>\n",
       "      <td>Paid</td>\n",
       "      <td>$1.49</td>\n",
       "      <td>Everyone</td>\n",
       "      <td>Personalization</td>\n",
       "      <td>4.4</td>\n",
       "      <td>NaN</td>\n",
       "      <td>July 20</td>\n",
       "      <td>2018</td>\n",
       "    </tr>\n",
       "    <tr>\n",
       "      <th>4490</th>\n",
       "      <td>Pi Dark [substratum]</td>\n",
       "      <td>PERSONALIZATION</td>\n",
       "      <td>4.5</td>\n",
       "      <td>189</td>\n",
       "      <td>2.1M</td>\n",
       "      <td>10,000+</td>\n",
       "      <td>Free</td>\n",
       "      <td>0</td>\n",
       "      <td>Everyone</td>\n",
       "      <td>Personalization</td>\n",
       "      <td>1.1</td>\n",
       "      <td>NaN</td>\n",
       "      <td>March 27</td>\n",
       "      <td>2018</td>\n",
       "    </tr>\n",
       "  </tbody>\n",
       "</table>\n",
       "</div>"
      ],
      "text/plain": [
       "                         App         Category  Rating Reviews  Size Installs  \\\n",
       "4453  [substratum] Vacuum: P  PERSONALIZATION     4.4     230   11M   1,000+   \n",
       "4490    Pi Dark [substratum]  PERSONALIZATION     4.5     189  2.1M  10,000+   \n",
       "\n",
       "      Type  Price ContentRating           Genres CurrentVer AndroidVer  \\\n",
       "4453  Paid  $1.49      Everyone  Personalization        4.4        NaN   \n",
       "4490  Free      0      Everyone  Personalization        1.1        NaN   \n",
       "\n",
       "     LastUpdated_Month_date LastUpdated_Year  \n",
       "4453                July 20             2018  \n",
       "4490               March 27             2018  "
      ]
     },
     "execution_count": 596,
     "metadata": {},
     "output_type": "execute_result"
    }
   ],
   "source": [
    "inp1[inp1['AndroidVer'].isnull()]"
   ]
  },
  {
   "cell_type": "markdown",
   "id": "7a1cf616-785a-42bc-a512-383318bb5e40",
   "metadata": {},
   "source": [
    "- #### 📌 Calculating the Most Frequent Android Version"
   ]
  },
  {
   "cell_type": "code",
   "execution_count": 599,
   "id": "5d87e6a6-3170-488b-8286-c4ee423f185f",
   "metadata": {},
   "outputs": [
    {
     "data": {
      "text/plain": [
       "'4.1 and up'"
      ]
     },
     "execution_count": 599,
     "metadata": {},
     "output_type": "execute_result"
    }
   ],
   "source": [
    "# to get the Mode of the column\n",
    "inp1['AndroidVer'].mode()[0]"
   ]
  },
  {
   "cell_type": "markdown",
   "id": "a0aca042-c267-47b3-8e43-39c05921fedc",
   "metadata": {},
   "source": [
    "- #### 📌 Filling the NANs with this values"
   ]
  },
  {
   "cell_type": "code",
   "execution_count": 602,
   "id": "dae7f6ee-2333-42ca-bd35-74a411d529eb",
   "metadata": {},
   "outputs": [],
   "source": [
    "# Filling the missing values with the mode values\n",
    "inp1['AndroidVer']=inp1['AndroidVer'].fillna(inp1['AndroidVer'].mode()[0])"
   ]
  },
  {
   "cell_type": "markdown",
   "id": "a3f9428d-a5a5-4b79-beaf-993cdb4fc5fe",
   "metadata": {},
   "source": [
    "- #### 📌 Verifying That All Missing 'AndroidVer' Entries Have Been Handled"
   ]
  },
  {
   "cell_type": "code",
   "execution_count": 605,
   "id": "065c61ee-1b5a-44d4-8446-be08b7a28eab",
   "metadata": {},
   "outputs": [
    {
     "data": {
      "text/plain": [
       "0"
      ]
     },
     "execution_count": 605,
     "metadata": {},
     "output_type": "execute_result"
    }
   ],
   "source": [
    "#We get 0 beacuse we handle the missing values in AndroidVer column\n",
    "inp1['AndroidVer'].isnull().sum()"
   ]
  },
  {
   "cell_type": "markdown",
   "id": "e7aca0c0-49e6-4ab0-9f0b-ee586299fbdf",
   "metadata": {},
   "source": [
    "- #### 📌 Identifying Null Values in Each Column of the DataFrame"
   ]
  },
  {
   "cell_type": "code",
   "execution_count": 608,
   "id": "6c71abe6-eb36-4f6b-86db-ffe8eccf84c4",
   "metadata": {},
   "outputs": [
    {
     "data": {
      "text/plain": [
       "App                       0\n",
       "Category                  0\n",
       "Rating                    0\n",
       "Reviews                   0\n",
       "Size                      0\n",
       "Installs                  0\n",
       "Type                      0\n",
       "Price                     0\n",
       "ContentRating             0\n",
       "Genres                    0\n",
       "CurrentVer                4\n",
       "AndroidVer                0\n",
       "LastUpdated_Month_date    0\n",
       "LastUpdated_Year          0\n",
       "dtype: int64"
      ]
     },
     "execution_count": 608,
     "metadata": {},
     "output_type": "execute_result"
    }
   ],
   "source": [
    "inp1.isnull().sum()"
   ]
  },
  {
   "cell_type": "code",
   "execution_count": null,
   "id": "6ec2c5d2-295d-4245-864b-a24402b1ae66",
   "metadata": {},
   "outputs": [],
   "source": []
  },
  {
   "cell_type": "code",
   "execution_count": null,
   "id": "aa90795a-24d1-4383-a2d0-d2bef253879e",
   "metadata": {},
   "outputs": [],
   "source": []
  },
  {
   "cell_type": "markdown",
   "id": "c9250ffc-97a0-44a5-83e1-780119c4678f",
   "metadata": {},
   "source": [
    "<center>\n",
    "\n",
    "### 🛠️🔍 **Handling Missing Values in 'CURRENT VERSION'** 🧩\n",
    "\n",
    "</center>\n"
   ]
  },
  {
   "cell_type": "code",
   "execution_count": 613,
   "id": "a127f2a4-b293-4101-adf4-0b65fd6ff732",
   "metadata": {},
   "outputs": [
    {
     "data": {
      "text/plain": [
       "CurrentVer\n",
       "Varies with device    1415\n",
       "1                      476\n",
       "1.1                    206\n",
       "1.2                    133\n",
       "2                      129\n",
       "                      ... \n",
       "1.3.A.2.9                1\n",
       "9.9.1.1910               1\n",
       "7.1.34.28                1\n",
       "5.9.7                    1\n",
       "0.3.4                    1\n",
       "Name: count, Length: 2594, dtype: int64"
      ]
     },
     "execution_count": 613,
     "metadata": {},
     "output_type": "execute_result"
    }
   ],
   "source": [
    "inp1['CurrentVer'].value_counts()"
   ]
  },
  {
   "cell_type": "markdown",
   "id": "9429fab6-fa45-484a-934f-310ef70e3e01",
   "metadata": {},
   "source": [
    "- #### 📌 Replace the missing valueswith \"Varies with devices\""
   ]
  },
  {
   "cell_type": "markdown",
   "id": "85b80071-73ec-4e99-883e-a734d2efb3da",
   "metadata": {},
   "source": [
    "- #### 📌 Getting Rows with Non-Missing 'CurrentVer' Values"
   ]
  },
  {
   "cell_type": "code",
   "execution_count": 617,
   "id": "8526182e-8a85-48f2-92c8-939bf077d0d3",
   "metadata": {},
   "outputs": [
    {
     "data": {
      "text/html": [
       "<div>\n",
       "<style scoped>\n",
       "    .dataframe tbody tr th:only-of-type {\n",
       "        vertical-align: middle;\n",
       "    }\n",
       "\n",
       "    .dataframe tbody tr th {\n",
       "        vertical-align: top;\n",
       "    }\n",
       "\n",
       "    .dataframe thead th {\n",
       "        text-align: right;\n",
       "    }\n",
       "</style>\n",
       "<table border=\"1\" class=\"dataframe\">\n",
       "  <thead>\n",
       "    <tr style=\"text-align: right;\">\n",
       "      <th></th>\n",
       "      <th>App</th>\n",
       "      <th>Category</th>\n",
       "      <th>Rating</th>\n",
       "      <th>Reviews</th>\n",
       "      <th>Size</th>\n",
       "      <th>Installs</th>\n",
       "      <th>Type</th>\n",
       "      <th>Price</th>\n",
       "      <th>ContentRating</th>\n",
       "      <th>Genres</th>\n",
       "      <th>CurrentVer</th>\n",
       "      <th>AndroidVer</th>\n",
       "      <th>LastUpdated_Month_date</th>\n",
       "      <th>LastUpdated_Year</th>\n",
       "    </tr>\n",
       "  </thead>\n",
       "  <tbody>\n",
       "    <tr>\n",
       "      <th>0</th>\n",
       "      <td>Photo Editor &amp; Candy Camera &amp; Grid &amp; ScrapBook</td>\n",
       "      <td>ART_AND_DESIGN</td>\n",
       "      <td>4.1</td>\n",
       "      <td>159</td>\n",
       "      <td>19M</td>\n",
       "      <td>10,000+</td>\n",
       "      <td>Free</td>\n",
       "      <td>0</td>\n",
       "      <td>Everyone</td>\n",
       "      <td>Art &amp; Design</td>\n",
       "      <td>1.0.0</td>\n",
       "      <td>4.0.3 and up</td>\n",
       "      <td>January 7</td>\n",
       "      <td>2018</td>\n",
       "    </tr>\n",
       "    <tr>\n",
       "      <th>1</th>\n",
       "      <td>Coloring book moana</td>\n",
       "      <td>ART_AND_DESIGN</td>\n",
       "      <td>3.9</td>\n",
       "      <td>967</td>\n",
       "      <td>14M</td>\n",
       "      <td>500,000+</td>\n",
       "      <td>Free</td>\n",
       "      <td>0</td>\n",
       "      <td>Everyone</td>\n",
       "      <td>Art &amp; Design;Pretend Play</td>\n",
       "      <td>2.0.0</td>\n",
       "      <td>4.0.3 and up</td>\n",
       "      <td>January 15</td>\n",
       "      <td>2018</td>\n",
       "    </tr>\n",
       "    <tr>\n",
       "      <th>2</th>\n",
       "      <td>U Launcher Lite – FREE Live Cool Themes, Hide ...</td>\n",
       "      <td>ART_AND_DESIGN</td>\n",
       "      <td>4.7</td>\n",
       "      <td>87510</td>\n",
       "      <td>8.7M</td>\n",
       "      <td>5,000,000+</td>\n",
       "      <td>Free</td>\n",
       "      <td>0</td>\n",
       "      <td>Everyone</td>\n",
       "      <td>Art &amp; Design</td>\n",
       "      <td>1.2.4</td>\n",
       "      <td>4.0.3 and up</td>\n",
       "      <td>August 1</td>\n",
       "      <td>2018</td>\n",
       "    </tr>\n",
       "    <tr>\n",
       "      <th>3</th>\n",
       "      <td>Sketch - Draw &amp; Paint</td>\n",
       "      <td>ART_AND_DESIGN</td>\n",
       "      <td>4.5</td>\n",
       "      <td>215644</td>\n",
       "      <td>25M</td>\n",
       "      <td>50,000,000+</td>\n",
       "      <td>Free</td>\n",
       "      <td>0</td>\n",
       "      <td>Teen</td>\n",
       "      <td>Art &amp; Design</td>\n",
       "      <td>Varies with device</td>\n",
       "      <td>4.2 and up</td>\n",
       "      <td>June 8</td>\n",
       "      <td>2018</td>\n",
       "    </tr>\n",
       "    <tr>\n",
       "      <th>4</th>\n",
       "      <td>Pixel Draw - Number Art Coloring Book</td>\n",
       "      <td>ART_AND_DESIGN</td>\n",
       "      <td>4.3</td>\n",
       "      <td>967</td>\n",
       "      <td>2.8M</td>\n",
       "      <td>100,000+</td>\n",
       "      <td>Free</td>\n",
       "      <td>0</td>\n",
       "      <td>Everyone</td>\n",
       "      <td>Art &amp; Design;Creativity</td>\n",
       "      <td>1.1</td>\n",
       "      <td>4.4 and up</td>\n",
       "      <td>June 20</td>\n",
       "      <td>2018</td>\n",
       "    </tr>\n",
       "    <tr>\n",
       "      <th>...</th>\n",
       "      <td>...</td>\n",
       "      <td>...</td>\n",
       "      <td>...</td>\n",
       "      <td>...</td>\n",
       "      <td>...</td>\n",
       "      <td>...</td>\n",
       "      <td>...</td>\n",
       "      <td>...</td>\n",
       "      <td>...</td>\n",
       "      <td>...</td>\n",
       "      <td>...</td>\n",
       "      <td>...</td>\n",
       "      <td>...</td>\n",
       "      <td>...</td>\n",
       "    </tr>\n",
       "    <tr>\n",
       "      <th>10834</th>\n",
       "      <td>FR Calculator</td>\n",
       "      <td>FAMILY</td>\n",
       "      <td>4.0</td>\n",
       "      <td>7</td>\n",
       "      <td>2.6M</td>\n",
       "      <td>500+</td>\n",
       "      <td>Free</td>\n",
       "      <td>0</td>\n",
       "      <td>Everyone</td>\n",
       "      <td>Education</td>\n",
       "      <td>1.0.0</td>\n",
       "      <td>4.1 and up</td>\n",
       "      <td>June 18</td>\n",
       "      <td>2017</td>\n",
       "    </tr>\n",
       "    <tr>\n",
       "      <th>10836</th>\n",
       "      <td>Sya9a Maroc - FR</td>\n",
       "      <td>FAMILY</td>\n",
       "      <td>4.5</td>\n",
       "      <td>38</td>\n",
       "      <td>53M</td>\n",
       "      <td>5,000+</td>\n",
       "      <td>Free</td>\n",
       "      <td>0</td>\n",
       "      <td>Everyone</td>\n",
       "      <td>Education</td>\n",
       "      <td>1.48</td>\n",
       "      <td>4.1 and up</td>\n",
       "      <td>July 25</td>\n",
       "      <td>2017</td>\n",
       "    </tr>\n",
       "    <tr>\n",
       "      <th>10837</th>\n",
       "      <td>Fr. Mike Schmitz Audio Teachings</td>\n",
       "      <td>FAMILY</td>\n",
       "      <td>5.0</td>\n",
       "      <td>4</td>\n",
       "      <td>3.6M</td>\n",
       "      <td>100+</td>\n",
       "      <td>Free</td>\n",
       "      <td>0</td>\n",
       "      <td>Everyone</td>\n",
       "      <td>Education</td>\n",
       "      <td>1</td>\n",
       "      <td>4.1 and up</td>\n",
       "      <td>July 6</td>\n",
       "      <td>2018</td>\n",
       "    </tr>\n",
       "    <tr>\n",
       "      <th>10839</th>\n",
       "      <td>The SCP Foundation DB fr nn5n</td>\n",
       "      <td>BOOKS_AND_REFERENCE</td>\n",
       "      <td>4.5</td>\n",
       "      <td>114</td>\n",
       "      <td>Varies with device</td>\n",
       "      <td>1,000+</td>\n",
       "      <td>Free</td>\n",
       "      <td>0</td>\n",
       "      <td>Mature 17+</td>\n",
       "      <td>Books &amp; Reference</td>\n",
       "      <td>Varies with device</td>\n",
       "      <td>Varies with device</td>\n",
       "      <td>January 19</td>\n",
       "      <td>2015</td>\n",
       "    </tr>\n",
       "    <tr>\n",
       "      <th>10840</th>\n",
       "      <td>iHoroscope - 2018 Daily Horoscope &amp; Astrology</td>\n",
       "      <td>LIFESTYLE</td>\n",
       "      <td>4.5</td>\n",
       "      <td>398307</td>\n",
       "      <td>19M</td>\n",
       "      <td>10,000,000+</td>\n",
       "      <td>Free</td>\n",
       "      <td>0</td>\n",
       "      <td>Everyone</td>\n",
       "      <td>Lifestyle</td>\n",
       "      <td>Varies with device</td>\n",
       "      <td>Varies with device</td>\n",
       "      <td>July 25</td>\n",
       "      <td>2018</td>\n",
       "    </tr>\n",
       "  </tbody>\n",
       "</table>\n",
       "<p>9362 rows × 14 columns</p>\n",
       "</div>"
      ],
      "text/plain": [
       "                                                     App             Category  \\\n",
       "0         Photo Editor & Candy Camera & Grid & ScrapBook       ART_AND_DESIGN   \n",
       "1                                    Coloring book moana       ART_AND_DESIGN   \n",
       "2      U Launcher Lite – FREE Live Cool Themes, Hide ...       ART_AND_DESIGN   \n",
       "3                                  Sketch - Draw & Paint       ART_AND_DESIGN   \n",
       "4                  Pixel Draw - Number Art Coloring Book       ART_AND_DESIGN   \n",
       "...                                                  ...                  ...   \n",
       "10834                                      FR Calculator               FAMILY   \n",
       "10836                                   Sya9a Maroc - FR               FAMILY   \n",
       "10837                   Fr. Mike Schmitz Audio Teachings               FAMILY   \n",
       "10839                      The SCP Foundation DB fr nn5n  BOOKS_AND_REFERENCE   \n",
       "10840      iHoroscope - 2018 Daily Horoscope & Astrology            LIFESTYLE   \n",
       "\n",
       "       Rating Reviews                Size     Installs  Type Price  \\\n",
       "0         4.1     159                 19M      10,000+  Free     0   \n",
       "1         3.9     967                 14M     500,000+  Free     0   \n",
       "2         4.7   87510                8.7M   5,000,000+  Free     0   \n",
       "3         4.5  215644                 25M  50,000,000+  Free     0   \n",
       "4         4.3     967                2.8M     100,000+  Free     0   \n",
       "...       ...     ...                 ...          ...   ...   ...   \n",
       "10834     4.0       7                2.6M         500+  Free     0   \n",
       "10836     4.5      38                 53M       5,000+  Free     0   \n",
       "10837     5.0       4                3.6M         100+  Free     0   \n",
       "10839     4.5     114  Varies with device       1,000+  Free     0   \n",
       "10840     4.5  398307                 19M  10,000,000+  Free     0   \n",
       "\n",
       "      ContentRating                     Genres          CurrentVer  \\\n",
       "0          Everyone               Art & Design               1.0.0   \n",
       "1          Everyone  Art & Design;Pretend Play               2.0.0   \n",
       "2          Everyone               Art & Design               1.2.4   \n",
       "3              Teen               Art & Design  Varies with device   \n",
       "4          Everyone    Art & Design;Creativity                 1.1   \n",
       "...             ...                        ...                 ...   \n",
       "10834      Everyone                  Education               1.0.0   \n",
       "10836      Everyone                  Education                1.48   \n",
       "10837      Everyone                  Education                   1   \n",
       "10839    Mature 17+          Books & Reference  Varies with device   \n",
       "10840      Everyone                  Lifestyle  Varies with device   \n",
       "\n",
       "               AndroidVer LastUpdated_Month_date LastUpdated_Year  \n",
       "0            4.0.3 and up              January 7             2018  \n",
       "1            4.0.3 and up             January 15             2018  \n",
       "2            4.0.3 and up               August 1             2018  \n",
       "3              4.2 and up                 June 8             2018  \n",
       "4              4.4 and up                June 20             2018  \n",
       "...                   ...                    ...              ...  \n",
       "10834          4.1 and up                June 18             2017  \n",
       "10836          4.1 and up                July 25             2017  \n",
       "10837          4.1 and up                 July 6             2018  \n",
       "10839  Varies with device             January 19             2015  \n",
       "10840  Varies with device                July 25             2018  \n",
       "\n",
       "[9362 rows x 14 columns]"
      ]
     },
     "execution_count": 617,
     "metadata": {},
     "output_type": "execute_result"
    }
   ],
   "source": [
    "#to get the Non-null values rows in currentversion\n",
    "inp1[~inp1['CurrentVer'].isnull()]"
   ]
  },
  {
   "cell_type": "markdown",
   "id": "fd287e6d-0f69-4b69-9e76-04fb196432f0",
   "metadata": {},
   "source": [
    "- #### 📌 Finding the Mode (Most Common Value) in 'CurrentVer'"
   ]
  },
  {
   "cell_type": "code",
   "execution_count": 620,
   "id": "d45501ff-17bf-4be2-8054-c1b2be00ca75",
   "metadata": {},
   "outputs": [
    {
     "data": {
      "text/plain": [
       "'Varies with device'"
      ]
     },
     "execution_count": 620,
     "metadata": {},
     "output_type": "execute_result"
    }
   ],
   "source": [
    "# to get the mode in current version\n",
    "inp1['CurrentVer'].mode()[0]"
   ]
  },
  {
   "cell_type": "markdown",
   "id": "382af3b8-9bb2-4aa0-a400-ca33d4bfa901",
   "metadata": {},
   "source": [
    "- #### 📌Imputing Null 'CurrentVer' Entries with the Most Frequent Value"
   ]
  },
  {
   "cell_type": "code",
   "execution_count": 623,
   "id": "b84e1251-1947-49fd-8557-b5635305ea4c",
   "metadata": {},
   "outputs": [],
   "source": [
    "#We set the mode in null Columns\n",
    "inp1['CurrentVer']=inp1['CurrentVer'].fillna(inp1['CurrentVer'].mode()[0])"
   ]
  },
  {
   "cell_type": "markdown",
   "id": "34090d3f-8177-41aa-957c-be88ec09a919",
   "metadata": {},
   "source": [
    "- #### 📌Counting Missing Values in 'CurrentVer' After Imputation"
   ]
  },
  {
   "cell_type": "code",
   "execution_count": 626,
   "id": "3ebcb2ca-7241-4d22-a6b4-6bab47289d06",
   "metadata": {},
   "outputs": [
    {
     "data": {
      "text/plain": [
       "0"
      ]
     },
     "execution_count": 626,
     "metadata": {},
     "output_type": "execute_result"
    }
   ],
   "source": [
    "inp1['CurrentVer'].isnull().sum()"
   ]
  },
  {
   "cell_type": "markdown",
   "id": "6e568695-80fc-4ba5-abe1-f2d12313464f",
   "metadata": {},
   "source": [
    "- ### 📌Identifying Null Values in Each Column of the DataFrame"
   ]
  },
  {
   "cell_type": "code",
   "execution_count": 629,
   "id": "e9980499-71ac-481a-8c7b-4c452c1c7c7d",
   "metadata": {},
   "outputs": [
    {
     "data": {
      "text/plain": [
       "App                       0\n",
       "Category                  0\n",
       "Rating                    0\n",
       "Reviews                   0\n",
       "Size                      0\n",
       "Installs                  0\n",
       "Type                      0\n",
       "Price                     0\n",
       "ContentRating             0\n",
       "Genres                    0\n",
       "CurrentVer                0\n",
       "AndroidVer                0\n",
       "LastUpdated_Month_date    0\n",
       "LastUpdated_Year          0\n",
       "dtype: int64"
      ]
     },
     "execution_count": 629,
     "metadata": {},
     "output_type": "execute_result"
    }
   ],
   "source": [
    "inp1.isnull().sum()"
   ]
  },
  {
   "cell_type": "code",
   "execution_count": null,
   "id": "ea7e8565-c003-46ab-a9fc-7f1c6992b5eb",
   "metadata": {},
   "outputs": [],
   "source": []
  },
  {
   "cell_type": "code",
   "execution_count": null,
   "id": "3ced31d0-5bd6-4ba1-b1e0-6a2d84beb2da",
   "metadata": {},
   "outputs": [],
   "source": []
  },
  {
   "cell_type": "markdown",
   "id": "6d6652ab-918b-4bf3-91ac-40ab8df9ac6b",
   "metadata": {},
   "source": [
    "<center>\n",
    "\n",
    "### 🔄🧑‍💻 **Change the Variables to the Correct Data Types** 🧑‍💻\n",
    "\n",
    "</center>\n"
   ]
  },
  {
   "cell_type": "markdown",
   "id": "9f60206a-b67f-4fa9-90f7-881ff7089a08",
   "metadata": {},
   "source": [
    "- #### 📌Checking Column Data Types in inp1"
   ]
  },
  {
   "cell_type": "code",
   "execution_count": 635,
   "id": "9e8e9242-d873-403b-baa1-ffbb9ba27ec1",
   "metadata": {},
   "outputs": [
    {
     "data": {
      "text/plain": [
       "App                        object\n",
       "Category                   object\n",
       "Rating                    float64\n",
       "Reviews                    object\n",
       "Size                       object\n",
       "Installs                   object\n",
       "Type                       object\n",
       "Price                      object\n",
       "ContentRating              object\n",
       "Genres                     object\n",
       "CurrentVer                 object\n",
       "AndroidVer                 object\n",
       "LastUpdated_Month_date     object\n",
       "LastUpdated_Year           object\n",
       "dtype: object"
      ]
     },
     "execution_count": 635,
     "metadata": {},
     "output_type": "execute_result"
    }
   ],
   "source": [
    "inp1.dtypes"
   ]
  },
  {
   "cell_type": "code",
   "execution_count": 637,
   "id": "a07c24e3-3371-4208-9c9d-e8a788a37f80",
   "metadata": {},
   "outputs": [
    {
     "data": {
      "text/html": [
       "<div>\n",
       "<style scoped>\n",
       "    .dataframe tbody tr th:only-of-type {\n",
       "        vertical-align: middle;\n",
       "    }\n",
       "\n",
       "    .dataframe tbody tr th {\n",
       "        vertical-align: top;\n",
       "    }\n",
       "\n",
       "    .dataframe thead th {\n",
       "        text-align: right;\n",
       "    }\n",
       "</style>\n",
       "<table border=\"1\" class=\"dataframe\">\n",
       "  <thead>\n",
       "    <tr style=\"text-align: right;\">\n",
       "      <th></th>\n",
       "      <th>App</th>\n",
       "      <th>Category</th>\n",
       "      <th>Rating</th>\n",
       "      <th>Reviews</th>\n",
       "      <th>Size</th>\n",
       "      <th>Installs</th>\n",
       "      <th>Type</th>\n",
       "      <th>Price</th>\n",
       "      <th>ContentRating</th>\n",
       "      <th>Genres</th>\n",
       "      <th>CurrentVer</th>\n",
       "      <th>AndroidVer</th>\n",
       "      <th>LastUpdated_Month_date</th>\n",
       "      <th>LastUpdated_Year</th>\n",
       "    </tr>\n",
       "  </thead>\n",
       "  <tbody>\n",
       "    <tr>\n",
       "      <th>0</th>\n",
       "      <td>Photo Editor &amp; Candy Camera &amp; Grid &amp; ScrapBook</td>\n",
       "      <td>ART_AND_DESIGN</td>\n",
       "      <td>4.1</td>\n",
       "      <td>159</td>\n",
       "      <td>19M</td>\n",
       "      <td>10,000+</td>\n",
       "      <td>Free</td>\n",
       "      <td>0</td>\n",
       "      <td>Everyone</td>\n",
       "      <td>Art &amp; Design</td>\n",
       "      <td>1.0.0</td>\n",
       "      <td>4.0.3 and up</td>\n",
       "      <td>January 7</td>\n",
       "      <td>2018</td>\n",
       "    </tr>\n",
       "    <tr>\n",
       "      <th>1</th>\n",
       "      <td>Coloring book moana</td>\n",
       "      <td>ART_AND_DESIGN</td>\n",
       "      <td>3.9</td>\n",
       "      <td>967</td>\n",
       "      <td>14M</td>\n",
       "      <td>500,000+</td>\n",
       "      <td>Free</td>\n",
       "      <td>0</td>\n",
       "      <td>Everyone</td>\n",
       "      <td>Art &amp; Design;Pretend Play</td>\n",
       "      <td>2.0.0</td>\n",
       "      <td>4.0.3 and up</td>\n",
       "      <td>January 15</td>\n",
       "      <td>2018</td>\n",
       "    </tr>\n",
       "    <tr>\n",
       "      <th>2</th>\n",
       "      <td>U Launcher Lite – FREE Live Cool Themes, Hide ...</td>\n",
       "      <td>ART_AND_DESIGN</td>\n",
       "      <td>4.7</td>\n",
       "      <td>87510</td>\n",
       "      <td>8.7M</td>\n",
       "      <td>5,000,000+</td>\n",
       "      <td>Free</td>\n",
       "      <td>0</td>\n",
       "      <td>Everyone</td>\n",
       "      <td>Art &amp; Design</td>\n",
       "      <td>1.2.4</td>\n",
       "      <td>4.0.3 and up</td>\n",
       "      <td>August 1</td>\n",
       "      <td>2018</td>\n",
       "    </tr>\n",
       "    <tr>\n",
       "      <th>3</th>\n",
       "      <td>Sketch - Draw &amp; Paint</td>\n",
       "      <td>ART_AND_DESIGN</td>\n",
       "      <td>4.5</td>\n",
       "      <td>215644</td>\n",
       "      <td>25M</td>\n",
       "      <td>50,000,000+</td>\n",
       "      <td>Free</td>\n",
       "      <td>0</td>\n",
       "      <td>Teen</td>\n",
       "      <td>Art &amp; Design</td>\n",
       "      <td>Varies with device</td>\n",
       "      <td>4.2 and up</td>\n",
       "      <td>June 8</td>\n",
       "      <td>2018</td>\n",
       "    </tr>\n",
       "    <tr>\n",
       "      <th>4</th>\n",
       "      <td>Pixel Draw - Number Art Coloring Book</td>\n",
       "      <td>ART_AND_DESIGN</td>\n",
       "      <td>4.3</td>\n",
       "      <td>967</td>\n",
       "      <td>2.8M</td>\n",
       "      <td>100,000+</td>\n",
       "      <td>Free</td>\n",
       "      <td>0</td>\n",
       "      <td>Everyone</td>\n",
       "      <td>Art &amp; Design;Creativity</td>\n",
       "      <td>1.1</td>\n",
       "      <td>4.4 and up</td>\n",
       "      <td>June 20</td>\n",
       "      <td>2018</td>\n",
       "    </tr>\n",
       "  </tbody>\n",
       "</table>\n",
       "</div>"
      ],
      "text/plain": [
       "                                                 App        Category  Rating  \\\n",
       "0     Photo Editor & Candy Camera & Grid & ScrapBook  ART_AND_DESIGN     4.1   \n",
       "1                                Coloring book moana  ART_AND_DESIGN     3.9   \n",
       "2  U Launcher Lite – FREE Live Cool Themes, Hide ...  ART_AND_DESIGN     4.7   \n",
       "3                              Sketch - Draw & Paint  ART_AND_DESIGN     4.5   \n",
       "4              Pixel Draw - Number Art Coloring Book  ART_AND_DESIGN     4.3   \n",
       "\n",
       "  Reviews  Size     Installs  Type Price ContentRating  \\\n",
       "0     159   19M      10,000+  Free     0      Everyone   \n",
       "1     967   14M     500,000+  Free     0      Everyone   \n",
       "2   87510  8.7M   5,000,000+  Free     0      Everyone   \n",
       "3  215644   25M  50,000,000+  Free     0          Teen   \n",
       "4     967  2.8M     100,000+  Free     0      Everyone   \n",
       "\n",
       "                      Genres          CurrentVer    AndroidVer  \\\n",
       "0               Art & Design               1.0.0  4.0.3 and up   \n",
       "1  Art & Design;Pretend Play               2.0.0  4.0.3 and up   \n",
       "2               Art & Design               1.2.4  4.0.3 and up   \n",
       "3               Art & Design  Varies with device    4.2 and up   \n",
       "4    Art & Design;Creativity                 1.1    4.4 and up   \n",
       "\n",
       "  LastUpdated_Month_date LastUpdated_Year  \n",
       "0              January 7             2018  \n",
       "1             January 15             2018  \n",
       "2               August 1             2018  \n",
       "3                 June 8             2018  \n",
       "4                June 20             2018  "
      ]
     },
     "execution_count": 637,
     "metadata": {},
     "output_type": "execute_result"
    }
   ],
   "source": [
    "inp1.head()"
   ]
  },
  {
   "cell_type": "markdown",
   "id": "38a863a1-a92a-48f8-bc21-2a17c550edbc",
   "metadata": {},
   "source": [
    "<center>\n",
    "\n",
    "#### 💰💻 **Handling Price Column Data Type** 🏷️\n",
    "\n",
    "</center>\n"
   ]
  },
  {
   "cell_type": "markdown",
   "id": "a5bf2930-72f6-413a-960f-2ba126d40d7e",
   "metadata": {},
   "source": [
    "- #### 📌Converting 'Price' Column to Numeric Type After Removing  \"$\" Symbol"
   ]
  },
  {
   "cell_type": "code",
   "execution_count": 641,
   "id": "b1bd47f8-0f3b-481c-b466-b7c4f0c104c8",
   "metadata": {},
   "outputs": [],
   "source": [
    "inp1.Price=inp1.Price.apply(lambda x:0 if x==\"0\" else float(x[1:]))"
   ]
  },
  {
   "cell_type": "code",
   "execution_count": 643,
   "id": "3f059f2a-5d77-4512-ac25-19bc69b2eaca",
   "metadata": {},
   "outputs": [
    {
     "data": {
      "text/plain": [
       "dtype('float64')"
      ]
     },
     "execution_count": 643,
     "metadata": {},
     "output_type": "execute_result"
    }
   ],
   "source": [
    "inp1.Price.dtypes"
   ]
  },
  {
   "cell_type": "markdown",
   "id": "91fd7115-e73b-4166-928b-e7d0adb607b9",
   "metadata": {},
   "source": [
    "<center>\n",
    "\n",
    "#### 📝🔢 **Handle the Reviews Column Data Types** 🔧\n",
    "\n",
    "</center>\n"
   ]
  },
  {
   "cell_type": "markdown",
   "id": "a0d4f732-e586-40f9-bb53-a80321d92dc1",
   "metadata": {},
   "source": [
    "- #### 📌Converting 'Reviews' Column to Integer Type"
   ]
  },
  {
   "cell_type": "code",
   "execution_count": 647,
   "id": "c8ea90d8-46dd-410b-a34a-08902829c751",
   "metadata": {},
   "outputs": [],
   "source": [
    "inp1.Reviews=inp1.Reviews.astype(\"int32\")"
   ]
  },
  {
   "cell_type": "code",
   "execution_count": 649,
   "id": "670d7a6b-2a73-4557-89b0-818a59f89876",
   "metadata": {},
   "outputs": [
    {
     "data": {
      "text/plain": [
       "App                        object\n",
       "Category                   object\n",
       "Rating                    float64\n",
       "Reviews                     int32\n",
       "Size                       object\n",
       "Installs                   object\n",
       "Type                       object\n",
       "Price                     float64\n",
       "ContentRating              object\n",
       "Genres                     object\n",
       "CurrentVer                 object\n",
       "AndroidVer                 object\n",
       "LastUpdated_Month_date     object\n",
       "LastUpdated_Year           object\n",
       "dtype: object"
      ]
     },
     "execution_count": 649,
     "metadata": {},
     "output_type": "execute_result"
    }
   ],
   "source": [
    "inp1.dtypes"
   ]
  },
  {
   "cell_type": "code",
   "execution_count": null,
   "id": "dc5d2ef7-1dff-4c16-9ec1-66d722700aa1",
   "metadata": {},
   "outputs": [],
   "source": []
  },
  {
   "cell_type": "markdown",
   "id": "33567ae6-dc41-4675-9b6e-2d4dd1b1378d",
   "metadata": {},
   "source": [
    "<center>\n",
    "\n",
    "#### 🧹📉 **Clean Up or Handle the INSTALLS Column** 🔧\n",
    "\n",
    "</center>\n"
   ]
  },
  {
   "cell_type": "code",
   "execution_count": 653,
   "id": "8f81ce07-f32f-4c8f-a621-d16b543d730b",
   "metadata": {},
   "outputs": [
    {
     "data": {
      "text/plain": [
       "<bound method NDFrame.describe of 0            10,000+\n",
       "1           500,000+\n",
       "2         5,000,000+\n",
       "3        50,000,000+\n",
       "4           100,000+\n",
       "            ...     \n",
       "10834           500+\n",
       "10836         5,000+\n",
       "10837           100+\n",
       "10839         1,000+\n",
       "10840    10,000,000+\n",
       "Name: Installs, Length: 9366, dtype: object>"
      ]
     },
     "execution_count": 653,
     "metadata": {},
     "output_type": "execute_result"
    }
   ],
   "source": [
    "inp1.Installs.describe"
   ]
  },
  {
   "cell_type": "markdown",
   "id": "871172b2-d584-46d0-af32-00aced2a0702",
   "metadata": {},
   "source": [
    "- #### 📌 Function to Clean 'Installs' Values by Removing Commas and Plus Signs"
   ]
  },
  {
   "cell_type": "code",
   "execution_count": 656,
   "id": "b4e7720c-3f7b-4ff4-a360-f6d68de28fa1",
   "metadata": {},
   "outputs": [],
   "source": [
    "def clean_installs(val):\n",
    "    return int(val.replace(\",\",\"\").replace(\"+\",\"\"))"
   ]
  },
  {
   "cell_type": "markdown",
   "id": "36fa5b87-43d9-46d6-8e6f-34521e4b4224",
   "metadata": {},
   "source": [
    "- #### 📌 Cleaning and Converting 'Installs' Value to Integer"
   ]
  },
  {
   "cell_type": "code",
   "execution_count": 659,
   "id": "d8730345-d46a-440d-9ac3-9c4220c27796",
   "metadata": {},
   "outputs": [
    {
     "data": {
      "text/plain": [
       "3000"
      ]
     },
     "execution_count": 659,
     "metadata": {},
     "output_type": "execute_result"
    }
   ],
   "source": [
    "clean_installs(\"3,000+\")"
   ]
  },
  {
   "cell_type": "markdown",
   "id": "f5e298dd-8886-4a5f-9ffe-1b4edbea749f",
   "metadata": {},
   "source": [
    "- #### 📌 Transforming 'Installs' String with Comma and Plus to Integer"
   ]
  },
  {
   "cell_type": "code",
   "execution_count": 662,
   "id": "f8427dcb-224a-4caa-a876-fbfd9d96a06d",
   "metadata": {},
   "outputs": [
    {
     "data": {
      "text/plain": [
       "int"
      ]
     },
     "execution_count": 662,
     "metadata": {},
     "output_type": "execute_result"
    }
   ],
   "source": [
    "type(clean_installs(\"300,00+\"))"
   ]
  },
  {
   "cell_type": "markdown",
   "id": "f8a901eb-9d30-4232-b11e-e26a38c721e4",
   "metadata": {},
   "source": [
    "- #### 📌 Data Cleaning for 'Installs' Column with clean_installs Function"
   ]
  },
  {
   "cell_type": "code",
   "execution_count": 665,
   "id": "53083ee0-523e-40f3-8567-6703c7621952",
   "metadata": {},
   "outputs": [],
   "source": [
    "inp1.Installs=inp1.Installs.apply(clean_installs)"
   ]
  },
  {
   "cell_type": "markdown",
   "id": "ee0b226d-fa9a-40ea-ba55-169ca88751b5",
   "metadata": {},
   "source": [
    "- #### 📌 Summary Statistics for the 'Installs' Data"
   ]
  },
  {
   "cell_type": "code",
   "execution_count": 668,
   "id": "7086dd12-ff12-49d3-9266-5e761ef9f9e8",
   "metadata": {},
   "outputs": [
    {
     "data": {
      "text/plain": [
       "<bound method NDFrame.describe of 0           10000\n",
       "1          500000\n",
       "2         5000000\n",
       "3        50000000\n",
       "4          100000\n",
       "           ...   \n",
       "10834         500\n",
       "10836        5000\n",
       "10837         100\n",
       "10839        1000\n",
       "10840    10000000\n",
       "Name: Installs, Length: 9366, dtype: int64>"
      ]
     },
     "execution_count": 668,
     "metadata": {},
     "output_type": "execute_result"
    }
   ],
   "source": [
    "inp1.Installs.describe"
   ]
  },
  {
   "cell_type": "code",
   "execution_count": null,
   "id": "a91077fb-900e-435f-95e0-a5ee04b40ca2",
   "metadata": {},
   "outputs": [],
   "source": []
  },
  {
   "cell_type": "code",
   "execution_count": null,
   "id": "56aab57b-a5e0-4ce1-9645-b5ffff2f9d53",
   "metadata": {},
   "outputs": [],
   "source": []
  },
  {
   "cell_type": "markdown",
   "id": "63a5375b-d4d0-4c12-ad8d-6a300e3ae54b",
   "metadata": {},
   "source": [
    "<center>\n",
    "\n",
    "#### 🧽📏 **Cleaning Size Column** 🧹\n",
    "\n",
    "</center>\n"
   ]
  },
  {
   "cell_type": "markdown",
   "id": "4a50c0b6-aced-4d2d-a52a-8fc5814ea4e5",
   "metadata": {},
   "source": [
    "- #### 📌 Cleaning 'Size' Column by Converting 'M' and 'K' to Numeric Values"
   ]
  },
  {
   "cell_type": "code",
   "execution_count": 674,
   "id": "bd9580f4-687b-427b-801f-682f945e08da",
   "metadata": {},
   "outputs": [],
   "source": [
    "def clean_size(val):\n",
    "    if 'M' in val:\n",
    "        return float(float(val.replace(\"M\", \"\")) * 1000)\n",
    "    elif 'K' in val:\n",
    "        return float(val.replace(\"K\", \"\"))\n",
    "    else:\n",
    "        return float()"
   ]
  },
  {
   "cell_type": "markdown",
   "id": "2098875e-0736-4514-b2b9-e3b2b37c8994",
   "metadata": {},
   "source": [
    "- #### 📌 Converting 'Size' from Megabytes to Kilobytes"
   ]
  },
  {
   "cell_type": "code",
   "execution_count": 677,
   "id": "5f1be377-0d97-4ce4-b28c-04cd9813f371",
   "metadata": {},
   "outputs": [
    {
     "data": {
      "text/plain": [
       "19000.0"
      ]
     },
     "execution_count": 677,
     "metadata": {},
     "output_type": "execute_result"
    }
   ],
   "source": [
    "clean_size(\"19M\")"
   ]
  },
  {
   "cell_type": "markdown",
   "id": "c9cf93e3-205a-4d3a-aad5-847e142726fc",
   "metadata": {},
   "source": [
    "- #### 📌 Applying clean_size Function to the 'Size' Column"
   ]
  },
  {
   "cell_type": "code",
   "execution_count": 680,
   "id": "89f93abc-e32b-4448-a875-3b87e4191f31",
   "metadata": {},
   "outputs": [],
   "source": [
    "inp1.Size=inp1.Size.apply(clean_size)"
   ]
  },
  {
   "cell_type": "code",
   "execution_count": null,
   "id": "c4f01682-0c93-4976-9bf3-f3412d2abd2b",
   "metadata": {},
   "outputs": [],
   "source": []
  },
  {
   "cell_type": "code",
   "execution_count": null,
   "id": "45d4aef2-c21c-455c-91a2-24a6c169faa4",
   "metadata": {},
   "outputs": [],
   "source": []
  },
  {
   "cell_type": "markdown",
   "id": "b2234f68-66cb-4f4e-9a39-a10176f96b2b",
   "metadata": {},
   "source": [
    "<center>\n",
    "\n",
    "#### 🚫❌ **Removing Rows with 'Unrated' and 'Adults Only 18+' Content Ratings** 🔞\n",
    "\n",
    "</center>\n"
   ]
  },
  {
   "cell_type": "code",
   "execution_count": 685,
   "id": "8895e355-e9c7-4a08-b5ff-2c0fa70dc475",
   "metadata": {},
   "outputs": [],
   "source": [
    "inp1 = inp1[~inp1['ContentRating'].isin(['Unrated', 'Adults only 18+'])]"
   ]
  },
  {
   "cell_type": "code",
   "execution_count": null,
   "id": "1bdef298-45b4-4bf7-980a-ee13d76038dd",
   "metadata": {},
   "outputs": [],
   "source": []
  },
  {
   "cell_type": "code",
   "execution_count": null,
   "id": "cc1e6e13-ac5b-4ebf-b9d9-6c2467c36edb",
   "metadata": {},
   "outputs": [],
   "source": []
  },
  {
   "cell_type": "markdown",
   "id": "613fb304-76f1-4e21-b548-936dcf414376",
   "metadata": {},
   "source": [
    "<center>\n",
    "\n",
    "### 🔍📊 **Identifying and Handling Outliers/Extreme Values** ⚖️\n",
    "\n",
    "</center>\n",
    "\n"
   ]
  },
  {
   "cell_type": "markdown",
   "id": "7817f30b-d675-4dd9-9bd4-182df5494fb5",
   "metadata": {},
   "source": [
    "- #### 📌 Importing libraries for visulization"
   ]
  },
  {
   "cell_type": "code",
   "execution_count": 691,
   "id": "911494af-abd6-4c0a-ab3e-e57d3d5b2a70",
   "metadata": {},
   "outputs": [],
   "source": [
    "import matplotlib.pyplot as plt\n",
    "%matplotlib inline"
   ]
  },
  {
   "cell_type": "markdown",
   "id": "7bea2119-b50e-4acc-a7d9-36c5508d5dfb",
   "metadata": {},
   "source": [
    "- #### 📌 Visualizing the Distribution of 'Price' Column Using a Boxplot"
   ]
  },
  {
   "cell_type": "code",
   "execution_count": 694,
   "id": "8e553714-cfa4-4289-880e-8aeb04426b64",
   "metadata": {},
   "outputs": [
    {
     "data": {
      "image/png": "[encoded data removed]",
      "text/plain": [
       "<Figure size 640x480 with 1 Axes>"
      ]
     },
     "metadata": {},
     "output_type": "display_data"
    }
   ],
   "source": [
    "plt.boxplot(inp1.Price)\n",
    "plt.show()"
   ]
  },
  {
   "cell_type": "markdown",
   "id": "cea58633-7f3f-457c-bd71-2acae3805e1b",
   "metadata": {},
   "source": [
    "- #### 📌 Identifying Apps with Prices Above 200"
   ]
  },
  {
   "cell_type": "code",
   "execution_count": 697,
   "id": "e4037249-a4e2-4e07-afb5-29ef50311a2e",
   "metadata": {},
   "outputs": [
    {
     "data": {
      "text/html": [
       "<div>\n",
       "<style scoped>\n",
       "    .dataframe tbody tr th:only-of-type {\n",
       "        vertical-align: middle;\n",
       "    }\n",
       "\n",
       "    .dataframe tbody tr th {\n",
       "        vertical-align: top;\n",
       "    }\n",
       "\n",
       "    .dataframe thead th {\n",
       "        text-align: right;\n",
       "    }\n",
       "</style>\n",
       "<table border=\"1\" class=\"dataframe\">\n",
       "  <thead>\n",
       "    <tr style=\"text-align: right;\">\n",
       "      <th></th>\n",
       "      <th>App</th>\n",
       "      <th>Category</th>\n",
       "      <th>Rating</th>\n",
       "      <th>Reviews</th>\n",
       "      <th>Size</th>\n",
       "      <th>Installs</th>\n",
       "      <th>Type</th>\n",
       "      <th>Price</th>\n",
       "      <th>ContentRating</th>\n",
       "      <th>Genres</th>\n",
       "      <th>CurrentVer</th>\n",
       "      <th>AndroidVer</th>\n",
       "      <th>LastUpdated_Month_date</th>\n",
       "      <th>LastUpdated_Year</th>\n",
       "    </tr>\n",
       "  </thead>\n",
       "  <tbody>\n",
       "    <tr>\n",
       "      <th>4197</th>\n",
       "      <td>most expensive app (H)</td>\n",
       "      <td>FAMILY</td>\n",
       "      <td>4.3</td>\n",
       "      <td>6</td>\n",
       "      <td>1500.0</td>\n",
       "      <td>100</td>\n",
       "      <td>Paid</td>\n",
       "      <td>399.99</td>\n",
       "      <td>Everyone</td>\n",
       "      <td>Entertainment</td>\n",
       "      <td>1</td>\n",
       "      <td>7.0 and up</td>\n",
       "      <td>July 16</td>\n",
       "      <td>2018</td>\n",
       "    </tr>\n",
       "    <tr>\n",
       "      <th>4362</th>\n",
       "      <td>💎 I'm rich</td>\n",
       "      <td>LIFESTYLE</td>\n",
       "      <td>3.8</td>\n",
       "      <td>718</td>\n",
       "      <td>26000.0</td>\n",
       "      <td>10000</td>\n",
       "      <td>Paid</td>\n",
       "      <td>399.99</td>\n",
       "      <td>Everyone</td>\n",
       "      <td>Lifestyle</td>\n",
       "      <td>1.0.0</td>\n",
       "      <td>4.4 and up</td>\n",
       "      <td>March 11</td>\n",
       "      <td>2018</td>\n",
       "    </tr>\n",
       "    <tr>\n",
       "      <th>4367</th>\n",
       "      <td>I'm Rich - Trump Edition</td>\n",
       "      <td>LIFESTYLE</td>\n",
       "      <td>3.6</td>\n",
       "      <td>275</td>\n",
       "      <td>7300.0</td>\n",
       "      <td>10000</td>\n",
       "      <td>Paid</td>\n",
       "      <td>400.00</td>\n",
       "      <td>Everyone</td>\n",
       "      <td>Lifestyle</td>\n",
       "      <td>1.0.1</td>\n",
       "      <td>4.1 and up</td>\n",
       "      <td>May 3</td>\n",
       "      <td>2018</td>\n",
       "    </tr>\n",
       "    <tr>\n",
       "      <th>5351</th>\n",
       "      <td>I am rich</td>\n",
       "      <td>LIFESTYLE</td>\n",
       "      <td>3.8</td>\n",
       "      <td>3547</td>\n",
       "      <td>1800.0</td>\n",
       "      <td>100000</td>\n",
       "      <td>Paid</td>\n",
       "      <td>399.99</td>\n",
       "      <td>Everyone</td>\n",
       "      <td>Lifestyle</td>\n",
       "      <td>2</td>\n",
       "      <td>4.0.3 and up</td>\n",
       "      <td>January 12</td>\n",
       "      <td>2018</td>\n",
       "    </tr>\n",
       "    <tr>\n",
       "      <th>5354</th>\n",
       "      <td>I am Rich Plus</td>\n",
       "      <td>FAMILY</td>\n",
       "      <td>4.0</td>\n",
       "      <td>856</td>\n",
       "      <td>8700.0</td>\n",
       "      <td>10000</td>\n",
       "      <td>Paid</td>\n",
       "      <td>399.99</td>\n",
       "      <td>Everyone</td>\n",
       "      <td>Entertainment</td>\n",
       "      <td>3</td>\n",
       "      <td>4.4 and up</td>\n",
       "      <td>May 19</td>\n",
       "      <td>2018</td>\n",
       "    </tr>\n",
       "    <tr>\n",
       "      <th>5355</th>\n",
       "      <td>I am rich VIP</td>\n",
       "      <td>LIFESTYLE</td>\n",
       "      <td>3.8</td>\n",
       "      <td>411</td>\n",
       "      <td>2600.0</td>\n",
       "      <td>10000</td>\n",
       "      <td>Paid</td>\n",
       "      <td>299.99</td>\n",
       "      <td>Everyone</td>\n",
       "      <td>Lifestyle</td>\n",
       "      <td>1.1.1</td>\n",
       "      <td>4.3 and up</td>\n",
       "      <td>July 21</td>\n",
       "      <td>2018</td>\n",
       "    </tr>\n",
       "    <tr>\n",
       "      <th>5356</th>\n",
       "      <td>I Am Rich Premium</td>\n",
       "      <td>FINANCE</td>\n",
       "      <td>4.1</td>\n",
       "      <td>1867</td>\n",
       "      <td>4700.0</td>\n",
       "      <td>50000</td>\n",
       "      <td>Paid</td>\n",
       "      <td>399.99</td>\n",
       "      <td>Everyone</td>\n",
       "      <td>Finance</td>\n",
       "      <td>1.6</td>\n",
       "      <td>4.0 and up</td>\n",
       "      <td>November 12</td>\n",
       "      <td>2017</td>\n",
       "    </tr>\n",
       "    <tr>\n",
       "      <th>5357</th>\n",
       "      <td>I am extremely Rich</td>\n",
       "      <td>LIFESTYLE</td>\n",
       "      <td>2.9</td>\n",
       "      <td>41</td>\n",
       "      <td>2900.0</td>\n",
       "      <td>1000</td>\n",
       "      <td>Paid</td>\n",
       "      <td>379.99</td>\n",
       "      <td>Everyone</td>\n",
       "      <td>Lifestyle</td>\n",
       "      <td>1</td>\n",
       "      <td>4.0 and up</td>\n",
       "      <td>July 1</td>\n",
       "      <td>2018</td>\n",
       "    </tr>\n",
       "    <tr>\n",
       "      <th>5358</th>\n",
       "      <td>I am Rich!</td>\n",
       "      <td>FINANCE</td>\n",
       "      <td>3.8</td>\n",
       "      <td>93</td>\n",
       "      <td>22000.0</td>\n",
       "      <td>1000</td>\n",
       "      <td>Paid</td>\n",
       "      <td>399.99</td>\n",
       "      <td>Everyone</td>\n",
       "      <td>Finance</td>\n",
       "      <td>1</td>\n",
       "      <td>4.1 and up</td>\n",
       "      <td>December 11</td>\n",
       "      <td>2017</td>\n",
       "    </tr>\n",
       "    <tr>\n",
       "      <th>5359</th>\n",
       "      <td>I am rich(premium)</td>\n",
       "      <td>FINANCE</td>\n",
       "      <td>3.5</td>\n",
       "      <td>472</td>\n",
       "      <td>0.0</td>\n",
       "      <td>5000</td>\n",
       "      <td>Paid</td>\n",
       "      <td>399.99</td>\n",
       "      <td>Everyone</td>\n",
       "      <td>Finance</td>\n",
       "      <td>3.4</td>\n",
       "      <td>4.4 and up</td>\n",
       "      <td>May 1</td>\n",
       "      <td>2017</td>\n",
       "    </tr>\n",
       "    <tr>\n",
       "      <th>5362</th>\n",
       "      <td>I Am Rich Pro</td>\n",
       "      <td>FAMILY</td>\n",
       "      <td>4.4</td>\n",
       "      <td>201</td>\n",
       "      <td>2700.0</td>\n",
       "      <td>5000</td>\n",
       "      <td>Paid</td>\n",
       "      <td>399.99</td>\n",
       "      <td>Everyone</td>\n",
       "      <td>Entertainment</td>\n",
       "      <td>1.54</td>\n",
       "      <td>1.6 and up</td>\n",
       "      <td>May 30</td>\n",
       "      <td>2017</td>\n",
       "    </tr>\n",
       "    <tr>\n",
       "      <th>5364</th>\n",
       "      <td>I am rich (Most expensive app)</td>\n",
       "      <td>FINANCE</td>\n",
       "      <td>4.1</td>\n",
       "      <td>129</td>\n",
       "      <td>2700.0</td>\n",
       "      <td>1000</td>\n",
       "      <td>Paid</td>\n",
       "      <td>399.99</td>\n",
       "      <td>Teen</td>\n",
       "      <td>Finance</td>\n",
       "      <td>2</td>\n",
       "      <td>4.0.3 and up</td>\n",
       "      <td>December 6</td>\n",
       "      <td>2017</td>\n",
       "    </tr>\n",
       "    <tr>\n",
       "      <th>5366</th>\n",
       "      <td>I Am Rich</td>\n",
       "      <td>FAMILY</td>\n",
       "      <td>3.6</td>\n",
       "      <td>217</td>\n",
       "      <td>4900.0</td>\n",
       "      <td>10000</td>\n",
       "      <td>Paid</td>\n",
       "      <td>389.99</td>\n",
       "      <td>Everyone</td>\n",
       "      <td>Entertainment</td>\n",
       "      <td>1.5</td>\n",
       "      <td>4.2 and up</td>\n",
       "      <td>June 22</td>\n",
       "      <td>2018</td>\n",
       "    </tr>\n",
       "    <tr>\n",
       "      <th>5369</th>\n",
       "      <td>I am Rich</td>\n",
       "      <td>FINANCE</td>\n",
       "      <td>4.3</td>\n",
       "      <td>180</td>\n",
       "      <td>3800.0</td>\n",
       "      <td>5000</td>\n",
       "      <td>Paid</td>\n",
       "      <td>399.99</td>\n",
       "      <td>Everyone</td>\n",
       "      <td>Finance</td>\n",
       "      <td>1</td>\n",
       "      <td>4.2 and up</td>\n",
       "      <td>March 22</td>\n",
       "      <td>2018</td>\n",
       "    </tr>\n",
       "    <tr>\n",
       "      <th>5373</th>\n",
       "      <td>I AM RICH PRO PLUS</td>\n",
       "      <td>FINANCE</td>\n",
       "      <td>4.0</td>\n",
       "      <td>36</td>\n",
       "      <td>41000.0</td>\n",
       "      <td>1000</td>\n",
       "      <td>Paid</td>\n",
       "      <td>399.99</td>\n",
       "      <td>Everyone</td>\n",
       "      <td>Finance</td>\n",
       "      <td>1.0.2</td>\n",
       "      <td>4.1 and up</td>\n",
       "      <td>June 25</td>\n",
       "      <td>2018</td>\n",
       "    </tr>\n",
       "  </tbody>\n",
       "</table>\n",
       "</div>"
      ],
      "text/plain": [
       "                                 App   Category  Rating  Reviews     Size  \\\n",
       "4197          most expensive app (H)     FAMILY     4.3        6   1500.0   \n",
       "4362                      💎 I'm rich  LIFESTYLE     3.8      718  26000.0   \n",
       "4367        I'm Rich - Trump Edition  LIFESTYLE     3.6      275   7300.0   \n",
       "5351                       I am rich  LIFESTYLE     3.8     3547   1800.0   \n",
       "5354                  I am Rich Plus     FAMILY     4.0      856   8700.0   \n",
       "5355                   I am rich VIP  LIFESTYLE     3.8      411   2600.0   \n",
       "5356               I Am Rich Premium    FINANCE     4.1     1867   4700.0   \n",
       "5357             I am extremely Rich  LIFESTYLE     2.9       41   2900.0   \n",
       "5358                      I am Rich!    FINANCE     3.8       93  22000.0   \n",
       "5359              I am rich(premium)    FINANCE     3.5      472      0.0   \n",
       "5362                   I Am Rich Pro     FAMILY     4.4      201   2700.0   \n",
       "5364  I am rich (Most expensive app)    FINANCE     4.1      129   2700.0   \n",
       "5366                       I Am Rich     FAMILY     3.6      217   4900.0   \n",
       "5369                       I am Rich    FINANCE     4.3      180   3800.0   \n",
       "5373              I AM RICH PRO PLUS    FINANCE     4.0       36  41000.0   \n",
       "\n",
       "      Installs  Type   Price ContentRating         Genres CurrentVer  \\\n",
       "4197       100  Paid  399.99      Everyone  Entertainment          1   \n",
       "4362     10000  Paid  399.99      Everyone      Lifestyle      1.0.0   \n",
       "4367     10000  Paid  400.00      Everyone      Lifestyle      1.0.1   \n",
       "5351    100000  Paid  399.99      Everyone      Lifestyle          2   \n",
       "5354     10000  Paid  399.99      Everyone  Entertainment          3   \n",
       "5355     10000  Paid  299.99      Everyone      Lifestyle      1.1.1   \n",
       "5356     50000  Paid  399.99      Everyone        Finance        1.6   \n",
       "5357      1000  Paid  379.99      Everyone      Lifestyle          1   \n",
       "5358      1000  Paid  399.99      Everyone        Finance          1   \n",
       "5359      5000  Paid  399.99      Everyone        Finance        3.4   \n",
       "5362      5000  Paid  399.99      Everyone  Entertainment       1.54   \n",
       "5364      1000  Paid  399.99          Teen        Finance          2   \n",
       "5366     10000  Paid  389.99      Everyone  Entertainment        1.5   \n",
       "5369      5000  Paid  399.99      Everyone        Finance          1   \n",
       "5373      1000  Paid  399.99      Everyone        Finance      1.0.2   \n",
       "\n",
       "        AndroidVer LastUpdated_Month_date LastUpdated_Year  \n",
       "4197    7.0 and up                July 16             2018  \n",
       "4362    4.4 and up               March 11             2018  \n",
       "4367    4.1 and up                  May 3             2018  \n",
       "5351  4.0.3 and up             January 12             2018  \n",
       "5354    4.4 and up                 May 19             2018  \n",
       "5355    4.3 and up                July 21             2018  \n",
       "5356    4.0 and up            November 12             2017  \n",
       "5357    4.0 and up                 July 1             2018  \n",
       "5358    4.1 and up            December 11             2017  \n",
       "5359    4.4 and up                  May 1             2017  \n",
       "5362    1.6 and up                 May 30             2017  \n",
       "5364  4.0.3 and up             December 6             2017  \n",
       "5366    4.2 and up                June 22             2018  \n",
       "5369    4.2 and up               March 22             2018  \n",
       "5373    4.1 and up                June 25             2018  "
      ]
     },
     "execution_count": 697,
     "metadata": {},
     "output_type": "execute_result"
    }
   ],
   "source": [
    "inp1[inp1.Price>200]"
   ]
  },
  {
   "cell_type": "markdown",
   "id": "abf7eea0-1953-4184-8934-dbb7a4dc7743",
   "metadata": {},
   "source": [
    "- #### 📌  Filtering Out Apps Priced Above 200"
   ]
  },
  {
   "cell_type": "code",
   "execution_count": 700,
   "id": "c3286457-4955-4b7f-988a-39e8c4bf07aa",
   "metadata": {},
   "outputs": [],
   "source": [
    "inp1=inp1[~(inp1.Price>200)]"
   ]
  },
  {
   "cell_type": "markdown",
   "id": "bd44cf04-7d3c-4962-81b4-5761a370590f",
   "metadata": {},
   "source": [
    "- #### 📌 Identifying Apps with Price Greater Than 200"
   ]
  },
  {
   "cell_type": "code",
   "execution_count": 703,
   "id": "422f16de-1a3e-4a8a-9050-fa050d3f4f29",
   "metadata": {},
   "outputs": [
    {
     "data": {
      "text/html": [
       "<div>\n",
       "<style scoped>\n",
       "    .dataframe tbody tr th:only-of-type {\n",
       "        vertical-align: middle;\n",
       "    }\n",
       "\n",
       "    .dataframe tbody tr th {\n",
       "        vertical-align: top;\n",
       "    }\n",
       "\n",
       "    .dataframe thead th {\n",
       "        text-align: right;\n",
       "    }\n",
       "</style>\n",
       "<table border=\"1\" class=\"dataframe\">\n",
       "  <thead>\n",
       "    <tr style=\"text-align: right;\">\n",
       "      <th></th>\n",
       "      <th>App</th>\n",
       "      <th>Category</th>\n",
       "      <th>Rating</th>\n",
       "      <th>Reviews</th>\n",
       "      <th>Size</th>\n",
       "      <th>Installs</th>\n",
       "      <th>Type</th>\n",
       "      <th>Price</th>\n",
       "      <th>ContentRating</th>\n",
       "      <th>Genres</th>\n",
       "      <th>CurrentVer</th>\n",
       "      <th>AndroidVer</th>\n",
       "      <th>LastUpdated_Month_date</th>\n",
       "      <th>LastUpdated_Year</th>\n",
       "    </tr>\n",
       "  </thead>\n",
       "  <tbody>\n",
       "  </tbody>\n",
       "</table>\n",
       "</div>"
      ],
      "text/plain": [
       "Empty DataFrame\n",
       "Columns: [App, Category, Rating, Reviews, Size, Installs, Type, Price, ContentRating, Genres, CurrentVer, AndroidVer, LastUpdated_Month_date, LastUpdated_Year]\n",
       "Index: []"
      ]
     },
     "execution_count": 703,
     "metadata": {},
     "output_type": "execute_result"
    }
   ],
   "source": [
    "inp1[inp1.Price>200]"
   ]
  },
  {
   "cell_type": "code",
   "execution_count": null,
   "id": "8aa3f5b6-fb89-4fb9-94a3-e54452bf5860",
   "metadata": {},
   "outputs": [],
   "source": []
  },
  {
   "cell_type": "markdown",
   "id": "59556789-9ddd-42fa-8276-8f1a4a47f4f9",
   "metadata": {},
   "source": [
    "#### <center> Visualizing the Distribution of Positive 'Price' Values</center>"
   ]
  },
  {
   "cell_type": "code",
   "execution_count": 707,
   "id": "79998cce-4021-4a2e-b0c4-29d6838669bf",
   "metadata": {},
   "outputs": [
    {
     "data": {
      "image/png": "[encoded data removed]",
      "text/plain": [
       "<Figure size 640x480 with 1 Axes>"
      ]
     },
     "metadata": {},
     "output_type": "display_data"
    }
   ],
   "source": [
    "plt.boxplot(inp1[inp1.Price>0].Price)\n",
    "plt.show()"
   ]
  },
  {
   "cell_type": "markdown",
   "id": "665620c8-b39a-45d9-b574-ee0c40533efd",
   "metadata": {},
   "source": [
    "- #### Filtering Apps with Price Greater Than 30"
   ]
  },
  {
   "cell_type": "code",
   "execution_count": 710,
   "id": "77dd93ba-c8f8-477e-9599-4d5004840554",
   "metadata": {},
   "outputs": [
    {
     "data": {
      "text/html": [
       "<div>\n",
       "<style scoped>\n",
       "    .dataframe tbody tr th:only-of-type {\n",
       "        vertical-align: middle;\n",
       "    }\n",
       "\n",
       "    .dataframe tbody tr th {\n",
       "        vertical-align: top;\n",
       "    }\n",
       "\n",
       "    .dataframe thead th {\n",
       "        text-align: right;\n",
       "    }\n",
       "</style>\n",
       "<table border=\"1\" class=\"dataframe\">\n",
       "  <thead>\n",
       "    <tr style=\"text-align: right;\">\n",
       "      <th></th>\n",
       "      <th>App</th>\n",
       "      <th>Category</th>\n",
       "      <th>Rating</th>\n",
       "      <th>Reviews</th>\n",
       "      <th>Size</th>\n",
       "      <th>Installs</th>\n",
       "      <th>Type</th>\n",
       "      <th>Price</th>\n",
       "      <th>ContentRating</th>\n",
       "      <th>Genres</th>\n",
       "      <th>CurrentVer</th>\n",
       "      <th>AndroidVer</th>\n",
       "      <th>LastUpdated_Month_date</th>\n",
       "      <th>LastUpdated_Year</th>\n",
       "    </tr>\n",
       "  </thead>\n",
       "  <tbody>\n",
       "    <tr>\n",
       "      <th>2253</th>\n",
       "      <td>Vargo Anesthesia Mega App</td>\n",
       "      <td>MEDICAL</td>\n",
       "      <td>4.6</td>\n",
       "      <td>92</td>\n",
       "      <td>32000.0</td>\n",
       "      <td>1000</td>\n",
       "      <td>Paid</td>\n",
       "      <td>79.99</td>\n",
       "      <td>Everyone</td>\n",
       "      <td>Medical</td>\n",
       "      <td>19</td>\n",
       "      <td>4.0.3 and up</td>\n",
       "      <td>June 18</td>\n",
       "      <td>2018</td>\n",
       "    </tr>\n",
       "    <tr>\n",
       "      <th>2301</th>\n",
       "      <td>A Manual of Acupuncture</td>\n",
       "      <td>MEDICAL</td>\n",
       "      <td>3.5</td>\n",
       "      <td>214</td>\n",
       "      <td>68000.0</td>\n",
       "      <td>1000</td>\n",
       "      <td>Paid</td>\n",
       "      <td>33.99</td>\n",
       "      <td>Everyone</td>\n",
       "      <td>Medical</td>\n",
       "      <td>2.1.35</td>\n",
       "      <td>4.0 and up</td>\n",
       "      <td>October 2</td>\n",
       "      <td>2017</td>\n",
       "    </tr>\n",
       "    <tr>\n",
       "      <th>2365</th>\n",
       "      <td>Vargo Anesthesia Mega App</td>\n",
       "      <td>MEDICAL</td>\n",
       "      <td>4.6</td>\n",
       "      <td>92</td>\n",
       "      <td>32000.0</td>\n",
       "      <td>1000</td>\n",
       "      <td>Paid</td>\n",
       "      <td>79.99</td>\n",
       "      <td>Everyone</td>\n",
       "      <td>Medical</td>\n",
       "      <td>19</td>\n",
       "      <td>4.0.3 and up</td>\n",
       "      <td>June 18</td>\n",
       "      <td>2018</td>\n",
       "    </tr>\n",
       "    <tr>\n",
       "      <th>2402</th>\n",
       "      <td>A Manual of Acupuncture</td>\n",
       "      <td>MEDICAL</td>\n",
       "      <td>3.5</td>\n",
       "      <td>214</td>\n",
       "      <td>68000.0</td>\n",
       "      <td>1000</td>\n",
       "      <td>Paid</td>\n",
       "      <td>33.99</td>\n",
       "      <td>Everyone</td>\n",
       "      <td>Medical</td>\n",
       "      <td>2.1.35</td>\n",
       "      <td>4.0 and up</td>\n",
       "      <td>October 2</td>\n",
       "      <td>2017</td>\n",
       "    </tr>\n",
       "    <tr>\n",
       "      <th>2414</th>\n",
       "      <td>LTC AS Legal</td>\n",
       "      <td>MEDICAL</td>\n",
       "      <td>4.0</td>\n",
       "      <td>6</td>\n",
       "      <td>1300.0</td>\n",
       "      <td>100</td>\n",
       "      <td>Paid</td>\n",
       "      <td>39.99</td>\n",
       "      <td>Everyone</td>\n",
       "      <td>Medical</td>\n",
       "      <td>3.0.1</td>\n",
       "      <td>4.1 and up</td>\n",
       "      <td>April 4</td>\n",
       "      <td>2018</td>\n",
       "    </tr>\n",
       "    <tr>\n",
       "      <th>5360</th>\n",
       "      <td>I am Rich Person</td>\n",
       "      <td>LIFESTYLE</td>\n",
       "      <td>4.2</td>\n",
       "      <td>134</td>\n",
       "      <td>1800.0</td>\n",
       "      <td>1000</td>\n",
       "      <td>Paid</td>\n",
       "      <td>37.99</td>\n",
       "      <td>Everyone</td>\n",
       "      <td>Lifestyle</td>\n",
       "      <td>1</td>\n",
       "      <td>4.0.3 and up</td>\n",
       "      <td>July 18</td>\n",
       "      <td>2017</td>\n",
       "    </tr>\n",
       "  </tbody>\n",
       "</table>\n",
       "</div>"
      ],
      "text/plain": [
       "                            App   Category  Rating  Reviews     Size  \\\n",
       "2253  Vargo Anesthesia Mega App    MEDICAL     4.6       92  32000.0   \n",
       "2301    A Manual of Acupuncture    MEDICAL     3.5      214  68000.0   \n",
       "2365  Vargo Anesthesia Mega App    MEDICAL     4.6       92  32000.0   \n",
       "2402    A Manual of Acupuncture    MEDICAL     3.5      214  68000.0   \n",
       "2414               LTC AS Legal    MEDICAL     4.0        6   1300.0   \n",
       "5360           I am Rich Person  LIFESTYLE     4.2      134   1800.0   \n",
       "\n",
       "      Installs  Type  Price ContentRating     Genres CurrentVer    AndroidVer  \\\n",
       "2253      1000  Paid  79.99      Everyone    Medical         19  4.0.3 and up   \n",
       "2301      1000  Paid  33.99      Everyone    Medical     2.1.35    4.0 and up   \n",
       "2365      1000  Paid  79.99      Everyone    Medical         19  4.0.3 and up   \n",
       "2402      1000  Paid  33.99      Everyone    Medical     2.1.35    4.0 and up   \n",
       "2414       100  Paid  39.99      Everyone    Medical      3.0.1    4.1 and up   \n",
       "5360      1000  Paid  37.99      Everyone  Lifestyle          1  4.0.3 and up   \n",
       "\n",
       "     LastUpdated_Month_date LastUpdated_Year  \n",
       "2253                June 18             2018  \n",
       "2301              October 2             2017  \n",
       "2365                June 18             2018  \n",
       "2402              October 2             2017  \n",
       "2414                April 4             2018  \n",
       "5360                July 18             2017  "
      ]
     },
     "execution_count": 710,
     "metadata": {},
     "output_type": "execute_result"
    }
   ],
   "source": [
    "inp1[inp1.Price>30]"
   ]
  },
  {
   "cell_type": "markdown",
   "id": "521c6a15-d884-4d90-9035-28a2d4950fe5",
   "metadata": {},
   "source": [
    "- #### Removing Rows with Price Greater Than 30"
   ]
  },
  {
   "cell_type": "code",
   "execution_count": 713,
   "id": "a06e0b67-21ec-4403-8753-51877ecd308c",
   "metadata": {},
   "outputs": [],
   "source": [
    "inp1=inp1[~(inp1.Price>30)]"
   ]
  },
  {
   "cell_type": "markdown",
   "id": "8dca1557-d56f-483d-bf53-676361efb399",
   "metadata": {},
   "source": [
    "- #### Shape of Dataset for Apps Priced Above 30"
   ]
  },
  {
   "cell_type": "code",
   "execution_count": 716,
   "id": "dc7258da-8fd5-4423-bdda-add98cca9961",
   "metadata": {},
   "outputs": [
    {
     "data": {
      "text/plain": [
       "(0, 14)"
      ]
     },
     "execution_count": 716,
     "metadata": {},
     "output_type": "execute_result"
    }
   ],
   "source": [
    "inp1[inp1.Price>30].shape"
   ]
  },
  {
   "cell_type": "code",
   "execution_count": null,
   "id": "49e326ae-9e09-4cf2-a755-5ee8097b975b",
   "metadata": {},
   "outputs": [],
   "source": []
  },
  {
   "cell_type": "markdown",
   "id": "b3cf2b1a-aaaf-4b92-9fe0-6bc11490ea2f",
   "metadata": {},
   "source": [
    "<center>\n",
    "\n",
    "### 📊📈 **VISUALIZATION** 🔍\n",
    "\n",
    "</center>\n"
   ]
  },
  {
   "cell_type": "markdown",
   "id": "1af8877b-c6a2-4aeb-91c2-76ac6efcdd43",
   "metadata": {},
   "source": [
    "- #### Visualizing the Distribution of 'Reviews' with a Histogram"
   ]
  },
  {
   "cell_type": "code",
   "execution_count": 721,
   "id": "b404e898-6e8e-4a27-b3e1-15f7fd47b530",
   "metadata": {},
   "outputs": [
    {
     "data": {
      "image/png": "[encoded data removed]",
      "text/plain": [
       "<Figure size 640x480 with 1 Axes>"
      ]
     },
     "metadata": {},
     "output_type": "display_data"
    }
   ],
   "source": [
    "plt.hist(inp1.Reviews)\n",
    "plt.show()"
   ]
  },
  {
   "cell_type": "markdown",
   "id": "5b7c81db-3ea9-4772-8354-cfe072d18c41",
   "metadata": {},
   "source": [
    "- #### Visualizing the Spread of 'Reviews' Using a Boxplot"
   ]
  },
  {
   "cell_type": "code",
   "execution_count": 724,
   "id": "479e3882-651c-4227-b6fe-c49d4cb24ce3",
   "metadata": {},
   "outputs": [
    {
     "data": {
      "image/png": "[encoded data removed]",
      "text/plain": [
       "<Figure size 640x480 with 1 Axes>"
      ]
     },
     "metadata": {},
     "output_type": "display_data"
    }
   ],
   "source": [
    "plt.boxplot(inp1.Reviews)\n",
    "plt.show()"
   ]
  },
  {
   "cell_type": "markdown",
   "id": "9787ffc2-be7c-4268-8388-4adfcea0cdef",
   "metadata": {},
   "source": [
    "- #### Identifying Apps with Over 10 Million Reviews"
   ]
  },
  {
   "cell_type": "code",
   "execution_count": 727,
   "id": "5ea9c4f3-0158-4559-a139-0b8e7287a8fb",
   "metadata": {},
   "outputs": [
    {
     "data": {
      "text/html": [
       "<div>\n",
       "<style scoped>\n",
       "    .dataframe tbody tr th:only-of-type {\n",
       "        vertical-align: middle;\n",
       "    }\n",
       "\n",
       "    .dataframe tbody tr th {\n",
       "        vertical-align: top;\n",
       "    }\n",
       "\n",
       "    .dataframe thead th {\n",
       "        text-align: right;\n",
       "    }\n",
       "</style>\n",
       "<table border=\"1\" class=\"dataframe\">\n",
       "  <thead>\n",
       "    <tr style=\"text-align: right;\">\n",
       "      <th></th>\n",
       "      <th>App</th>\n",
       "      <th>Category</th>\n",
       "      <th>Rating</th>\n",
       "      <th>Reviews</th>\n",
       "      <th>Size</th>\n",
       "      <th>Installs</th>\n",
       "      <th>Type</th>\n",
       "      <th>Price</th>\n",
       "      <th>ContentRating</th>\n",
       "      <th>Genres</th>\n",
       "      <th>CurrentVer</th>\n",
       "      <th>AndroidVer</th>\n",
       "      <th>LastUpdated_Month_date</th>\n",
       "      <th>LastUpdated_Year</th>\n",
       "    </tr>\n",
       "  </thead>\n",
       "  <tbody>\n",
       "    <tr>\n",
       "      <th>335</th>\n",
       "      <td>Messenger – Text and Video Chat for Free</td>\n",
       "      <td>COMMUNICATION</td>\n",
       "      <td>4.0</td>\n",
       "      <td>56642847</td>\n",
       "      <td>0.0</td>\n",
       "      <td>1000000000</td>\n",
       "      <td>Free</td>\n",
       "      <td>0.0</td>\n",
       "      <td>Everyone</td>\n",
       "      <td>Communication</td>\n",
       "      <td>Varies with device</td>\n",
       "      <td>Varies with device</td>\n",
       "      <td>August 1</td>\n",
       "      <td>2018</td>\n",
       "    </tr>\n",
       "    <tr>\n",
       "      <th>336</th>\n",
       "      <td>WhatsApp Messenger</td>\n",
       "      <td>COMMUNICATION</td>\n",
       "      <td>4.4</td>\n",
       "      <td>69119316</td>\n",
       "      <td>0.0</td>\n",
       "      <td>1000000000</td>\n",
       "      <td>Free</td>\n",
       "      <td>0.0</td>\n",
       "      <td>Everyone</td>\n",
       "      <td>Communication</td>\n",
       "      <td>Varies with device</td>\n",
       "      <td>Varies with device</td>\n",
       "      <td>August 3</td>\n",
       "      <td>2018</td>\n",
       "    </tr>\n",
       "    <tr>\n",
       "      <th>342</th>\n",
       "      <td>Viber Messenger</td>\n",
       "      <td>COMMUNICATION</td>\n",
       "      <td>4.3</td>\n",
       "      <td>11334799</td>\n",
       "      <td>0.0</td>\n",
       "      <td>500000000</td>\n",
       "      <td>Free</td>\n",
       "      <td>0.0</td>\n",
       "      <td>Everyone</td>\n",
       "      <td>Communication</td>\n",
       "      <td>Varies with device</td>\n",
       "      <td>Varies with device</td>\n",
       "      <td>July 18</td>\n",
       "      <td>2018</td>\n",
       "    </tr>\n",
       "    <tr>\n",
       "      <th>378</th>\n",
       "      <td>UC Browser - Fast Download Private &amp; Secure</td>\n",
       "      <td>COMMUNICATION</td>\n",
       "      <td>4.5</td>\n",
       "      <td>17712922</td>\n",
       "      <td>40000.0</td>\n",
       "      <td>500000000</td>\n",
       "      <td>Free</td>\n",
       "      <td>0.0</td>\n",
       "      <td>Teen</td>\n",
       "      <td>Communication</td>\n",
       "      <td>12.8.5.1121</td>\n",
       "      <td>4.0 and up</td>\n",
       "      <td>August 2</td>\n",
       "      <td>2018</td>\n",
       "    </tr>\n",
       "    <tr>\n",
       "      <th>381</th>\n",
       "      <td>WhatsApp Messenger</td>\n",
       "      <td>COMMUNICATION</td>\n",
       "      <td>4.4</td>\n",
       "      <td>69119316</td>\n",
       "      <td>0.0</td>\n",
       "      <td>1000000000</td>\n",
       "      <td>Free</td>\n",
       "      <td>0.0</td>\n",
       "      <td>Everyone</td>\n",
       "      <td>Communication</td>\n",
       "      <td>Varies with device</td>\n",
       "      <td>Varies with device</td>\n",
       "      <td>August 3</td>\n",
       "      <td>2018</td>\n",
       "    </tr>\n",
       "    <tr>\n",
       "      <th>...</th>\n",
       "      <td>...</td>\n",
       "      <td>...</td>\n",
       "      <td>...</td>\n",
       "      <td>...</td>\n",
       "      <td>...</td>\n",
       "      <td>...</td>\n",
       "      <td>...</td>\n",
       "      <td>...</td>\n",
       "      <td>...</td>\n",
       "      <td>...</td>\n",
       "      <td>...</td>\n",
       "      <td>...</td>\n",
       "      <td>...</td>\n",
       "      <td>...</td>\n",
       "    </tr>\n",
       "    <tr>\n",
       "      <th>6449</th>\n",
       "      <td>BBM - Free Calls &amp; Messages</td>\n",
       "      <td>COMMUNICATION</td>\n",
       "      <td>4.3</td>\n",
       "      <td>12843436</td>\n",
       "      <td>0.0</td>\n",
       "      <td>100000000</td>\n",
       "      <td>Free</td>\n",
       "      <td>0.0</td>\n",
       "      <td>Everyone</td>\n",
       "      <td>Communication</td>\n",
       "      <td>Varies with device</td>\n",
       "      <td>4.0.3 and up</td>\n",
       "      <td>August 2</td>\n",
       "      <td>2018</td>\n",
       "    </tr>\n",
       "    <tr>\n",
       "      <th>7536</th>\n",
       "      <td>Security Master - Antivirus, VPN, AppLock, Boo...</td>\n",
       "      <td>TOOLS</td>\n",
       "      <td>4.7</td>\n",
       "      <td>24900999</td>\n",
       "      <td>0.0</td>\n",
       "      <td>500000000</td>\n",
       "      <td>Free</td>\n",
       "      <td>0.0</td>\n",
       "      <td>Everyone</td>\n",
       "      <td>Tools</td>\n",
       "      <td>4.6.6</td>\n",
       "      <td>Varies with device</td>\n",
       "      <td>August 4</td>\n",
       "      <td>2018</td>\n",
       "    </tr>\n",
       "    <tr>\n",
       "      <th>7937</th>\n",
       "      <td>Shadow Fight 2</td>\n",
       "      <td>GAME</td>\n",
       "      <td>4.6</td>\n",
       "      <td>10981850</td>\n",
       "      <td>88000.0</td>\n",
       "      <td>100000000</td>\n",
       "      <td>Free</td>\n",
       "      <td>0.0</td>\n",
       "      <td>Everyone 10+</td>\n",
       "      <td>Action</td>\n",
       "      <td>1.9.38</td>\n",
       "      <td>3.0 and up</td>\n",
       "      <td>July 2</td>\n",
       "      <td>2018</td>\n",
       "    </tr>\n",
       "    <tr>\n",
       "      <th>8894</th>\n",
       "      <td>Cache Cleaner-DU Speed Booster (booster &amp; clea...</td>\n",
       "      <td>TOOLS</td>\n",
       "      <td>4.5</td>\n",
       "      <td>12759815</td>\n",
       "      <td>15000.0</td>\n",
       "      <td>100000000</td>\n",
       "      <td>Free</td>\n",
       "      <td>0.0</td>\n",
       "      <td>Everyone</td>\n",
       "      <td>Tools</td>\n",
       "      <td>3.1.2</td>\n",
       "      <td>4.0 and up</td>\n",
       "      <td>July 25</td>\n",
       "      <td>2018</td>\n",
       "    </tr>\n",
       "    <tr>\n",
       "      <th>8896</th>\n",
       "      <td>DU Battery Saver - Battery Charger &amp; Battery Life</td>\n",
       "      <td>TOOLS</td>\n",
       "      <td>4.5</td>\n",
       "      <td>13479633</td>\n",
       "      <td>14000.0</td>\n",
       "      <td>100000000</td>\n",
       "      <td>Free</td>\n",
       "      <td>0.0</td>\n",
       "      <td>Everyone</td>\n",
       "      <td>Tools</td>\n",
       "      <td>4.8.7.8</td>\n",
       "      <td>4.0 and up</td>\n",
       "      <td>June 5</td>\n",
       "      <td>2018</td>\n",
       "    </tr>\n",
       "  </tbody>\n",
       "</table>\n",
       "<p>92 rows × 14 columns</p>\n",
       "</div>"
      ],
      "text/plain": [
       "                                                    App       Category  \\\n",
       "335            Messenger – Text and Video Chat for Free  COMMUNICATION   \n",
       "336                                  WhatsApp Messenger  COMMUNICATION   \n",
       "342                                     Viber Messenger  COMMUNICATION   \n",
       "378         UC Browser - Fast Download Private & Secure  COMMUNICATION   \n",
       "381                                  WhatsApp Messenger  COMMUNICATION   \n",
       "...                                                 ...            ...   \n",
       "6449                        BBM - Free Calls & Messages  COMMUNICATION   \n",
       "7536  Security Master - Antivirus, VPN, AppLock, Boo...          TOOLS   \n",
       "7937                                     Shadow Fight 2           GAME   \n",
       "8894  Cache Cleaner-DU Speed Booster (booster & clea...          TOOLS   \n",
       "8896  DU Battery Saver - Battery Charger & Battery Life          TOOLS   \n",
       "\n",
       "      Rating   Reviews     Size    Installs  Type  Price ContentRating  \\\n",
       "335      4.0  56642847      0.0  1000000000  Free    0.0      Everyone   \n",
       "336      4.4  69119316      0.0  1000000000  Free    0.0      Everyone   \n",
       "342      4.3  11334799      0.0   500000000  Free    0.0      Everyone   \n",
       "378      4.5  17712922  40000.0   500000000  Free    0.0          Teen   \n",
       "381      4.4  69119316      0.0  1000000000  Free    0.0      Everyone   \n",
       "...      ...       ...      ...         ...   ...    ...           ...   \n",
       "6449     4.3  12843436      0.0   100000000  Free    0.0      Everyone   \n",
       "7536     4.7  24900999      0.0   500000000  Free    0.0      Everyone   \n",
       "7937     4.6  10981850  88000.0   100000000  Free    0.0  Everyone 10+   \n",
       "8894     4.5  12759815  15000.0   100000000  Free    0.0      Everyone   \n",
       "8896     4.5  13479633  14000.0   100000000  Free    0.0      Everyone   \n",
       "\n",
       "             Genres          CurrentVer          AndroidVer  \\\n",
       "335   Communication  Varies with device  Varies with device   \n",
       "336   Communication  Varies with device  Varies with device   \n",
       "342   Communication  Varies with device  Varies with device   \n",
       "378   Communication         12.8.5.1121          4.0 and up   \n",
       "381   Communication  Varies with device  Varies with device   \n",
       "...             ...                 ...                 ...   \n",
       "6449  Communication  Varies with device        4.0.3 and up   \n",
       "7536          Tools               4.6.6  Varies with device   \n",
       "7937         Action              1.9.38          3.0 and up   \n",
       "8894          Tools               3.1.2          4.0 and up   \n",
       "8896          Tools             4.8.7.8          4.0 and up   \n",
       "\n",
       "     LastUpdated_Month_date LastUpdated_Year  \n",
       "335                August 1             2018  \n",
       "336                August 3             2018  \n",
       "342                 July 18             2018  \n",
       "378                August 2             2018  \n",
       "381                August 3             2018  \n",
       "...                     ...              ...  \n",
       "6449               August 2             2018  \n",
       "7536               August 4             2018  \n",
       "7937                 July 2             2018  \n",
       "8894                July 25             2018  \n",
       "8896                 June 5             2018  \n",
       "\n",
       "[92 rows x 14 columns]"
      ]
     },
     "execution_count": 727,
     "metadata": {},
     "output_type": "execute_result"
    }
   ],
   "source": [
    "inp1[inp1.Reviews>=10000000]"
   ]
  },
  {
   "cell_type": "markdown",
   "id": "831c7e2c-9f5b-4428-bbdd-89a8b50caee5",
   "metadata": {},
   "source": [
    "- #### Cleaning Data by Removing Apps with More Than 10 Million Reviews"
   ]
  },
  {
   "cell_type": "code",
   "execution_count": 730,
   "id": "3f19d7b2-9f2f-40b6-a979-2e33f221013b",
   "metadata": {},
   "outputs": [],
   "source": [
    "inp1=inp1[~(inp1.Reviews>10000000)]"
   ]
  },
  {
   "cell_type": "markdown",
   "id": "a7aa8b16-f10c-4d9e-8b39-46b83f6b57b2",
   "metadata": {},
   "source": [
    "- #### Displaying the Frequency of Review Counts in a Histogram after cleaning"
   ]
  },
  {
   "cell_type": "code",
   "execution_count": 733,
   "id": "700f152c-01db-4d14-bef3-ec82555404a9",
   "metadata": {},
   "outputs": [
    {
     "data": {
      "image/png": "[encoded data removed]",
      "text/plain": [
       "<Figure size 640x480 with 1 Axes>"
      ]
     },
     "metadata": {},
     "output_type": "display_data"
    }
   ],
   "source": [
    "plt.hist(inp1.Reviews)\n",
    "plt.show()"
   ]
  },
  {
   "cell_type": "code",
   "execution_count": 734,
   "id": "aea0a829-ef69-4761-8083-40c9d56a720e",
   "metadata": {},
   "outputs": [],
   "source": [
    "import warnings\n",
    "warnings.filterwarnings(\"ignore\")"
   ]
  },
  {
   "cell_type": "code",
   "execution_count": 737,
   "id": "bfae9b30-ed1e-40f1-9960-ddfc15232137",
   "metadata": {},
   "outputs": [],
   "source": [
    "import seaborn as sns"
   ]
  },
  {
   "cell_type": "markdown",
   "id": "e6f46fdd-78b1-44a1-aff2-52881be8d7a5",
   "metadata": {},
   "source": [
    "- #### Understanding the Rating Distribution of Apps Using Seaborn's Distplot"
   ]
  },
  {
   "cell_type": "code",
   "execution_count": 740,
   "id": "2277ed21-77c0-47a7-9e76-44e9a49422a8",
   "metadata": {},
   "outputs": [
    {
     "data": {
      "image/png": "[encoded data removed]",
      "text/plain": [
       "<Figure size 640x480 with 1 Axes>"
      ]
     },
     "metadata": {},
     "output_type": "display_data"
    }
   ],
   "source": [
    "sns.distplot(inp1.Rating)\n",
    "plt.show()"
   ]
  },
  {
   "cell_type": "code",
   "execution_count": 741,
   "id": "3ffde482-a987-4b1b-968d-a29327041e8f",
   "metadata": {},
   "outputs": [],
   "source": [
    "plt.style.use(\"dark_background\")"
   ]
  },
  {
   "cell_type": "code",
   "execution_count": 744,
   "id": "df3ded0e-afdb-4733-b0db-a8772812ddf6",
   "metadata": {},
   "outputs": [
    {
     "data": {
      "image/png": "[encoded data removed]",
      "text/plain": [
       "<Figure size 640x480 with 1 Axes>"
      ]
     },
     "metadata": {},
     "output_type": "display_data"
    }
   ],
   "source": [
    "sns.distplot(inp1.Rating,bins=20)\n",
    "plt.show()"
   ]
  },
  {
   "cell_type": "code",
   "execution_count": null,
   "id": "fb25fdee-bf24-4021-86a8-1606d392cca5",
   "metadata": {},
   "outputs": [],
   "source": []
  },
  {
   "cell_type": "code",
   "execution_count": null,
   "id": "776e477e-83e6-4926-82ff-a82b843bbd87",
   "metadata": {},
   "outputs": [],
   "source": []
  },
  {
   "cell_type": "markdown",
   "id": "92e3cc7f-bd78-420d-a0ff-98a68a350c72",
   "metadata": {},
   "source": [
    "<center>\n",
    "\n",
    "### 🔳🔍 **Visualization using Pair Plot** 📊\n",
    "\n",
    "</center>\n"
   ]
  },
  {
   "cell_type": "markdown",
   "id": "1b03f96e-7f24-4e6c-8606-0cfe3611dc09",
   "metadata": {},
   "source": [
    "- #### Visualizing Relationships Between Reviews, Size, Price, and Rating with Seaborn's Pairplot"
   ]
  },
  {
   "cell_type": "code",
   "execution_count": 750,
   "id": "fb860ea0-ae82-4cb6-9b05-051ef304d0b2",
   "metadata": {},
   "outputs": [
    {
     "data": {
      "image/png": "[encoded data removed]",
      "text/plain": [
       "<Figure size 1000x1000 with 20 Axes>"
      ]
     },
     "metadata": {},
     "output_type": "display_data"
    }
   ],
   "source": [
    "sns.pairplot(inp1[['Reviews','Size','Price','Rating']])\n",
    "plt.show()"
   ]
  },
  {
   "cell_type": "markdown",
   "id": "a46323de-6ac0-4227-9658-1c67fa7a9d4a",
   "metadata": {},
   "source": [
    "- #### Visualizing Rating Distribution Across Content Ratings with Seaborn Boxplot"
   ]
  },
  {
   "cell_type": "code",
   "execution_count": 752,
   "id": "c0549beb-88a9-4384-bd3e-5d29528c5e7c",
   "metadata": {},
   "outputs": [
    {
     "data": {
      "image/png": "[encoded data removed]",
      "text/plain": [
       "<Figure size 750x750 with 12 Axes>"
      ]
     },
     "metadata": {},
     "output_type": "display_data"
    }
   ],
   "source": [
    "# Assuming inp1 is your DataFrame\n",
    "# Create a pair plot for 'Rating', 'Reviews', and 'Price'\n",
    "sns.pairplot(inp1[['Rating', 'Reviews', 'Price']], diag_kind='kde')\n",
    "\n",
    "# Add a title\n",
    "plt.suptitle('Pair Plot of Rating, Reviews, and Price', y=1.02)\n",
    "\n",
    "# Show the plot\n",
    "plt.show()"
   ]
  },
  {
   "cell_type": "code",
   "execution_count": 753,
   "id": "782a1df0-cb13-4453-b584-cd95575200c7",
   "metadata": {},
   "outputs": [],
   "source": [
    "plt.style.use(\"default\")\n",
    "%matplotlib inline"
   ]
  },
  {
   "cell_type": "code",
   "execution_count": 754,
   "id": "aa170b78-9ba6-4179-8f54-e30dbed7551c",
   "metadata": {},
   "outputs": [
    {
     "data": {
      "text/plain": [
       "\u001b[1;31mSignature:\u001b[0m\n",
       "\u001b[0mpd\u001b[0m\u001b[1;33m.\u001b[0m\u001b[0mqcut\u001b[0m\u001b[1;33m(\u001b[0m\u001b[1;33m\n",
       "\u001b[0m    \u001b[0mx\u001b[0m\u001b[1;33m,\u001b[0m\u001b[1;33m\n",
       "\u001b[0m    \u001b[0mq\u001b[0m\u001b[1;33m,\u001b[0m\u001b[1;33m\n",
       "\u001b[0m    \u001b[0mlabels\u001b[0m\u001b[1;33m=\u001b[0m\u001b[1;32mNone\u001b[0m\u001b[1;33m,\u001b[0m\u001b[1;33m\n",
       "\u001b[0m    \u001b[0mretbins\u001b[0m\u001b[1;33m:\u001b[0m \u001b[1;34m'bool'\u001b[0m \u001b[1;33m=\u001b[0m \u001b[1;32mFalse\u001b[0m\u001b[1;33m,\u001b[0m\u001b[1;33m\n",
       "\u001b[0m    \u001b[0mprecision\u001b[0m\u001b[1;33m:\u001b[0m \u001b[1;34m'int'\u001b[0m \u001b[1;33m=\u001b[0m \u001b[1;36m3\u001b[0m\u001b[1;33m,\u001b[0m\u001b[1;33m\n",
       "\u001b[0m    \u001b[0mduplicates\u001b[0m\u001b[1;33m:\u001b[0m \u001b[1;34m'str'\u001b[0m \u001b[1;33m=\u001b[0m \u001b[1;34m'raise'\u001b[0m\u001b[1;33m,\u001b[0m\u001b[1;33m\n",
       "\u001b[0m\u001b[1;33m)\u001b[0m\u001b[1;33m\u001b[0m\u001b[1;33m\u001b[0m\u001b[0m\n",
       "\u001b[1;31mDocstring:\u001b[0m\n",
       "Quantile-based discretization function.\n",
       "\n",
       "Discretize variable into equal-sized buckets based on rank or based\n",
       "on sample quantiles. For example 1000 values for 10 quantiles would\n",
       "produce a Categorical object indicating quantile membership for each data point.\n",
       "\n",
       "Parameters\n",
       "----------\n",
       "x : 1d ndarray or Series\n",
       "q : int or list-like of float\n",
       "    Number of quantiles. 10 for deciles, 4 for quartiles, etc. Alternately\n",
       "    array of quantiles, e.g. [0, .25, .5, .75, 1.] for quartiles.\n",
       "labels : array or False, default None\n",
       "    Used as labels for the resulting bins. Must be of the same length as\n",
       "    the resulting bins. If False, return only integer indicators of the\n",
       "    bins. If True, raises an error.\n",
       "retbins : bool, optional\n",
       "    Whether to return the (bins, labels) or not. Can be useful if bins\n",
       "    is given as a scalar.\n",
       "precision : int, optional\n",
       "    The precision at which to store and display the bins labels.\n",
       "duplicates : {default 'raise', 'drop'}, optional\n",
       "    If bin edges are not unique, raise ValueError or drop non-uniques.\n",
       "\n",
       "Returns\n",
       "-------\n",
       "out : Categorical or Series or array of integers if labels is False\n",
       "    The return type (Categorical or Series) depends on the input: a Series\n",
       "    of type category if input is a Series else Categorical. Bins are\n",
       "    represented as categories when categorical data is returned.\n",
       "bins : ndarray of floats\n",
       "    Returned only if `retbins` is True.\n",
       "\n",
       "Notes\n",
       "-----\n",
       "Out of bounds values will be NA in the resulting Categorical object\n",
       "\n",
       "Examples\n",
       "--------\n",
       ">>> pd.qcut(range(5), 4)\n",
       "... # doctest: +ELLIPSIS\n",
       "[(-0.001, 1.0], (-0.001, 1.0], (1.0, 2.0], (2.0, 3.0], (3.0, 4.0]]\n",
       "Categories (4, interval[float64, right]): [(-0.001, 1.0] < (1.0, 2.0] ...\n",
       "\n",
       ">>> pd.qcut(range(5), 3, labels=[\"good\", \"medium\", \"bad\"])\n",
       "... # doctest: +SKIP\n",
       "[good, good, medium, bad, bad]\n",
       "Categories (3, object): [good < medium < bad]\n",
       "\n",
       ">>> pd.qcut(range(5), 4, labels=False)\n",
       "array([0, 0, 1, 2, 3])\n",
       "\u001b[1;31mFile:\u001b[0m      d:\\anconda\\lib\\site-packages\\pandas\\core\\reshape\\tile.py\n",
       "\u001b[1;31mType:\u001b[0m      function"
      ]
     },
     "metadata": {},
     "output_type": "display_data"
    }
   ],
   "source": [
    "?pd.qcut"
   ]
  },
  {
   "cell_type": "markdown",
   "id": "1354fe29-ac77-4810-b3e3-2fa8c3ca9feb",
   "metadata": {},
   "source": [
    "<center>\n",
    "\n",
    "### 🌡️🔥 **Visualization using HEATMAP** 🗺️\n",
    "\n",
    "</center>\n"
   ]
  },
  {
   "cell_type": "markdown",
   "id": "4e347232-3a42-4b2d-8bdf-4ba4daa3547f",
   "metadata": {},
   "source": [
    "- #### Discretizing App Size into Quantile-Based Categories (VL, L, M, H, VH)"
   ]
  },
  {
   "cell_type": "code",
   "execution_count": 757,
   "id": "b5a2b21b-5771-45f6-9456-1b517951770b",
   "metadata": {},
   "outputs": [],
   "source": [
    "inp1['Size_Bucket']=pd.qcut(inp1.Size,[0,0.2,0.4,0.6,0.8,1],[\"VL\",\"L\",\"M\",\"H\",\"VH\"])"
   ]
  },
  {
   "cell_type": "markdown",
   "id": "43ca971a-0016-41b6-8784-132774eac5f6",
   "metadata": {},
   "source": [
    "- #### Inspecting the First Few Entries in the inp1 DataFrame"
   ]
  },
  {
   "cell_type": "code",
   "execution_count": 759,
   "id": "4e09a6ee-d0bd-46ca-a2e4-fff1c520bdd2",
   "metadata": {},
   "outputs": [
    {
     "data": {
      "text/html": [
       "<div>\n",
       "<style scoped>\n",
       "    .dataframe tbody tr th:only-of-type {\n",
       "        vertical-align: middle;\n",
       "    }\n",
       "\n",
       "    .dataframe tbody tr th {\n",
       "        vertical-align: top;\n",
       "    }\n",
       "\n",
       "    .dataframe thead th {\n",
       "        text-align: right;\n",
       "    }\n",
       "</style>\n",
       "<table border=\"1\" class=\"dataframe\">\n",
       "  <thead>\n",
       "    <tr style=\"text-align: right;\">\n",
       "      <th></th>\n",
       "      <th>App</th>\n",
       "      <th>Category</th>\n",
       "      <th>Rating</th>\n",
       "      <th>Reviews</th>\n",
       "      <th>Size</th>\n",
       "      <th>Installs</th>\n",
       "      <th>Type</th>\n",
       "      <th>Price</th>\n",
       "      <th>ContentRating</th>\n",
       "      <th>Genres</th>\n",
       "      <th>CurrentVer</th>\n",
       "      <th>AndroidVer</th>\n",
       "      <th>LastUpdated_Month_date</th>\n",
       "      <th>LastUpdated_Year</th>\n",
       "      <th>Size_Bucket</th>\n",
       "    </tr>\n",
       "  </thead>\n",
       "  <tbody>\n",
       "    <tr>\n",
       "      <th>0</th>\n",
       "      <td>Photo Editor &amp; Candy Camera &amp; Grid &amp; ScrapBook</td>\n",
       "      <td>ART_AND_DESIGN</td>\n",
       "      <td>4.1</td>\n",
       "      <td>159</td>\n",
       "      <td>19000.0</td>\n",
       "      <td>10000</td>\n",
       "      <td>Free</td>\n",
       "      <td>0.0</td>\n",
       "      <td>Everyone</td>\n",
       "      <td>Art &amp; Design</td>\n",
       "      <td>1.0.0</td>\n",
       "      <td>4.0.3 and up</td>\n",
       "      <td>January 7</td>\n",
       "      <td>2018</td>\n",
       "      <td>H</td>\n",
       "    </tr>\n",
       "    <tr>\n",
       "      <th>1</th>\n",
       "      <td>Coloring book moana</td>\n",
       "      <td>ART_AND_DESIGN</td>\n",
       "      <td>3.9</td>\n",
       "      <td>967</td>\n",
       "      <td>14000.0</td>\n",
       "      <td>500000</td>\n",
       "      <td>Free</td>\n",
       "      <td>0.0</td>\n",
       "      <td>Everyone</td>\n",
       "      <td>Art &amp; Design;Pretend Play</td>\n",
       "      <td>2.0.0</td>\n",
       "      <td>4.0.3 and up</td>\n",
       "      <td>January 15</td>\n",
       "      <td>2018</td>\n",
       "      <td>M</td>\n",
       "    </tr>\n",
       "    <tr>\n",
       "      <th>2</th>\n",
       "      <td>U Launcher Lite – FREE Live Cool Themes, Hide ...</td>\n",
       "      <td>ART_AND_DESIGN</td>\n",
       "      <td>4.7</td>\n",
       "      <td>87510</td>\n",
       "      <td>8700.0</td>\n",
       "      <td>5000000</td>\n",
       "      <td>Free</td>\n",
       "      <td>0.0</td>\n",
       "      <td>Everyone</td>\n",
       "      <td>Art &amp; Design</td>\n",
       "      <td>1.2.4</td>\n",
       "      <td>4.0.3 and up</td>\n",
       "      <td>August 1</td>\n",
       "      <td>2018</td>\n",
       "      <td>M</td>\n",
       "    </tr>\n",
       "    <tr>\n",
       "      <th>3</th>\n",
       "      <td>Sketch - Draw &amp; Paint</td>\n",
       "      <td>ART_AND_DESIGN</td>\n",
       "      <td>4.5</td>\n",
       "      <td>215644</td>\n",
       "      <td>25000.0</td>\n",
       "      <td>50000000</td>\n",
       "      <td>Free</td>\n",
       "      <td>0.0</td>\n",
       "      <td>Teen</td>\n",
       "      <td>Art &amp; Design</td>\n",
       "      <td>Varies with device</td>\n",
       "      <td>4.2 and up</td>\n",
       "      <td>June 8</td>\n",
       "      <td>2018</td>\n",
       "      <td>H</td>\n",
       "    </tr>\n",
       "    <tr>\n",
       "      <th>4</th>\n",
       "      <td>Pixel Draw - Number Art Coloring Book</td>\n",
       "      <td>ART_AND_DESIGN</td>\n",
       "      <td>4.3</td>\n",
       "      <td>967</td>\n",
       "      <td>2800.0</td>\n",
       "      <td>100000</td>\n",
       "      <td>Free</td>\n",
       "      <td>0.0</td>\n",
       "      <td>Everyone</td>\n",
       "      <td>Art &amp; Design;Creativity</td>\n",
       "      <td>1.1</td>\n",
       "      <td>4.4 and up</td>\n",
       "      <td>June 20</td>\n",
       "      <td>2018</td>\n",
       "      <td>L</td>\n",
       "    </tr>\n",
       "  </tbody>\n",
       "</table>\n",
       "</div>"
      ],
      "text/plain": [
       "                                                 App        Category  Rating  \\\n",
       "0     Photo Editor & Candy Camera & Grid & ScrapBook  ART_AND_DESIGN     4.1   \n",
       "1                                Coloring book moana  ART_AND_DESIGN     3.9   \n",
       "2  U Launcher Lite – FREE Live Cool Themes, Hide ...  ART_AND_DESIGN     4.7   \n",
       "3                              Sketch - Draw & Paint  ART_AND_DESIGN     4.5   \n",
       "4              Pixel Draw - Number Art Coloring Book  ART_AND_DESIGN     4.3   \n",
       "\n",
       "   Reviews     Size  Installs  Type  Price ContentRating  \\\n",
       "0      159  19000.0     10000  Free    0.0      Everyone   \n",
       "1      967  14000.0    500000  Free    0.0      Everyone   \n",
       "2    87510   8700.0   5000000  Free    0.0      Everyone   \n",
       "3   215644  25000.0  50000000  Free    0.0          Teen   \n",
       "4      967   2800.0    100000  Free    0.0      Everyone   \n",
       "\n",
       "                      Genres          CurrentVer    AndroidVer  \\\n",
       "0               Art & Design               1.0.0  4.0.3 and up   \n",
       "1  Art & Design;Pretend Play               2.0.0  4.0.3 and up   \n",
       "2               Art & Design               1.2.4  4.0.3 and up   \n",
       "3               Art & Design  Varies with device    4.2 and up   \n",
       "4    Art & Design;Creativity                 1.1    4.4 and up   \n",
       "\n",
       "  LastUpdated_Month_date LastUpdated_Year Size_Bucket  \n",
       "0              January 7             2018           H  \n",
       "1             January 15             2018           M  \n",
       "2               August 1             2018           M  \n",
       "3                 June 8             2018           H  \n",
       "4                June 20             2018           L  "
      ]
     },
     "execution_count": 759,
     "metadata": {},
     "output_type": "execute_result"
    }
   ],
   "source": [
    "inp1.head()"
   ]
  },
  {
   "cell_type": "markdown",
   "id": "849d4065-cdfe-4a39-b932-75f54763894c",
   "metadata": {},
   "source": [
    "- #### Summary of Ratings by Content Rating and Size Bucket"
   ]
  },
  {
   "cell_type": "code",
   "execution_count": 761,
   "id": "a2c33786-2aa5-499a-be6c-db026a28a0a5",
   "metadata": {},
   "outputs": [
    {
     "data": {
      "text/html": [
       "<div>\n",
       "<style scoped>\n",
       "    .dataframe tbody tr th:only-of-type {\n",
       "        vertical-align: middle;\n",
       "    }\n",
       "\n",
       "    .dataframe tbody tr th {\n",
       "        vertical-align: top;\n",
       "    }\n",
       "\n",
       "    .dataframe thead th {\n",
       "        text-align: right;\n",
       "    }\n",
       "</style>\n",
       "<table border=\"1\" class=\"dataframe\">\n",
       "  <thead>\n",
       "    <tr style=\"text-align: right;\">\n",
       "      <th>Size_Bucket</th>\n",
       "      <th>VL</th>\n",
       "      <th>L</th>\n",
       "      <th>M</th>\n",
       "      <th>H</th>\n",
       "      <th>VH</th>\n",
       "    </tr>\n",
       "    <tr>\n",
       "      <th>ContentRating</th>\n",
       "      <th></th>\n",
       "      <th></th>\n",
       "      <th></th>\n",
       "      <th></th>\n",
       "      <th></th>\n",
       "    </tr>\n",
       "  </thead>\n",
       "  <tbody>\n",
       "    <tr>\n",
       "      <th>Everyone</th>\n",
       "      <td>4.233801</td>\n",
       "      <td>4.137606</td>\n",
       "      <td>4.176055</td>\n",
       "      <td>4.172851</td>\n",
       "      <td>4.219262</td>\n",
       "    </tr>\n",
       "    <tr>\n",
       "      <th>Everyone 10+</th>\n",
       "      <td>4.226316</td>\n",
       "      <td>4.218182</td>\n",
       "      <td>4.257500</td>\n",
       "      <td>4.237755</td>\n",
       "      <td>4.251773</td>\n",
       "    </tr>\n",
       "    <tr>\n",
       "      <th>Mature 17+</th>\n",
       "      <td>4.212088</td>\n",
       "      <td>4.096774</td>\n",
       "      <td>4.087129</td>\n",
       "      <td>4.018812</td>\n",
       "      <td>4.194175</td>\n",
       "    </tr>\n",
       "    <tr>\n",
       "      <th>Teen</th>\n",
       "      <td>4.260476</td>\n",
       "      <td>4.173387</td>\n",
       "      <td>4.221557</td>\n",
       "      <td>4.187554</td>\n",
       "      <td>4.274850</td>\n",
       "    </tr>\n",
       "  </tbody>\n",
       "</table>\n",
       "</div>"
      ],
      "text/plain": [
       "Size_Bucket          VL         L         M         H        VH\n",
       "ContentRating                                                  \n",
       "Everyone       4.233801  4.137606  4.176055  4.172851  4.219262\n",
       "Everyone 10+   4.226316  4.218182  4.257500  4.237755  4.251773\n",
       "Mature 17+     4.212088  4.096774  4.087129  4.018812  4.194175\n",
       "Teen           4.260476  4.173387  4.221557  4.187554  4.274850"
      ]
     },
     "execution_count": 761,
     "metadata": {},
     "output_type": "execute_result"
    }
   ],
   "source": [
    "pd.pivot_table(data=inp1,index=\"ContentRating\",columns=\"Size_Bucket\",values=\"Rating\")"
   ]
  },
  {
   "cell_type": "markdown",
   "id": "083720c1-0d91-4d89-8217-eef23d0057b0",
   "metadata": {},
   "source": [
    "- #### Analyzing Median Ratings Across Content Ratings and Size Categories"
   ]
  },
  {
   "cell_type": "code",
   "execution_count": 763,
   "id": "094ba0f7-2eea-45b0-9ce3-45c4622c03cd",
   "metadata": {},
   "outputs": [
    {
     "data": {
      "text/html": [
       "<div>\n",
       "<style scoped>\n",
       "    .dataframe tbody tr th:only-of-type {\n",
       "        vertical-align: middle;\n",
       "    }\n",
       "\n",
       "    .dataframe tbody tr th {\n",
       "        vertical-align: top;\n",
       "    }\n",
       "\n",
       "    .dataframe thead th {\n",
       "        text-align: right;\n",
       "    }\n",
       "</style>\n",
       "<table border=\"1\" class=\"dataframe\">\n",
       "  <thead>\n",
       "    <tr style=\"text-align: right;\">\n",
       "      <th>Size_Bucket</th>\n",
       "      <th>VL</th>\n",
       "      <th>L</th>\n",
       "      <th>M</th>\n",
       "      <th>H</th>\n",
       "      <th>VH</th>\n",
       "    </tr>\n",
       "    <tr>\n",
       "      <th>ContentRating</th>\n",
       "      <th></th>\n",
       "      <th></th>\n",
       "      <th></th>\n",
       "      <th></th>\n",
       "      <th></th>\n",
       "    </tr>\n",
       "  </thead>\n",
       "  <tbody>\n",
       "    <tr>\n",
       "      <th>Everyone</th>\n",
       "      <td>4.3</td>\n",
       "      <td>4.20</td>\n",
       "      <td>4.30</td>\n",
       "      <td>4.3</td>\n",
       "      <td>4.3</td>\n",
       "    </tr>\n",
       "    <tr>\n",
       "      <th>Everyone 10+</th>\n",
       "      <td>4.3</td>\n",
       "      <td>4.25</td>\n",
       "      <td>4.35</td>\n",
       "      <td>4.3</td>\n",
       "      <td>4.3</td>\n",
       "    </tr>\n",
       "    <tr>\n",
       "      <th>Mature 17+</th>\n",
       "      <td>4.2</td>\n",
       "      <td>4.25</td>\n",
       "      <td>4.20</td>\n",
       "      <td>4.1</td>\n",
       "      <td>4.2</td>\n",
       "    </tr>\n",
       "    <tr>\n",
       "      <th>Teen</th>\n",
       "      <td>4.3</td>\n",
       "      <td>4.30</td>\n",
       "      <td>4.30</td>\n",
       "      <td>4.2</td>\n",
       "      <td>4.3</td>\n",
       "    </tr>\n",
       "  </tbody>\n",
       "</table>\n",
       "</div>"
      ],
      "text/plain": [
       "Size_Bucket     VL     L     M    H   VH\n",
       "ContentRating                           \n",
       "Everyone       4.3  4.20  4.30  4.3  4.3\n",
       "Everyone 10+   4.3  4.25  4.35  4.3  4.3\n",
       "Mature 17+     4.2  4.25  4.20  4.1  4.2\n",
       "Teen           4.3  4.30  4.30  4.2  4.3"
      ]
     },
     "execution_count": 763,
     "metadata": {},
     "output_type": "execute_result"
    }
   ],
   "source": [
    "pd.pivot_table(data=inp1,index=\"ContentRating\",columns=\"Size_Bucket\",values=\"Rating\",aggfunc=np.median)"
   ]
  },
  {
   "cell_type": "markdown",
   "id": "eac3fe7c-6d03-4e47-9a62-4b7e085d7b67",
   "metadata": {},
   "source": [
    "- #### Analyzing App Ratings (Median) Across Different Content Ratings and Size Buckets"
   ]
  },
  {
   "cell_type": "code",
   "execution_count": 765,
   "id": "f8d463a9-00f8-438d-9f9e-609b60137224",
   "metadata": {},
   "outputs": [],
   "source": [
    "res=pd.pivot_table(data=inp1,index=\"ContentRating\",columns=\"Size_Bucket\",values=\"Rating\",aggfunc=lambda x:np.quantile(x,0.2))"
   ]
  },
  {
   "cell_type": "code",
   "execution_count": null,
   "id": "4545d285-d20a-4638-b516-eefab4bf74dc",
   "metadata": {},
   "outputs": [],
   "source": []
  },
  {
   "cell_type": "code",
   "execution_count": 767,
   "id": "4aed4178-5321-4376-a088-5559933501eb",
   "metadata": {},
   "outputs": [
    {
     "data": {
      "image/png": "[encoded data removed]",
      "text/plain": [
       "<Figure size 640x480 with 2 Axes>"
      ]
     },
     "metadata": {},
     "output_type": "display_data"
    }
   ],
   "source": [
    "import seaborn as sns\n",
    "import matplotlib.pyplot as plt\n",
    "\n",
    "# Your heatmap creation line\n",
    "sns.heatmap(res, annot=True, fmt='.2f', cmap='YlGnBu')\n",
    "\n",
    "# Display the heatmap\n",
    "plt.title('Heatmap of Size Bucket vs Content Rating')\n",
    "plt.xlabel('Size_Bucket')\n",
    "plt.ylabel('ContentRating')\n",
    "plt.tight_layout()\n",
    "plt.show()\n"
   ]
  },
  {
   "cell_type": "code",
   "execution_count": null,
   "id": "a895c956-eebf-44bc-876e-30bbb348f0aa",
   "metadata": {},
   "outputs": [],
   "source": []
  },
  {
   "cell_type": "markdown",
   "id": "13a6ebd6-3745-4232-8f99-45f39ee64c4e",
   "metadata": {},
   "source": [
    "<center>\n",
    "\n",
    "### 🥧📊 **Visualization using PIE-CHART** 🍰\n",
    "\n",
    "</center>\n"
   ]
  },
  {
   "cell_type": "markdown",
   "id": "3f8a5de0-a981-4cbf-a2b0-ecea7f00d1a7",
   "metadata": {},
   "source": [
    "- #### Distribution of App Types (Paid vs Free)"
   ]
  },
  {
   "cell_type": "code",
   "execution_count": 771,
   "id": "eb9ee720-4a1d-4c78-aca0-d80d688f02d8",
   "metadata": {},
   "outputs": [
    {
     "data": {
      "image/png": "[encoded data removed]",
      "text/plain": [
       "<Figure size 400x400 with 1 Axes>"
      ]
     },
     "metadata": {},
     "output_type": "display_data"
    }
   ],
   "source": [
    "type_counts = inp1['Type'].value_counts()\n",
    "# Create a pie chart\n",
    "plt.figure(figsize=(4,4))\n",
    "plt.pie(type_counts, labels=type_counts.index, autopct='%1.1f%%', startangle=90)\n",
    "plt.title('App Type Distribution (Paid/Free)')\n",
    "plt.axis('equal')  # Equal aspect ratio ensures that pie chart is drawn as a circle.\n",
    "plt.show()"
   ]
  },
  {
   "cell_type": "markdown",
   "id": "ff32ab44-3385-4fd3-990a-3abc5406c1f8",
   "metadata": {},
   "source": [
    "<center>\n",
    "\n",
    "#### 📊🔢 **Visualization using COUNT Plot** 🧮\n",
    "\n",
    "</center>\n"
   ]
  },
  {
   "cell_type": "code",
   "execution_count": 773,
   "id": "67ad83ce-9bcb-45e5-9fac-8631e87810e4",
   "metadata": {},
   "outputs": [
    {
     "data": {
      "image/png": "[encoded data removed]",
      "text/plain": [
       "<Figure size 640x480 with 1 Axes>"
      ]
     },
     "metadata": {},
     "output_type": "display_data"
    }
   ],
   "source": [
    "sns.countplot(data=inp1, x='Type')\n",
    "plt.title('Distribution of App Type')\n",
    "plt.xlabel('Type')\n",
    "plt.ylabel('Count')\n",
    "plt.show()"
   ]
  },
  {
   "cell_type": "markdown",
   "id": "c6cc58dc-36b7-4bfb-b9d8-73ce78e4f875",
   "metadata": {},
   "source": [
    "<center>\n",
    "\n",
    "### 📈🔍 **Visualization using KDE Plot** 🌐\n",
    "\n",
    "</center>\n"
   ]
  },
  {
   "cell_type": "markdown",
   "id": "9430145d-92ca-47a1-ba6d-52c3a532ed5d",
   "metadata": {},
   "source": [
    "- #### Kernel Density Estimate of Paid vs Free Apps (Mapped to Numeric)"
   ]
  },
  {
   "cell_type": "code",
   "execution_count": 776,
   "id": "f0e4ef3e-933c-4c19-b6a4-efa69b6e3941",
   "metadata": {},
   "outputs": [
    {
     "data": {
      "image/png": "[encoded data removed]",
      "text/plain": [
       "<Figure size 640x480 with 1 Axes>"
      ]
     },
     "metadata": {},
     "output_type": "display_data"
    }
   ],
   "source": [
    "inp1['Type_num'] = inp1['Type'].map({'Paid': 1, 'Free': 0})\n",
    "# Now, plot the KDE (it will show a distribution of 0s and 1s)\n",
    "sns.kdeplot(inp1['Type_num'])\n",
    "plt.title('Kernel Density Estimate for App Type (Mapped to Numeric)')\n",
    "plt.xlabel('Type (0 = Free, 1 = Paid)')\n",
    "plt.ylabel('Density')\n",
    "plt.show()"
   ]
  },
  {
   "cell_type": "markdown",
   "id": "a18c4d31-defb-4abd-a1ea-dcf6ae6957d2",
   "metadata": {},
   "source": [
    "<center>\n",
    "\n",
    "### 🔵📊 **Visualization using SCATTER Plot** ✨\n",
    "\n",
    "</center>\n"
   ]
  },
  {
   "cell_type": "code",
   "execution_count": 778,
   "id": "bfacef84-27af-4c47-8264-8586a6abfa77",
   "metadata": {},
   "outputs": [
    {
     "data": {
      "image/png": "[encoded data removed]",
      "text/plain": [
       "<Figure size 640x480 with 1 Axes>"
      ]
     },
     "metadata": {},
     "output_type": "display_data"
    }
   ],
   "source": [
    "sns.scatterplot(x=\"Size\", y=\"Price\", hue=\"Type\", data=inp1)\n",
    "\n",
    "# Add titles and labels for better understanding\n",
    "plt.title('Scatter Plot of Size vs Price with Type Hue')  # Title of the plot\n",
    "plt.xlabel('Size')  # Label for x-axis\n",
    "plt.ylabel('Price')  # Label for y-axis\n",
    "\n",
    "# Show the plot\n",
    "plt.show()"
   ]
  },
  {
   "cell_type": "markdown",
   "id": "0cba03da-7627-4a04-b033-a878e9b2a9a2",
   "metadata": {},
   "source": [
    "<center>\n",
    "\n",
    "### 🎻📊 **Visualization using VIOLIN Plot** 🎶\n",
    "\n",
    "</center>\n"
   ]
  },
  {
   "cell_type": "markdown",
   "id": "9a638904-e588-45d2-8020-98768b18f9c9",
   "metadata": {},
   "source": [
    "- #### Violin Plot Showing the Distribution of App Ratings"
   ]
  },
  {
   "cell_type": "code",
   "execution_count": 781,
   "id": "e9f477bf-bbfa-486f-83c2-1d331d5fc87e",
   "metadata": {},
   "outputs": [
    {
     "data": {
      "image/png": "[encoded data removed]",
      "text/plain": [
       "<Figure size 700x500 with 1 Axes>"
      ]
     },
     "metadata": {},
     "output_type": "display_data"
    }
   ],
   "source": [
    "plt.figure(figsize=(7, 5))\n",
    "sns.violinplot(x=inp1['Rating'], color='lightcoral')\n",
    "\n",
    "# Add title and labels\n",
    "plt.title('Violin Plot of Ratings', fontsize=16)\n",
    "plt.xlabel('Rating', fontsize=12)\n",
    "\n",
    "# Display the plot\n",
    "plt.show()"
   ]
  },
  {
   "cell_type": "code",
   "execution_count": 782,
   "id": "0d7ced54-6ef2-445e-8647-151457380240",
   "metadata": {},
   "outputs": [
    {
     "data": {
      "text/plain": [
       "App                         object\n",
       "Category                    object\n",
       "Rating                     float64\n",
       "Reviews                      int32\n",
       "Size                       float64\n",
       "Installs                     int64\n",
       "Type                        object\n",
       "Price                      float64\n",
       "ContentRating               object\n",
       "Genres                      object\n",
       "CurrentVer                  object\n",
       "AndroidVer                  object\n",
       "LastUpdated_Month_date      object\n",
       "LastUpdated_Year            object\n",
       "Size_Bucket               category\n",
       "Type_num                     int64\n",
       "dtype: object"
      ]
     },
     "execution_count": 782,
     "metadata": {},
     "output_type": "execute_result"
    }
   ],
   "source": [
    "inp1.dtypes"
   ]
  },
  {
   "cell_type": "code",
   "execution_count": null,
   "id": "61bcfd51-7499-4ba8-9594-87f153d8c3ce",
   "metadata": {},
   "outputs": [],
   "source": []
  },
  {
   "cell_type": "markdown",
   "id": "9e16dd2b-30d2-4cdc-8c7a-75d6e6792806",
   "metadata": {},
   "source": [
    "<center>\n",
    "\n",
    "### 🧑‍🔬📊 **HYPOTHESIS TESTING** 🔬\n",
    "\n",
    "</center>\n"
   ]
  },
  {
   "cell_type": "markdown",
   "id": "b020f43e-2b4b-488f-95e3-6575edb52e81",
   "metadata": {},
   "source": [
    "#### ✅ 1. T-Test: Do Free vs Paid apps have different average ratings?\n"
   ]
  },
  {
   "cell_type": "code",
   "execution_count": 787,
   "id": "0f7471d2-8733-45e6-b4a9-b45cbb25ed88",
   "metadata": {},
   "outputs": [
    {
     "name": "stdout",
     "output_type": "stream",
     "text": [
      "T-Statistic: -4.401700322561621\n",
      "P-value: 1.0861145561303059e-05\n",
      "Reject Null Hypothesis: Free and Paid apps have different average ratings.\n"
     ]
    }
   ],
   "source": [
    "import scipy.stats as stats\n",
    "import pandas as pd\n",
    "\n",
    "# Split ratings by app type\n",
    "free_ratings = inp1[inp1['Type_num'] == 0]['Rating'].dropna()\n",
    "paid_ratings = inp1[inp1['Type_num'] == 1]['Rating'].dropna()\n",
    "\n",
    "# Perform Independent T-Test\n",
    "t_stat, p = stats.ttest_ind(free_ratings, paid_ratings)\n",
    "\n",
    "print(f\"T-Statistic: {t_stat}\")\n",
    "print(f\"P-value: {p}\")\n",
    "\n",
    "if p < 0.05:\n",
    "    print(\"Reject Null Hypothesis: Free and Paid apps have different average ratings.\")\n",
    "else:\n",
    "    print(\"Fail to Reject Null Hypothesis: No significant difference in ratings.\")\n"
   ]
  },
  {
   "cell_type": "markdown",
   "id": "eafc0d16-ea19-413c-a735-7246418acbc5",
   "metadata": {},
   "source": [
    "#### ✅ 2. ANOVA: Does app category affect ratings?"
   ]
  },
  {
   "cell_type": "code",
   "execution_count": 789,
   "id": "fa4d6667-1170-488f-b666-98c7ebe8fbdd",
   "metadata": {},
   "outputs": [
    {
     "name": "stdout",
     "output_type": "stream",
     "text": [
      "F-Statistic: 8.981838084949386\n",
      "P-value: 4.423209864493605e-42\n",
      "Reject Null Hypothesis: App category affects average ratings.\n"
     ]
    }
   ],
   "source": [
    "import scipy.stats as stats\n",
    "import pandas as pd\n",
    "\n",
    "# Group ratings by category\n",
    "grouped = inp1[['Category', 'Rating']].dropna().groupby('Category')\n",
    "category_ratings = [group['Rating'].values for _, group in grouped]\n",
    "\n",
    "# Perform One-Way ANOVA\n",
    "f_stat, p = stats.f_oneway(*category_ratings)\n",
    "\n",
    "print(f\"F-Statistic: {f_stat}\")\n",
    "print(f\"P-value: {p}\")\n",
    "\n",
    "if p < 0.05:\n",
    "    print(\"Reject Null Hypothesis: App category affects average ratings.\")\n",
    "else:\n",
    "    print(\"Fail to Reject Null Hypothesis: No significant effect of category on ratings.\")\n"
   ]
  },
  {
   "cell_type": "markdown",
   "id": "f7cdefbc-6c3b-4d3c-8677-6c90debeedfe",
   "metadata": {},
   "source": [
    "#### ✅ 3. Correlation: Is there a relationship between app installs and reviews?"
   ]
  },
  {
   "cell_type": "code",
   "execution_count": 791,
   "id": "33e039fa-4bc5-41be-9bbc-567be52eaf96",
   "metadata": {},
   "outputs": [
    {
     "name": "stdout",
     "output_type": "stream",
     "text": [
      "Correlation Coefficient: 0.5490467254164876\n",
      "P-value: 0.0\n",
      "Reject Null Hypothesis: There is a significant correlation between installs and reviews.\n"
     ]
    }
   ],
   "source": [
    "import scipy.stats as stats\n",
    "import pandas as pd\n",
    "\n",
    "# Drop NA values\n",
    "df_corr = inp1[['Installs', 'Reviews']].dropna()\n",
    "\n",
    "# Perform Pearson Correlation Test\n",
    "corr, p = stats.pearsonr(df_corr['Installs'], df_corr['Reviews'])\n",
    "\n",
    "print(f\"Correlation Coefficient: {corr}\")\n",
    "print(f\"P-value: {p}\")\n",
    "\n",
    "if p < 0.05:\n",
    "    print(\"Reject Null Hypothesis: There is a significant correlation between installs and reviews.\")\n",
    "else:\n",
    "    print(\"Fail to Reject Null Hypothesis: No significant correlation.\")\n"
   ]
  },
  {
   "cell_type": "code",
   "execution_count": null,
   "id": "fe94ea45-1847-49f2-8ced-fb990e7cafb8",
   "metadata": {},
   "outputs": [],
   "source": []
  },
  {
   "cell_type": "code",
   "execution_count": null,
   "id": "d1410ea2-f1a1-494b-964e-53737f3de4d8",
   "metadata": {},
   "outputs": [],
   "source": []
  },
  {
   "cell_type": "code",
   "execution_count": null,
   "id": "aa1c7c3c-8527-4328-bb8c-32dd280854ae",
   "metadata": {},
   "outputs": [],
   "source": []
  },
  {
   "cell_type": "markdown",
   "id": "342e5b1a-3cd2-4b39-abb4-f046def2c767",
   "metadata": {},
   "source": [
    "### <center> 🧠 Machine Learning Model Training </center>"
   ]
  },
  {
   "cell_type": "markdown",
   "id": "54e2e626-9e9c-45e4-8745-04c3e446efcb",
   "metadata": {},
   "source": [
    "## <center>📌 Summary of Evaluation Metrics  \n",
    "\n",
    "| **Metric**         | **Meaning** |\n",
    "|-------------------|-------------------------------------------------|\n",
    "| **Accuracy**      | % of correctly predicted accidents |\n",
    "| **Precision**     | % of predicted severe accidents that were actually severe |\n",
    "| **Recall**        | % of actual severe accidents that were correctly predicted |\n",
    "| **F1-Score**      | Balance of precision and recall |\n",
    "| **Confusion Matrix** | Breakdown of correct/incorrect predictions |\n",
    "| **RMSE (Optional)** | Measures error in numeric terms |\n"
   ]
  },
  {
   "cell_type": "markdown",
   "id": "8beee07f-8134-406d-a4c2-4c4bcb3e2088",
   "metadata": {},
   "source": [
    "### 🎯 Problem Statement\n",
    "- We aim to predict whether a Google Play Store app is highly rated or not, based on features like installs, size, reviews, and price.\n",
    "\n",
    "- We consider an app to be highly rated if its rating is greater than or equal to 4.0.\n",
    "\n"
   ]
  },
  {
   "cell_type": "markdown",
   "id": "076105e7-6e67-402f-b561-a3265508f9de",
   "metadata": {},
   "source": [
    "### 📌 Step 1: Define Features and Target"
   ]
  },
  {
   "cell_type": "code",
   "execution_count": 799,
   "id": "e1d33104-2d64-4199-80c2-ed772c57038b",
   "metadata": {},
   "outputs": [],
   "source": [
    "# Drop rows with missing ratings\n",
    "df = inp1.dropna(subset=['Rating'])\n",
    "\n",
    "# Create binary target: 1 for High Rating (>=4.0), 0 otherwise\n",
    "inp1['High_Rating'] = np.where(inp1['Rating'] >= 4.0, 1, 0)\n",
    "\n",
    "# Select relevant features\n",
    "features = inp1[['Installs', 'Size', 'Price', 'Reviews', 'Type_num']]\n",
    "target = inp1['High_Rating']"
   ]
  },
  {
   "cell_type": "markdown",
   "id": "40d9ea16-dc62-493b-9997-52b74047a90a",
   "metadata": {},
   "source": [
    "### 📌 Step 2: Split Data"
   ]
  },
  {
   "cell_type": "code",
   "execution_count": 801,
   "id": "157561f7-da50-4d0d-a1bb-dee1843b2f17",
   "metadata": {},
   "outputs": [],
   "source": [
    "from sklearn.model_selection import train_test_split\n",
    "\n",
    "# Split into training and validation sets (80/20)\n",
    "X_train, X_val, Y_train, Y_val = train_test_split(features,\n",
    "                                                  target,\n",
    "                                                  test_size=0.2,\n",
    "                                                  stratify=target,\n",
    "                                                  random_state=42)\n"
   ]
  },
  {
   "cell_type": "markdown",
   "id": "a50db908-ea94-4ae2-9418-1f8828949e3b",
   "metadata": {},
   "source": [
    "### 📌 Step 3: Handle Class Imbalance"
   ]
  },
  {
   "cell_type": "code",
   "execution_count": 804,
   "id": "1023caa4-7cea-439c-bcf2-e02ed28c6194",
   "metadata": {},
   "outputs": [],
   "source": [
    "from imblearn.over_sampling import RandomOverSampler\n",
    "\n",
    "# Balance training data using RandomOverSampler\n",
    "ros = RandomOverSampler(sampling_strategy='minority', random_state=42)\n",
    "X, Y = ros.fit_resample(X_train, Y_train)\n"
   ]
  },
  {
   "cell_type": "markdown",
   "id": "b9bb4d71-4c7c-46c1-a4cd-8ab3ebacc1be",
   "metadata": {},
   "source": [
    "### 📌 Step 4: Feature Scaling"
   ]
  },
  {
   "cell_type": "code",
   "execution_count": 813,
   "id": "b1bd2bde-52c1-40ca-9e33-fcbf97dcbc1e",
   "metadata": {},
   "outputs": [],
   "source": [
    "from sklearn.preprocessing import StandardScaler\n",
    "\n",
    "# Normalize features for better model performance\n",
    "scaler = StandardScaler()\n",
    "X = scaler.fit_transform(X)\n",
    "X_val = scaler.transform(X_val)"
   ]
  },
  {
   "cell_type": "markdown",
   "id": "3d5ad8d0-7ef9-4e3f-b4c5-622647e9661b",
   "metadata": {},
   "source": [
    "### 📌 Step 5: Train Models and Evaluate"
   ]
  },
  {
   "cell_type": "code",
   "execution_count": 818,
   "id": "293b9ded-37af-48bb-a3a7-07b495bec05f",
   "metadata": {},
   "outputs": [
    {
     "name": "stdout",
     "output_type": "stream",
     "text": [
      "LogisticRegression :\n",
      "Training Accuracy : 0.7024774510534033\n",
      "Validation Accuracy : 0.6967569919613897\n",
      "\n",
      "XGBClassifier :\n",
      "Training Accuracy : 0.9372324025371734\n",
      "Validation Accuracy : 0.7455642022671758\n",
      "\n",
      "SVC :\n",
      "Training Accuracy : 0.7064262449317267\n",
      "Validation Accuracy : 0.6849305094471441\n",
      "\n"
     ]
    }
   ],
   "source": [
    "from sklearn.linear_model import LogisticRegression\n",
    "from xgboost import XGBClassifier\n",
    "from sklearn.svm import SVC\n",
    "from sklearn.metrics import roc_auc_score\n",
    "\n",
    "# Initialize models\n",
    "models = [\n",
    "    LogisticRegression(),\n",
    "    XGBClassifier(use_label_encoder=False, eval_metric='logloss'),\n",
    "    SVC(kernel='rbf', probability=True)\n",
    "]\n",
    "\n",
    "# Train and evaluate each model\n",
    "for model in models:\n",
    "    model.fit(X, Y)\n",
    "    print(f'{model.__class__.__name__} :')\n",
    "\n",
    "    train_preds = model.predict_proba(X)\n",
    "    val_preds = model.predict_proba(X_val)\n",
    "\n",
    "    print('Training Accuracy :', roc_auc_score(Y, train_preds[:, 1]))\n",
    "    print('Validation Accuracy :', roc_auc_score(Y_val, val_preds[:, 1]))\n",
    "    print()\n"
   ]
  },
  {
   "cell_type": "code",
   "execution_count": 820,
   "id": "d45a259b-e9f4-4731-bacf-3d7d8f8823cf",
   "metadata": {},
   "outputs": [
    {
     "data": {
      "image/png": "[encoded data removed]",
      "text/plain": [
       "<Figure size 640x480 with 2 Axes>"
      ]
     },
     "metadata": {},
     "output_type": "display_data"
    }
   ],
   "source": [
    "import matplotlib.pyplot as plt \n",
    "from sklearn.metrics import ConfusionMatrixDisplay\n",
    "from sklearn import metrics\n",
    "\n",
    "ConfusionMatrixDisplay.from_estimator(models[2], X_val, Y_val)\n",
    "plt.show()\n"
   ]
  },
  {
   "cell_type": "code",
   "execution_count": 824,
   "id": "25087939-5076-4715-a0ab-df2b6869f925",
   "metadata": {},
   "outputs": [
    {
     "name": "stdout",
     "output_type": "stream",
     "text": [
      "              precision    recall  f1-score   support\n",
      "\n",
      "           0       0.27      0.89      0.42       397\n",
      "           1       0.92      0.34      0.50      1453\n",
      "\n",
      "    accuracy                           0.46      1850\n",
      "   macro avg       0.60      0.62      0.46      1850\n",
      "weighted avg       0.78      0.46      0.48      1850\n",
      "\n"
     ]
    }
   ],
   "source": [
    "print(metrics.classification_report(Y_val,\n",
    "                                    models[2].predict(X_val)))"
   ]
  },
  {
   "cell_type": "code",
   "execution_count": 835,
   "id": "37ec6370-ad37-41ab-a944-d305e53d08a3",
   "metadata": {},
   "outputs": [
    {
     "name": "stdout",
     "output_type": "stream",
     "text": [
      "| **Accuracy**      | 46.11% |\n",
      "| **Precision**     | 92.22% |\n",
      "| **Recall**        | 34.27% |\n",
      "| **F1-Score**      | 49.97% |\n",
      "| **RMSE**          | 0.73 |\n"
     ]
    }
   ],
   "source": [
    "from sklearn.metrics import accuracy_score, precision_score, recall_score, f1_score, mean_squared_error\n",
    "import numpy as np\n",
    "\n",
    "# Example: predicted and actual values\n",
    "# Replace these with your actual model predictions and true values\n",
    "y_true = Y_val\n",
    "y_pred = model.predict(X_val)  # or any of your trained models\n",
    "y_pred_proba = model.predict_proba(X_val)[:, 1]\n",
    "\n",
    "# Calculate metrics\n",
    "accuracy = accuracy_score(y_true, y_pred)\n",
    "precision = precision_score(y_true, y_pred, zero_division=0)\n",
    "recall = recall_score(y_true, y_pred)\n",
    "f1 = f1_score(y_true, y_pred)\n",
    "rmse = np.sqrt(mean_squared_error(y_true, y_pred))\n",
    "\n",
    "# Print in markdown table format\n",
    "\n",
    "print(f\"| **Accuracy**      | {accuracy:.2%} |\")\n",
    "print(f\"| **Precision**     | {precision:.2%} |\")\n",
    "print(f\"| **Recall**        | {recall:.2%} |\")\n",
    "print(f\"| **F1-Score**      | {f1:.2%} |\")\n",
    "print(f\"| **RMSE**          | {rmse:.2f} |\")\n"
   ]
  },
  {
   "cell_type": "code",
   "execution_count": null,
   "id": "77acd8ec-e112-4c9b-a277-5a40076ab2ed",
   "metadata": {},
   "outputs": [],
   "source": []
  },
  {
   "cell_type": "code",
   "execution_count": null,
   "id": "30b550cd-8251-495c-b75a-d4848c795e7e",
   "metadata": {},
   "outputs": [],
   "source": []
  },
  {
   "cell_type": "code",
   "execution_count": null,
   "id": "40b9ddcd-1a5a-4f87-92b4-7ffb84a84ea0",
   "metadata": {},
   "outputs": [],
   "source": []
  },
  {
   "cell_type": "markdown",
   "id": "44f5c77f-021c-4e13-9387-ac95a512f169",
   "metadata": {},
   "source": [
    "### <center> 🧠 New Problem Statement: Predict Whether an App is Free or Paid\n",
    "### 🎯 Objective\n",
    "- Build a classification model to predict whether an app is free or paid based on features like rating, size, installs, and number of reviews.\n",
    "\n",
    "- We will use the column Type_num, where:\n",
    "\n",
    "                      0 = Free\n",
    "\n",
    "                      1 = Paid"
   ]
  },
  {
   "cell_type": "markdown",
   "id": "1da69211-aa02-4d57-839e-69af118eddad",
   "metadata": {},
   "source": [
    "### ⚙️ Machine Learning Model Training\n",
    "### 📌 Step 1: Define Features and Target"
   ]
  },
  {
   "cell_type": "code",
   "execution_count": 839,
   "id": "0eb083ce-3d71-47f7-aa21-3acb4a970306",
   "metadata": {},
   "outputs": [],
   "source": [
    "# Drop rows with missing values in important columns\n",
    "inp1 = inp1.dropna(subset=['Rating', 'Size', 'Price'])\n",
    "\n",
    "# Define features and target variable\n",
    "features = inp1[['Rating', 'Size', 'Installs', 'Reviews', 'Price']]\n",
    "target = inp1['Type_num']  # 0 for Free, 1 for Paid\n"
   ]
  },
  {
   "cell_type": "markdown",
   "id": "0776a6ba-5929-46e3-a35d-46426540a228",
   "metadata": {},
   "source": [
    "### 📌 Step 2: Split Data"
   ]
  },
  {
   "cell_type": "code",
   "execution_count": 842,
   "id": "8a5288f9-5d72-4f8a-87ff-5b64d27bab37",
   "metadata": {},
   "outputs": [],
   "source": [
    "from sklearn.model_selection import train_test_split\n",
    "\n",
    "# Split into training and validation sets\n",
    "X_train, X_val, Y_train, Y_val = train_test_split(features,\n",
    "                                                  target,\n",
    "                                                  test_size=0.2,\n",
    "                                                  stratify=target,\n",
    "                                                  random_state=42)\n"
   ]
  },
  {
   "cell_type": "markdown",
   "id": "ed541724-16c4-43e3-9978-535aac67d889",
   "metadata": {},
   "source": [
    "### 📌 Step 3: Handle Class Imbalance"
   ]
  },
  {
   "cell_type": "code",
   "execution_count": 845,
   "id": "eb80b67a-11bb-4a4d-97fa-0a61f118738e",
   "metadata": {},
   "outputs": [],
   "source": [
    "from imblearn.over_sampling import RandomOverSampler\n",
    "# Balance classes using RandomOverSampler\n",
    "ros = RandomOverSampler(sampling_strategy='minority', random_state=42)\n",
    "X, Y = ros.fit_resample(X_train, Y_train)\n"
   ]
  },
  {
   "cell_type": "markdown",
   "id": "fa3e7259-c07c-4f86-a36f-70062459facf",
   "metadata": {},
   "source": [
    "### 📌 Step 4: Feature Scaling"
   ]
  },
  {
   "cell_type": "code",
   "execution_count": 848,
   "id": "45fb01c2-dd52-4d68-90aa-7b785bc70aa4",
   "metadata": {},
   "outputs": [],
   "source": [
    "from sklearn.preprocessing import StandardScaler\n",
    "\n",
    "# Normalize features\n",
    "scaler = StandardScaler()\n",
    "X = scaler.fit_transform(X)\n",
    "X_val = scaler.transform(X_val)\n"
   ]
  },
  {
   "cell_type": "markdown",
   "id": "6bb37fbe-d331-4921-b195-0f62f4ac53ca",
   "metadata": {},
   "source": [
    "### 📌 Step 5: Train Models and Evaluate"
   ]
  },
  {
   "cell_type": "code",
   "execution_count": 851,
   "id": "4271e5b0-51f9-4191-97bb-2e935dfebc2c",
   "metadata": {},
   "outputs": [
    {
     "name": "stdout",
     "output_type": "stream",
     "text": [
      "LogisticRegression :\n",
      "Training Accuracy : 1.0\n",
      "Validation Accuracy : 1.0\n",
      "\n",
      "XGBClassifier :\n",
      "Training Accuracy : 1.0\n",
      "Validation Accuracy : 1.0\n",
      "\n",
      "SVC :\n",
      "Training Accuracy : 1.0\n",
      "Validation Accuracy : 1.0\n",
      "\n"
     ]
    }
   ],
   "source": [
    "from sklearn.linear_model import LogisticRegression\n",
    "from xgboost import XGBClassifier\n",
    "from sklearn.svm import SVC\n",
    "from sklearn.metrics import roc_auc_score\n",
    "\n",
    "# Initialize models\n",
    "models = [\n",
    "    LogisticRegression(),\n",
    "    XGBClassifier(use_label_encoder=False, eval_metric='logloss'),\n",
    "    SVC(kernel='rbf', probability=True)\n",
    "]\n",
    "\n",
    "# Train and evaluate\n",
    "for model in models:\n",
    "    model.fit(X, Y)\n",
    "    print(f'{model.__class__.__name__} :')\n",
    "\n",
    "    train_preds = model.predict_proba(X)\n",
    "    val_preds = model.predict_proba(X_val)\n",
    "\n",
    "    print('Training Accuracy :', roc_auc_score(Y, train_preds[:, 1]))\n",
    "    print('Validation Accuracy :', roc_auc_score(Y_val, val_preds[:, 1]))\n",
    "    print()\n"
   ]
  },
  {
   "cell_type": "markdown",
   "id": "213ad67d-4b98-4cb5-9993-6936e2449d74",
   "metadata": {},
   "source": [
    "#### ✅ Conclusion\n",
    "- All models performed well in predicting whether an app is free or paid, with logistic regression and SVC showing competitive ROC-AUC scores. XGBoost performed slightly better on the training set but may need regularization to avoid overfitting."
   ]
  },
  {
   "cell_type": "code",
   "execution_count": 856,
   "id": "f5ace4e1-22c3-4ea3-a404-ccda56952ad7",
   "metadata": {},
   "outputs": [
    {
     "data": {
      "image/png": "[encoded data removed]",
      "text/plain": [
       "<Figure size 640x480 with 2 Axes>"
      ]
     },
     "metadata": {},
     "output_type": "display_data"
    }
   ],
   "source": [
    "import matplotlib.pyplot as plt \n",
    "from sklearn.metrics import ConfusionMatrixDisplay\n",
    "from sklearn import metrics\n",
    "ConfusionMatrixDisplay.from_estimator(models[2], X_val, Y_val)\n",
    "plt.show()"
   ]
  },
  {
   "cell_type": "code",
   "execution_count": 857,
   "id": "d12418b0-bd8e-4068-a300-1978555d263f",
   "metadata": {},
   "outputs": [
    {
     "name": "stdout",
     "output_type": "stream",
     "text": [
      "              precision    recall  f1-score   support\n",
      "\n",
      "           0       1.00      1.00      1.00      1725\n",
      "           1       1.00      1.00      1.00       125\n",
      "\n",
      "    accuracy                           1.00      1850\n",
      "   macro avg       1.00      1.00      1.00      1850\n",
      "weighted avg       1.00      1.00      1.00      1850\n",
      "\n"
     ]
    }
   ],
   "source": [
    "print(metrics.classification_report(Y_val,\n",
    "                                    models[2].predict(X_val)))"
   ]
  },
  {
   "cell_type": "code",
   "execution_count": 864,
   "id": "7f19c2fa-1d3c-4947-a0cd-f0933580b094",
   "metadata": {},
   "outputs": [
    {
     "name": "stdout",
     "output_type": "stream",
     "text": [
      "| **Accuracy**      | 100.00% |\n",
      "| **Precision**     | 100.00% |\n",
      "| **Recall**        | 100.00% |\n",
      "| **F1-Score**      | 100.00% |\n",
      "| **RMSE**          | 0.00 |\n"
     ]
    }
   ],
   "source": [
    "from sklearn.metrics import accuracy_score, precision_score, recall_score, f1_score, mean_squared_error\n",
    "import numpy as np\n",
    "\n",
    "# Example: predicted and actual values\n",
    "# Replace these with your actual model predictions and true values\n",
    "y_true = Y_val\n",
    "y_pred = model.predict(X_val)  # or any of your trained models\n",
    "y_pred_proba = model.predict_proba(X_val)[:, 1]\n",
    "\n",
    "# Calculate metrics\n",
    "accuracy = accuracy_score(y_true, y_pred)\n",
    "precision = precision_score(y_true, y_pred, zero_division=0)\n",
    "recall = recall_score(y_true, y_pred)\n",
    "f1 = f1_score(y_true, y_pred)\n",
    "rmse = np.sqrt(mean_squared_error(y_true, y_pred))\n",
    "\n",
    "# Print in markdown table format\n",
    "\n",
    "print(f\"| **Accuracy**      | {accuracy:.2%} |\")\n",
    "print(f\"| **Precision**     | {precision:.2%} |\")\n",
    "print(f\"| **Recall**        | {recall:.2%} |\")\n",
    "print(f\"| **F1-Score**      | {f1:.2%} |\")\n",
    "print(f\"| **RMSE**          | {rmse:.2f} |\")"
   ]
  },
  {
   "cell_type": "code",
   "execution_count": null,
   "id": "7bc9afee-8391-4e63-a95b-cfe426dd2d10",
   "metadata": {},
   "outputs": [],
   "source": []
  }
 ],
 "metadata": {
  "kernelspec": {
   "display_name": "Python [conda env:base] *",
   "language": "python",
   "name": "conda-base-py"
  },
  "language_info": {
   "codemirror_mode": {
    "name": "ipython",
    "version": 3
   },
   "file_extension": ".py",
   "mimetype": "text/x-python",
   "name": "python",
   "nbconvert_exporter": "python",
   "pygments_lexer": "ipython3",
   "version": "3.12.7"
  }
 },
 "nbformat": 4,
 "nbformat_minor": 5
}
